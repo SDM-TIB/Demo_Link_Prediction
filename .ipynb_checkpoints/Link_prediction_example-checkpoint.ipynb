{
 "cells": [
  {
   "cell_type": "markdown",
   "metadata": {
    "id": "lguvsQahZRE1"
   },
   "source": [
    "**Link Prediction task over Industry 4.0 Knowledge Graph**\n",
    "\n",
    "> Building an Embedding model\n",
    "*   Evaluating results\n",
    "*   sLCWA vs LCWA\n",
    "\n",
    "> Link Prediction\n",
    "*   Head prediction\n",
    "*   Tail prediction\n",
    "*   All prediction\n",
    "\n",
    "> \"Selection strategies ... \"\n",
    "\n",
    "> Unsupervised learning\n",
    "*   Save Learned Embeddings\n",
    "*   Apply cluster Algorithm: KMeans\n",
    "*   Select the optimal number of clusters\n",
    "*   Visualize PCA Projection to 2D\n",
    "\n",
    "\n",
    "\n",
    "\n",
    "\n",
    "\n",
    "\n"
   ]
  },
  {
   "cell_type": "markdown",
   "metadata": {
    "id": "8SMaRTl5V-gy"
   },
   "source": [
    "Git clone\n",
    "\n"
   ]
  },
  {
   "cell_type": "code",
   "execution_count": 1,
   "metadata": {
    "colab": {
     "base_uri": "https://localhost:8080/"
    },
    "id": "W2qs94M8HDp1",
    "outputId": "2b7b2015-5fd9-4679-9a0a-f73943d97dfe"
   },
   "outputs": [
    {
     "name": "stdout",
     "output_type": "stream",
     "text": [
      "Cloning into 'Demo_Link_Prediction'...\n",
      "remote: Enumerating objects: 86, done.\u001b[K\n",
      "remote: Counting objects: 100% (86/86), done.\u001b[K\n",
      "remote: Compressing objects: 100% (59/59), done.\u001b[K\n",
      "remote: Total 86 (delta 40), reused 62 (delta 19), pack-reused 0\u001b[K\n",
      "Unpacking objects: 100% (86/86), done.\n"
     ]
    }
   ],
   "source": [
    "!git clone https://github.com/SDM-TIB/Demo_Link_Prediction.git"
   ]
  },
  {
   "cell_type": "markdown",
   "metadata": {
    "id": "YAbi_LhDWMvJ"
   },
   "source": [
    "### **Install Pykeen**"
   ]
  },
  {
   "cell_type": "code",
   "execution_count": 1,
   "metadata": {
    "id": "5oyPv9yn9aL8"
   },
   "outputs": [],
   "source": [
    "%%capture \n",
    "!pip install pykeen\n",
    "from pkg_resources import require\n",
    "require('pykeen')\n",
    "!pip install rdflib"
   ]
  },
  {
   "cell_type": "markdown",
   "metadata": {
    "id": "7BbIsfsoW39a"
   },
   "source": [
    "Loading auxiliary methods"
   ]
  },
  {
   "cell_type": "code",
   "execution_count": 2,
   "metadata": {
    "colab": {
     "base_uri": "https://localhost:8080/"
    },
    "id": "Xj96AnRYJe3i",
    "outputId": "eb325fb3-46a1-4562-8019-9ebd30aad23a"
   },
   "outputs": [
    {
     "name": "stdout",
     "output_type": "stream",
     "text": [
      "/content/Demo_Link_Prediction\n"
     ]
    }
   ],
   "source": [
    "%cd Demo_Link_Prediction\n",
    "from Demo_Link_Prediction import Auxiliary"
   ]
  },
  {
   "cell_type": "markdown",
   "metadata": {
    "id": "xsT8UY0zLgE6"
   },
   "source": [
    "### Load dataset I4.0 KG"
   ]
  },
  {
   "cell_type": "markdown",
   "metadata": {
    "id": "tcU_xHSem_x_"
   },
   "source": [
    "**I4.0KG**"
   ]
  },
  {
   "cell_type": "markdown",
   "metadata": {
    "id": "2lm9ZgpyfZIV"
   },
   "source": [
    "![I4.0KG](https://raw.githubusercontent.com/SDM-TIB/Demo_Link_Prediction/main/sto_motivating_example.png)"
   ]
  },
  {
   "cell_type": "code",
   "execution_count": 3,
   "metadata": {
    "colab": {
     "base_uri": "https://localhost:8080/"
    },
    "id": "JNrxWktD9acS",
    "outputId": "ea178596-ea6c-4b57-cfad-e47659aaa4d5"
   },
   "outputs": [
    {
     "name": "stderr",
     "output_type": "stream",
     "text": [
      "/content/Demo_Link_Prediction/Auxiliary.py:22: VisibleDeprecationWarning: Creating an ndarray from ragged nested sequences (which is a list-or-tuple of lists-or-tuples-or ndarrays with different lengths or shapes) is deprecated. If you meant to do this, you must specify 'dtype=object' when creating the ndarray\n",
      "  data = np.array([triple.split(' ')[:-1] for triple in triple_data.split('\\n')])  # removing ' .'\n"
     ]
    },
    {
     "name": "stdout",
     "output_type": "stream",
     "text": [
      "The first two triples:\n",
      " [['<http://www.w3.org/1999/02/22-rdf-syntax-ns#value>'\n",
      "  '<http://www.w3.org/1999/02/22-rdf-syntax-ns#type>'\n",
      "  '<http://www.w3.org/2002/07/owl#AnnotationProperty>']\n",
      " ['<http://www.w3.org/2001/XMLSchema#gYear>'\n",
      "  '<http://www.w3.org/1999/02/22-rdf-syntax-ns#type>'\n",
      "  '<http://www.w3.org/2000/01/rdf-schema#Datatype>']]\n"
     ]
    },
    {
     "data": {
      "text/plain": [
       "TriplesFactory(num_entities=8947, num_relations=107, num_triples=43475, inverse_triples=False)"
      ]
     },
     "execution_count": 3,
     "metadata": {},
     "output_type": "execute_result"
    }
   ],
   "source": [
    "file_name = 'sto-enriched-relatedTo.nt'\n",
    "tf_data, triple_data = Auxiliary.load_dataset(file_name)\n",
    "print('The first two triples:\\n', triple_data[:2])\n",
    "tf_data"
   ]
  },
  {
   "cell_type": "markdown",
   "metadata": {
    "id": "moYVrLOLLlb0"
   },
   "source": [
    "Create training and testing set"
   ]
  },
  {
   "cell_type": "code",
   "execution_count": 4,
   "metadata": {
    "id": "lcSHTFx49afG"
   },
   "outputs": [],
   "source": [
    "training, testing = tf_data.split(random_state=1234)"
   ]
  },
  {
   "cell_type": "markdown",
   "metadata": {
    "id": "DDBUAlhULsL6"
   },
   "source": [
    "###**Building the model**"
   ]
  },
  {
   "cell_type": "markdown",
   "metadata": {
    "id": "CCUm0xDaXBhM"
   },
   "source": [
    "sLCWA: a random subset of the union of the head and tail generation strategies from LCWA are considered as negative triples."
   ]
  },
  {
   "cell_type": "code",
   "execution_count": 5,
   "metadata": {
    "colab": {
     "base_uri": "https://localhost:8080/",
     "height": 133,
     "referenced_widgets": [
      "927a64ee5c6845f2bd21d9bfad94dc19",
      "f891d88dd8834e75920473b3f5743804",
      "0213b485a1da406ba8bc92d79e6419f0",
      "8feeb2f910d74fc89c96c753ffb98bce",
      "f9fbf745f5f3455d8a0dfc9a06e215b3",
      "e58d9c8bfbe6462d9708182ff2330239",
      "d9e26b1459ba47bc8e0eb85158aec5be",
      "519e4e718ab84cfaa5dfdbd153a46517",
      "56a20668352d49db91cf4c8939393dc4",
      "bed178b1e6cc462f8d774431032b0aa2",
      "d0e3f7abafdd4858bb4f3390fab79151",
      "e2b67f14a33647e5a0aa3bc3a84ddf3a",
      "e26350e29e8b41939969662c690b9bf9",
      "0555ac6ba05c489b8506aa3d80681d88",
      "09d37cab1395415ca4f11d94e9628983",
      "d3770495ceda4cdfb5d1a4b626df4d80",
      "af87f39dc3eb4c2c89d55590eb3146ed",
      "a3555681e58a4bcdb76ff83c1768cb7f",
      "3ba05351adc947c594b213bdcc4a7311",
      "650bf0b17f1145b48b2a63c08b96ceff",
      "64766fdd672344fa8dce51c2a23be45c",
      "247b31d184ae45d8a40d4506568e642a"
     ]
    },
    "id": "_5iH9Scy9aiT",
    "outputId": "2fcf4325-49b5-4755-8441-82fa3d6f502a"
   },
   "outputs": [
    {
     "data": {
      "application/vnd.jupyter.widget-view+json": {
       "model_id": "927a64ee5c6845f2bd21d9bfad94dc19",
       "version_major": 2,
       "version_minor": 0
      },
      "text/plain": [
       "Training epochs on cpu:   0%|          | 0/10 [00:00<?, ?epoch/s]"
      ]
     },
     "metadata": {},
     "output_type": "display_data"
    },
    {
     "name": "stderr",
     "output_type": "stream",
     "text": [
      "INFO:pykeen.evaluation.evaluator:Currently automatic memory optimization only supports GPUs, but you're using a CPU. Therefore, the batch_size will be set to the default value.\n",
      "INFO:pykeen.evaluation.evaluator:No evaluation batch_size provided. Setting batch_size to '32'.\n"
     ]
    },
    {
     "data": {
      "application/vnd.jupyter.widget-view+json": {
       "model_id": "e2b67f14a33647e5a0aa3bc3a84ddf3a",
       "version_major": 2,
       "version_minor": 0
      },
      "text/plain": [
       "Evaluating on cpu:   0%|          | 0.00/8.70k [00:00<?, ?triple/s]"
      ]
     },
     "metadata": {},
     "output_type": "display_data"
    },
    {
     "name": "stderr",
     "output_type": "stream",
     "text": [
      "INFO:pykeen.evaluation.evaluator:Evaluation took 166.30s seconds\n"
     ]
    }
   ],
   "source": [
    "model_name = 'MuRE' # MuRE, TransR\n",
    "training_loops = 'sLCWA'\n",
    "epoch = 10\n",
    "model, results = Auxiliary.create_model(training, testing, model_name, epoch, training_loops,'results_I4.0/')"
   ]
  },
  {
   "cell_type": "markdown",
   "metadata": {
    "id": "fotsEBxzLz2b"
   },
   "source": [
    "#### **Evaluating the Results**"
   ]
  },
  {
   "cell_type": "markdown",
   "metadata": {
    "id": "NUVprS4eP_aG"
   },
   "source": [
    "**Plot a specific set of entities and relations**"
   ]
  },
  {
   "cell_type": "code",
   "execution_count": 6,
   "metadata": {
    "colab": {
     "base_uri": "https://localhost:8080/",
     "height": 664
    },
    "id": "V-YMm2cLy1I0",
    "outputId": "a8d90c69-80e7-4ab7-983f-65af444d773e"
   },
   "outputs": [
    {
     "ename": "AttributeError",
     "evalue": "ignored",
     "output_type": "error",
     "traceback": [
      "\u001b[0;31m---------------------------------------------------------------------------\u001b[0m",
      "\u001b[0;31mAttributeError\u001b[0m                            Traceback (most recent call last)",
      "\u001b[0;32m<ipython-input-6-755a9fb54b78>\u001b[0m in \u001b[0;36m<module>\u001b[0;34m()\u001b[0m\n\u001b[0;32m----> 1\u001b[0;31m \u001b[0mresults\u001b[0m\u001b[0;34m.\u001b[0m\u001b[0mplot_er\u001b[0m\u001b[0;34m(\u001b[0m\u001b[0mplot_relations\u001b[0m\u001b[0;34m=\u001b[0m\u001b[0;32mFalse\u001b[0m\u001b[0;34m,\u001b[0m \u001b[0mentities\u001b[0m\u001b[0;34m=\u001b[0m\u001b[0;34m{\u001b[0m\u001b[0;34m'<https://w3id.org/i40/sto#relatedTo>'\u001b[0m\u001b[0;34m,\u001b[0m \u001b[0;34m'<https://w3id.org/i40/sto#hasClassification>'\u001b[0m\u001b[0;34m,\u001b[0m \u001b[0;34m'<https://w3id.org/i40/sto#IEC_61850_P7_S3_E1>'\u001b[0m\u001b[0;34m,\u001b[0m \u001b[0;34m'<https://w3id.org/i40/sto#ISO_TS_14649-201>'\u001b[0m\u001b[0;34m,\u001b[0m \u001b[0;34m'<https://w3id.org/i40/sto#ISO_24760>'\u001b[0m\u001b[0;34m,\u001b[0m \u001b[0;34m'<https://w3id.org/i40/sto#IEC_62237>'\u001b[0m\u001b[0;34m,\u001b[0m \u001b[0;34m'<https://w3id.org/i40/sto#ISO_15746>'\u001b[0m\u001b[0;34m}\u001b[0m\u001b[0;34m)\u001b[0m\u001b[0;34m\u001b[0m\u001b[0;34m\u001b[0m\u001b[0m\n\u001b[0m",
      "\u001b[0;32m/usr/local/lib/python3.7/dist-packages/pykeen/pipeline/api.py\u001b[0m in \u001b[0;36mplot_er\u001b[0;34m(self, **kwargs)\u001b[0m\n\u001b[1;32m    310\u001b[0m         \"\"\"\n\u001b[1;32m    311\u001b[0m         \u001b[0;32mfrom\u001b[0m \u001b[0;34m.\u001b[0m\u001b[0mplot_utils\u001b[0m \u001b[0;32mimport\u001b[0m \u001b[0mplot_er\u001b[0m\u001b[0;34m\u001b[0m\u001b[0;34m\u001b[0m\u001b[0m\n\u001b[0;32m--> 312\u001b[0;31m         \u001b[0;32mreturn\u001b[0m \u001b[0mplot_er\u001b[0m\u001b[0;34m(\u001b[0m\u001b[0mself\u001b[0m\u001b[0;34m,\u001b[0m \u001b[0;34m**\u001b[0m\u001b[0mkwargs\u001b[0m\u001b[0;34m)\u001b[0m\u001b[0;34m\u001b[0m\u001b[0;34m\u001b[0m\u001b[0m\n\u001b[0m\u001b[1;32m    313\u001b[0m \u001b[0;34m\u001b[0m\u001b[0m\n\u001b[1;32m    314\u001b[0m     \u001b[0;32mdef\u001b[0m \u001b[0mplot\u001b[0m\u001b[0;34m(\u001b[0m\u001b[0mself\u001b[0m\u001b[0;34m,\u001b[0m \u001b[0;34m**\u001b[0m\u001b[0mkwargs\u001b[0m\u001b[0;34m)\u001b[0m\u001b[0;34m:\u001b[0m\u001b[0;34m\u001b[0m\u001b[0;34m\u001b[0m\u001b[0m\n",
      "\u001b[0;32m/usr/local/lib/python3.7/dist-packages/pykeen/pipeline/plot_utils.py\u001b[0m in \u001b[0;36mplot_er\u001b[0;34m(pipeline_result, model, entities, relations, apply_limits, margin, plot_entities, plot_relations, annotation_x_offset, annotation_y_offset, entity_embedding_getter, relation_embedding_getter, ax, **kwargs)\u001b[0m\n\u001b[1;32m    160\u001b[0m         \u001b[0mymin\u001b[0m \u001b[0;34m=\u001b[0m \u001b[0mr_embeddings\u001b[0m\u001b[0;34m[\u001b[0m\u001b[0;34m:\u001b[0m\u001b[0;34m,\u001b[0m \u001b[0;36m1\u001b[0m\u001b[0;34m]\u001b[0m\u001b[0;34m.\u001b[0m\u001b[0mmin\u001b[0m\u001b[0;34m(\u001b[0m\u001b[0;34m)\u001b[0m \u001b[0;34m-\u001b[0m \u001b[0mmargin\u001b[0m\u001b[0;34m\u001b[0m\u001b[0;34m\u001b[0m\u001b[0m\n\u001b[1;32m    161\u001b[0m     \u001b[0;32melif\u001b[0m \u001b[0mplot_entities\u001b[0m\u001b[0;34m:\u001b[0m\u001b[0;34m\u001b[0m\u001b[0;34m\u001b[0m\u001b[0m\n\u001b[0;32m--> 162\u001b[0;31m         \u001b[0me_embeddings\u001b[0m\u001b[0;34m,\u001b[0m \u001b[0me_reduced\u001b[0m \u001b[0;34m=\u001b[0m \u001b[0m_reduce_embeddings\u001b[0m\u001b[0;34m(\u001b[0m\u001b[0mentity_embedding_getter\u001b[0m\u001b[0;34m(\u001b[0m\u001b[0mpipeline_result\u001b[0m\u001b[0;34m.\u001b[0m\u001b[0mmodel\u001b[0m\u001b[0;34m)\u001b[0m\u001b[0;34m,\u001b[0m \u001b[0mreducer\u001b[0m\u001b[0;34m,\u001b[0m \u001b[0mfit\u001b[0m\u001b[0;34m=\u001b[0m\u001b[0;32mTrue\u001b[0m\u001b[0;34m)\u001b[0m\u001b[0;34m\u001b[0m\u001b[0;34m\u001b[0m\u001b[0m\n\u001b[0m\u001b[1;32m    163\u001b[0m         \u001b[0mr_embeddings\u001b[0m\u001b[0;34m,\u001b[0m \u001b[0mr_reduced\u001b[0m \u001b[0;34m=\u001b[0m \u001b[0;32mNone\u001b[0m\u001b[0;34m,\u001b[0m \u001b[0;32mFalse\u001b[0m\u001b[0;34m\u001b[0m\u001b[0;34m\u001b[0m\u001b[0m\n\u001b[1;32m    164\u001b[0m \u001b[0;34m\u001b[0m\u001b[0m\n",
      "\u001b[0;32m/usr/local/lib/python3.7/dist-packages/pykeen/pipeline/plot_utils.py\u001b[0m in \u001b[0;36m_default_entity_embedding_getter\u001b[0;34m(m)\u001b[0m\n\u001b[1;32m     59\u001b[0m \u001b[0;34m\u001b[0m\u001b[0m\n\u001b[1;32m     60\u001b[0m \u001b[0;32mdef\u001b[0m \u001b[0m_default_entity_embedding_getter\u001b[0m\u001b[0;34m(\u001b[0m\u001b[0mm\u001b[0m\u001b[0;34m)\u001b[0m \u001b[0;34m->\u001b[0m \u001b[0mEmbedding\u001b[0m\u001b[0;34m:\u001b[0m\u001b[0;34m\u001b[0m\u001b[0;34m\u001b[0m\u001b[0m\n\u001b[0;32m---> 61\u001b[0;31m     \u001b[0;32mreturn\u001b[0m \u001b[0mm\u001b[0m\u001b[0;34m.\u001b[0m\u001b[0mentity_embeddings\u001b[0m\u001b[0;34m\u001b[0m\u001b[0;34m\u001b[0m\u001b[0m\n\u001b[0m\u001b[1;32m     62\u001b[0m \u001b[0;34m\u001b[0m\u001b[0m\n\u001b[1;32m     63\u001b[0m \u001b[0;34m\u001b[0m\u001b[0m\n",
      "\u001b[0;32m/usr/local/lib/python3.7/dist-packages/torch/nn/modules/module.py\u001b[0m in \u001b[0;36m__getattr__\u001b[0;34m(self, name)\u001b[0m\n\u001b[1;32m   1176\u001b[0m                 \u001b[0;32mreturn\u001b[0m \u001b[0mmodules\u001b[0m\u001b[0;34m[\u001b[0m\u001b[0mname\u001b[0m\u001b[0;34m]\u001b[0m\u001b[0;34m\u001b[0m\u001b[0;34m\u001b[0m\u001b[0m\n\u001b[1;32m   1177\u001b[0m         raise AttributeError(\"'{}' object has no attribute '{}'\".format(\n\u001b[0;32m-> 1178\u001b[0;31m             type(self).__name__, name))\n\u001b[0m\u001b[1;32m   1179\u001b[0m \u001b[0;34m\u001b[0m\u001b[0m\n\u001b[1;32m   1180\u001b[0m     \u001b[0;32mdef\u001b[0m \u001b[0m__setattr__\u001b[0m\u001b[0;34m(\u001b[0m\u001b[0mself\u001b[0m\u001b[0;34m,\u001b[0m \u001b[0mname\u001b[0m\u001b[0;34m:\u001b[0m \u001b[0mstr\u001b[0m\u001b[0;34m,\u001b[0m \u001b[0mvalue\u001b[0m\u001b[0;34m:\u001b[0m \u001b[0mUnion\u001b[0m\u001b[0;34m[\u001b[0m\u001b[0mTensor\u001b[0m\u001b[0;34m,\u001b[0m \u001b[0;34m'Module'\u001b[0m\u001b[0;34m]\u001b[0m\u001b[0;34m)\u001b[0m \u001b[0;34m->\u001b[0m \u001b[0;32mNone\u001b[0m\u001b[0;34m:\u001b[0m\u001b[0;34m\u001b[0m\u001b[0;34m\u001b[0m\u001b[0m\n",
      "\u001b[0;31mAttributeError\u001b[0m: 'MuRE' object has no attribute 'entity_embeddings'"
     ]
    },
    {
     "data": {
      "image/png": "[encoded data removed]",
      "text/plain": [
       "<Figure size 576x396 with 1 Axes>"
      ]
     },
     "metadata": {},
     "output_type": "display_data"
    }
   ],
   "source": [
    "results.plot_er(plot_relations=False, entities={'<https://w3id.org/i40/sto#relatedTo>', '<https://w3id.org/i40/sto#hasClassification>', '<https://w3id.org/i40/sto#IEC_61850_P7_S3_E1>', '<https://w3id.org/i40/sto#ISO_TS_14649-201>', '<https://w3id.org/i40/sto#ISO_24760>', '<https://w3id.org/i40/sto#IEC_62237>', '<https://w3id.org/i40/sto#ISO_15746>'})"
   ]
  },
  {
   "cell_type": "markdown",
   "metadata": {
    "id": "FcWblhVuQJIv"
   },
   "source": [
    "**Plot losses**"
   ]
  },
  {
   "cell_type": "code",
   "execution_count": 7,
   "metadata": {
    "colab": {
     "base_uri": "https://localhost:8080/",
     "height": 394
    },
    "id": "RcvWzfst9ak4",
    "outputId": "7fec33b0-aef3-49f5-d0fb-d4fe38489d3f"
   },
   "outputs": [
    {
     "data": {
      "text/plain": [
       "<matplotlib.axes._subplots.AxesSubplot at 0x7f02103ebf10>"
      ]
     },
     "execution_count": 7,
     "metadata": {},
     "output_type": "execute_result"
    },
    {
     "data": {
      "image/png": "[encoded data removed]",
      "text/plain": [
       "<Figure size 576x396 with 1 Axes>"
      ]
     },
     "metadata": {},
     "output_type": "display_data"
    }
   ],
   "source": [
    "results.plot_losses()"
   ]
  },
  {
   "cell_type": "markdown",
   "metadata": {
    "id": "fpXpVLj4QlZ0"
   },
   "source": [
    "**Metric results**"
   ]
  },
  {
   "cell_type": "markdown",
   "metadata": {
    "id": "kM4n1LG9MZx-"
   },
   "source": [
    "- adjusted mean rank is between [0, 2]. Lower is better.\n",
    "- mean rank is a positive integer, with a bound based on the number of entities. Lower is better!\n",
    "- hits@k is reported between [0, 1] and interpreted as a percentage. Higher is better!"
   ]
  },
  {
   "cell_type": "code",
   "execution_count": 8,
   "metadata": {
    "colab": {
     "base_uri": "https://localhost:8080/",
     "height": 617
    },
    "id": "3QlyatVS9anR",
    "outputId": "09bc6dcf-e2be-4aa2-b0c2-d1e90a3b3118"
   },
   "outputs": [
    {
     "name": "stdout",
     "output_type": "stream",
     "text": [
      "Side: ['both' 'head' 'tail'] \n",
      "Type: ['pessimistic' 'realistic' 'optimistic']\n"
     ]
    },
    {
     "data": {
      "text/html": [
       "<div>\n",
       "<style scoped>\n",
       "    .dataframe tbody tr th:only-of-type {\n",
       "        vertical-align: middle;\n",
       "    }\n",
       "\n",
       "    .dataframe tbody tr th {\n",
       "        vertical-align: top;\n",
       "    }\n",
       "\n",
       "    .dataframe thead th {\n",
       "        text-align: right;\n",
       "    }\n",
       "</style>\n",
       "<table border=\"1\" class=\"dataframe\">\n",
       "  <thead>\n",
       "    <tr style=\"text-align: right;\">\n",
       "      <th></th>\n",
       "      <th>Side</th>\n",
       "      <th>Type</th>\n",
       "      <th>Metric</th>\n",
       "      <th>Value</th>\n",
       "    </tr>\n",
       "  </thead>\n",
       "  <tbody>\n",
       "    <tr>\n",
       "      <th>15</th>\n",
       "      <td>both</td>\n",
       "      <td>realistic</td>\n",
       "      <td>hits_at_1</td>\n",
       "      <td>0.689477</td>\n",
       "    </tr>\n",
       "    <tr>\n",
       "      <th>16</th>\n",
       "      <td>both</td>\n",
       "      <td>realistic</td>\n",
       "      <td>hits_at_3</td>\n",
       "      <td>0.721852</td>\n",
       "    </tr>\n",
       "    <tr>\n",
       "      <th>17</th>\n",
       "      <td>both</td>\n",
       "      <td>realistic</td>\n",
       "      <td>hits_at_5</td>\n",
       "      <td>0.737550</td>\n",
       "    </tr>\n",
       "    <tr>\n",
       "      <th>18</th>\n",
       "      <td>both</td>\n",
       "      <td>realistic</td>\n",
       "      <td>hits_at_10</td>\n",
       "      <td>0.764807</td>\n",
       "    </tr>\n",
       "    <tr>\n",
       "      <th>19</th>\n",
       "      <td>both</td>\n",
       "      <td>realistic</td>\n",
       "      <td>arithmetic_mean_rank</td>\n",
       "      <td>44.114807</td>\n",
       "    </tr>\n",
       "    <tr>\n",
       "      <th>20</th>\n",
       "      <td>both</td>\n",
       "      <td>realistic</td>\n",
       "      <td>geometric_mean_rank</td>\n",
       "      <td>3.118876</td>\n",
       "    </tr>\n",
       "    <tr>\n",
       "      <th>21</th>\n",
       "      <td>both</td>\n",
       "      <td>realistic</td>\n",
       "      <td>median_rank</td>\n",
       "      <td>1.000000</td>\n",
       "    </tr>\n",
       "    <tr>\n",
       "      <th>22</th>\n",
       "      <td>both</td>\n",
       "      <td>realistic</td>\n",
       "      <td>harmonic_mean_rank</td>\n",
       "      <td>1.396680</td>\n",
       "    </tr>\n",
       "    <tr>\n",
       "      <th>23</th>\n",
       "      <td>both</td>\n",
       "      <td>realistic</td>\n",
       "      <td>inverse_arithmetic_mean_rank</td>\n",
       "      <td>0.022668</td>\n",
       "    </tr>\n",
       "    <tr>\n",
       "      <th>24</th>\n",
       "      <td>both</td>\n",
       "      <td>realistic</td>\n",
       "      <td>inverse_geometric_mean_rank</td>\n",
       "      <td>0.320628</td>\n",
       "    </tr>\n",
       "    <tr>\n",
       "      <th>25</th>\n",
       "      <td>both</td>\n",
       "      <td>realistic</td>\n",
       "      <td>inverse_harmonic_mean_rank</td>\n",
       "      <td>0.715984</td>\n",
       "    </tr>\n",
       "    <tr>\n",
       "      <th>26</th>\n",
       "      <td>both</td>\n",
       "      <td>realistic</td>\n",
       "      <td>inverse_median_rank</td>\n",
       "      <td>1.000000</td>\n",
       "    </tr>\n",
       "    <tr>\n",
       "      <th>27</th>\n",
       "      <td>both</td>\n",
       "      <td>realistic</td>\n",
       "      <td>rank_std</td>\n",
       "      <td>246.562773</td>\n",
       "    </tr>\n",
       "    <tr>\n",
       "      <th>28</th>\n",
       "      <td>both</td>\n",
       "      <td>realistic</td>\n",
       "      <td>rank_var</td>\n",
       "      <td>60793.200980</td>\n",
       "    </tr>\n",
       "    <tr>\n",
       "      <th>29</th>\n",
       "      <td>both</td>\n",
       "      <td>realistic</td>\n",
       "      <td>rank_mad</td>\n",
       "      <td>0.000000</td>\n",
       "    </tr>\n",
       "    <tr>\n",
       "      <th>30</th>\n",
       "      <td>both</td>\n",
       "      <td>realistic</td>\n",
       "      <td>adjusted_arithmetic_mean_rank</td>\n",
       "      <td>0.009996</td>\n",
       "    </tr>\n",
       "    <tr>\n",
       "      <th>31</th>\n",
       "      <td>both</td>\n",
       "      <td>realistic</td>\n",
       "      <td>adjusted_arithmetic_mean_rank_index</td>\n",
       "      <td>0.990228</td>\n",
       "    </tr>\n",
       "  </tbody>\n",
       "</table>\n",
       "</div>"
      ],
      "text/plain": [
       "    Side       Type                               Metric         Value\n",
       "15  both  realistic                            hits_at_1      0.689477\n",
       "16  both  realistic                            hits_at_3      0.721852\n",
       "17  both  realistic                            hits_at_5      0.737550\n",
       "18  both  realistic                           hits_at_10      0.764807\n",
       "19  both  realistic                 arithmetic_mean_rank     44.114807\n",
       "20  both  realistic                  geometric_mean_rank      3.118876\n",
       "21  both  realistic                          median_rank      1.000000\n",
       "22  both  realistic                   harmonic_mean_rank      1.396680\n",
       "23  both  realistic         inverse_arithmetic_mean_rank      0.022668\n",
       "24  both  realistic          inverse_geometric_mean_rank      0.320628\n",
       "25  both  realistic           inverse_harmonic_mean_rank      0.715984\n",
       "26  both  realistic                  inverse_median_rank      1.000000\n",
       "27  both  realistic                             rank_std    246.562773\n",
       "28  both  realistic                             rank_var  60793.200980\n",
       "29  both  realistic                             rank_mad      0.000000\n",
       "30  both  realistic        adjusted_arithmetic_mean_rank      0.009996\n",
       "31  both  realistic  adjusted_arithmetic_mean_rank_index      0.990228"
      ]
     },
     "execution_count": 8,
     "metadata": {},
     "output_type": "execute_result"
    }
   ],
   "source": [
    "metrics = results.metric_results.to_df()\n",
    "print('Side:', metrics.Side.unique(), '\\nType:', metrics.Type.unique())\n",
    "metrics.loc[(metrics.Side=='both') & (metrics.Type=='realistic')]"
   ]
  },
  {
   "cell_type": "markdown",
   "metadata": {
    "id": "JFAtvH_cJeHU"
   },
   "source": [
    "#### **Local Closed World Assumption (LCWA)**.\n",
    "A particular subset of triples that are not part of the knowledge graph are considered as negative.\n",
    "![image.png](data:image/png;base64,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)"
   ]
  },
  {
   "cell_type": "markdown",
   "metadata": {
    "id": "fnBqBYVFLanA"
   },
   "source": [
    "**Load a model**"
   ]
  },
  {
   "cell_type": "code",
   "execution_count": 8,
   "metadata": {
    "id": "hR7QvjpdJBsG"
   },
   "outputs": [],
   "source": [
    "import torch\n",
    "import pandas as pd\n",
    "model_name='MuRE' # TransR, MuRE\n",
    "model_lcwa = torch.load('results_I4.0/LCWA/' + model_name + '/trained_model.pkl')"
   ]
  },
  {
   "cell_type": "markdown",
   "metadata": {
    "id": "vkS77vbhQ2dR"
   },
   "source": [
    "**Metric results**"
   ]
  },
  {
   "cell_type": "markdown",
   "metadata": {
    "id": "vZVAIH5OQ2dU"
   },
   "source": [
    "- adjusted mean rank is between [0, 2]. Lower is better.\n",
    "- mean rank is a positive integer, with a bound based on the number of entities. Lower is better!\n",
    "- hits@k is reported between [0, 1] and interpreted as a percentage. Higher is better!"
   ]
  },
  {
   "cell_type": "code",
   "execution_count": 9,
   "metadata": {
    "colab": {
     "base_uri": "https://localhost:8080/",
     "height": 617
    },
    "id": "i0eAdZJtQ2dY",
    "outputId": "723b7aac-5fbf-42e6-c075-b1adfc6cb9e6"
   },
   "outputs": [
    {
     "name": "stdout",
     "output_type": "stream",
     "text": [
      "Side: ['head' 'both' 'tail'] \n",
      "Type: ['realistic' 'pessimistic' 'optimistic']\n"
     ]
    },
    {
     "data": {
      "text/html": [
       "<div>\n",
       "<style scoped>\n",
       "    .dataframe tbody tr th:only-of-type {\n",
       "        vertical-align: middle;\n",
       "    }\n",
       "\n",
       "    .dataframe tbody tr th {\n",
       "        vertical-align: top;\n",
       "    }\n",
       "\n",
       "    .dataframe thead th {\n",
       "        text-align: right;\n",
       "    }\n",
       "</style>\n",
       "<table border=\"1\" class=\"dataframe\">\n",
       "  <thead>\n",
       "    <tr style=\"text-align: right;\">\n",
       "      <th></th>\n",
       "      <th>Side</th>\n",
       "      <th>Type</th>\n",
       "      <th>Metric</th>\n",
       "      <th>Value</th>\n",
       "    </tr>\n",
       "  </thead>\n",
       "  <tbody>\n",
       "    <tr>\n",
       "      <th>47</th>\n",
       "      <td>both</td>\n",
       "      <td>realistic</td>\n",
       "      <td>hits_at_1</td>\n",
       "      <td>3.841863e-01</td>\n",
       "    </tr>\n",
       "    <tr>\n",
       "      <th>48</th>\n",
       "      <td>both</td>\n",
       "      <td>realistic</td>\n",
       "      <td>hits_at_3</td>\n",
       "      <td>4.099482e-01</td>\n",
       "    </tr>\n",
       "    <tr>\n",
       "      <th>49</th>\n",
       "      <td>both</td>\n",
       "      <td>realistic</td>\n",
       "      <td>hits_at_5</td>\n",
       "      <td>4.255894e-01</td>\n",
       "    </tr>\n",
       "    <tr>\n",
       "      <th>50</th>\n",
       "      <td>both</td>\n",
       "      <td>realistic</td>\n",
       "      <td>hits_at_10</td>\n",
       "      <td>4.490512e-01</td>\n",
       "    </tr>\n",
       "    <tr>\n",
       "      <th>51</th>\n",
       "      <td>both</td>\n",
       "      <td>realistic</td>\n",
       "      <td>arithmetic_mean_rank</td>\n",
       "      <td>9.201902e+02</td>\n",
       "    </tr>\n",
       "    <tr>\n",
       "      <th>52</th>\n",
       "      <td>both</td>\n",
       "      <td>realistic</td>\n",
       "      <td>geometric_mean_rank</td>\n",
       "      <td>3.345605e+01</td>\n",
       "    </tr>\n",
       "    <tr>\n",
       "      <th>53</th>\n",
       "      <td>both</td>\n",
       "      <td>realistic</td>\n",
       "      <td>median_rank</td>\n",
       "      <td>4.000000e+01</td>\n",
       "    </tr>\n",
       "    <tr>\n",
       "      <th>54</th>\n",
       "      <td>both</td>\n",
       "      <td>realistic</td>\n",
       "      <td>harmonic_mean_rank</td>\n",
       "      <td>2.458881e+00</td>\n",
       "    </tr>\n",
       "    <tr>\n",
       "      <th>55</th>\n",
       "      <td>both</td>\n",
       "      <td>realistic</td>\n",
       "      <td>inverse_arithmetic_mean_rank</td>\n",
       "      <td>1.086732e-03</td>\n",
       "    </tr>\n",
       "    <tr>\n",
       "      <th>56</th>\n",
       "      <td>both</td>\n",
       "      <td>realistic</td>\n",
       "      <td>inverse_geometric_mean_rank</td>\n",
       "      <td>2.988996e-02</td>\n",
       "    </tr>\n",
       "    <tr>\n",
       "      <th>57</th>\n",
       "      <td>both</td>\n",
       "      <td>realistic</td>\n",
       "      <td>inverse_harmonic_mean_rank</td>\n",
       "      <td>4.066891e-01</td>\n",
       "    </tr>\n",
       "    <tr>\n",
       "      <th>58</th>\n",
       "      <td>both</td>\n",
       "      <td>realistic</td>\n",
       "      <td>inverse_median_rank</td>\n",
       "      <td>2.500000e-02</td>\n",
       "    </tr>\n",
       "    <tr>\n",
       "      <th>59</th>\n",
       "      <td>both</td>\n",
       "      <td>realistic</td>\n",
       "      <td>rank_std</td>\n",
       "      <td>1.924162e+03</td>\n",
       "    </tr>\n",
       "    <tr>\n",
       "      <th>60</th>\n",
       "      <td>both</td>\n",
       "      <td>realistic</td>\n",
       "      <td>rank_var</td>\n",
       "      <td>3.702401e+06</td>\n",
       "    </tr>\n",
       "    <tr>\n",
       "      <th>61</th>\n",
       "      <td>both</td>\n",
       "      <td>realistic</td>\n",
       "      <td>rank_mad</td>\n",
       "      <td>3.900000e+01</td>\n",
       "    </tr>\n",
       "    <tr>\n",
       "      <th>62</th>\n",
       "      <td>both</td>\n",
       "      <td>realistic</td>\n",
       "      <td>adjusted_arithmetic_mean_rank</td>\n",
       "      <td>2.087187e-01</td>\n",
       "    </tr>\n",
       "    <tr>\n",
       "      <th>63</th>\n",
       "      <td>both</td>\n",
       "      <td>realistic</td>\n",
       "      <td>adjusted_arithmetic_mean_rank_index</td>\n",
       "      <td>7.914609e-01</td>\n",
       "    </tr>\n",
       "  </tbody>\n",
       "</table>\n",
       "</div>"
      ],
      "text/plain": [
       "    Side       Type                               Metric         Value\n",
       "47  both  realistic                            hits_at_1  3.841863e-01\n",
       "48  both  realistic                            hits_at_3  4.099482e-01\n",
       "49  both  realistic                            hits_at_5  4.255894e-01\n",
       "50  both  realistic                           hits_at_10  4.490512e-01\n",
       "51  both  realistic                 arithmetic_mean_rank  9.201902e+02\n",
       "52  both  realistic                  geometric_mean_rank  3.345605e+01\n",
       "53  both  realistic                          median_rank  4.000000e+01\n",
       "54  both  realistic                   harmonic_mean_rank  2.458881e+00\n",
       "55  both  realistic         inverse_arithmetic_mean_rank  1.086732e-03\n",
       "56  both  realistic          inverse_geometric_mean_rank  2.988996e-02\n",
       "57  both  realistic           inverse_harmonic_mean_rank  4.066891e-01\n",
       "58  both  realistic                  inverse_median_rank  2.500000e-02\n",
       "59  both  realistic                             rank_std  1.924162e+03\n",
       "60  both  realistic                             rank_var  3.702401e+06\n",
       "61  both  realistic                             rank_mad  3.900000e+01\n",
       "62  both  realistic        adjusted_arithmetic_mean_rank  2.087187e-01\n",
       "63  both  realistic  adjusted_arithmetic_mean_rank_index  7.914609e-01"
      ]
     },
     "execution_count": 9,
     "metadata": {},
     "output_type": "execute_result"
    }
   ],
   "source": [
    "metrics = pd.read_csv('results_I4.0/LCWA/' + model_name + '/metric_results.csv')\n",
    "print('Side:', metrics.Side.unique(), '\\nType:', metrics.Type.unique())\n",
    "metrics.loc[(metrics.Side=='both') & (metrics.Type=='realistic')]"
   ]
  },
  {
   "cell_type": "markdown",
   "metadata": {
    "id": "K5qAJwSPM5Lj"
   },
   "source": [
    "# **Link Prediction**"
   ]
  },
  {
   "cell_type": "markdown",
   "metadata": {
    "id": "cW1ayx3kNBvV"
   },
   "source": [
    "The predictions are ordered by their scores. All interaction functions in PyKEEN have been implemented such that the higher the score (or less negative the score), the more likely a triple is to be true."
   ]
  },
  {
   "cell_type": "markdown",
   "metadata": {
    "id": "h2vUzcxjNH50"
   },
   "source": [
    "### **Predict head**"
   ]
  },
  {
   "cell_type": "code",
   "execution_count": 9,
   "metadata": {
    "colab": {
     "base_uri": "https://localhost:8080/",
     "height": 424
    },
    "id": "go5ZT1NpNNP2",
    "outputId": "c2ca8ce1-76a5-4c0e-e293-0ad7b57c8ce6"
   },
   "outputs": [
    {
     "data": {
      "text/html": [
       "<div>\n",
       "<style scoped>\n",
       "    .dataframe tbody tr th:only-of-type {\n",
       "        vertical-align: middle;\n",
       "    }\n",
       "\n",
       "    .dataframe tbody tr th {\n",
       "        vertical-align: top;\n",
       "    }\n",
       "\n",
       "    .dataframe thead th {\n",
       "        text-align: right;\n",
       "    }\n",
       "</style>\n",
       "<table border=\"1\" class=\"dataframe\">\n",
       "  <thead>\n",
       "    <tr style=\"text-align: right;\">\n",
       "      <th></th>\n",
       "      <th>head_id</th>\n",
       "      <th>head_label</th>\n",
       "      <th>score</th>\n",
       "      <th>in_training</th>\n",
       "    </tr>\n",
       "  </thead>\n",
       "  <tbody>\n",
       "    <tr>\n",
       "      <th>7466</th>\n",
       "      <td>7466</td>\n",
       "      <td>&lt;https://w3id.org/i40/sto#RFC_5246&gt;</td>\n",
       "      <td>-0.651362</td>\n",
       "      <td>True</td>\n",
       "    </tr>\n",
       "    <tr>\n",
       "      <th>7160</th>\n",
       "      <td>7160</td>\n",
       "      <td>&lt;https://w3id.org/i40/sto#ISO_27001&gt;</td>\n",
       "      <td>-0.730041</td>\n",
       "      <td>True</td>\n",
       "    </tr>\n",
       "    <tr>\n",
       "      <th>7124</th>\n",
       "      <td>7124</td>\n",
       "      <td>&lt;https://w3id.org/i40/sto#ISO_1302&gt;</td>\n",
       "      <td>-0.736364</td>\n",
       "      <td>True</td>\n",
       "    </tr>\n",
       "    <tr>\n",
       "      <th>7029</th>\n",
       "      <td>7029</td>\n",
       "      <td>&lt;https://w3id.org/i40/sto#IEC_62714&gt;</td>\n",
       "      <td>-0.737854</td>\n",
       "      <td>True</td>\n",
       "    </tr>\n",
       "    <tr>\n",
       "      <th>7299</th>\n",
       "      <td>7299</td>\n",
       "      <td>&lt;https://w3id.org/i40/sto#NIST_800-146&gt;</td>\n",
       "      <td>-0.741677</td>\n",
       "      <td>True</td>\n",
       "    </tr>\n",
       "    <tr>\n",
       "      <th>...</th>\n",
       "      <td>...</td>\n",
       "      <td>...</td>\n",
       "      <td>...</td>\n",
       "      <td>...</td>\n",
       "    </tr>\n",
       "    <tr>\n",
       "      <th>4251</th>\n",
       "      <td>4251</td>\n",
       "      <td>&lt;http://dbpedia.org/resource/Communication&gt;</td>\n",
       "      <td>-6.838984</td>\n",
       "      <td>False</td>\n",
       "    </tr>\n",
       "    <tr>\n",
       "      <th>5374</th>\n",
       "      <td>5374</td>\n",
       "      <td>&lt;http://rdf.freebase.com/ns/m.06p10c&gt;</td>\n",
       "      <td>-6.877887</td>\n",
       "      <td>False</td>\n",
       "    </tr>\n",
       "    <tr>\n",
       "      <th>3993</th>\n",
       "      <td>3993</td>\n",
       "      <td>&lt;http://dbpedia.org/resource/Category:Electric...</td>\n",
       "      <td>-6.951269</td>\n",
       "      <td>False</td>\n",
       "    </tr>\n",
       "    <tr>\n",
       "      <th>5731</th>\n",
       "      <td>5731</td>\n",
       "      <td>&lt;http://www.w3.org/2002/07/owl#Class&gt;</td>\n",
       "      <td>-7.230032</td>\n",
       "      <td>False</td>\n",
       "    </tr>\n",
       "    <tr>\n",
       "      <th>8010</th>\n",
       "      <td>8010</td>\n",
       "      <td>&lt;https://www.w3.org/ns/oaRangeSelector&gt;</td>\n",
       "      <td>-7.266026</td>\n",
       "      <td>False</td>\n",
       "    </tr>\n",
       "  </tbody>\n",
       "</table>\n",
       "<p>8947 rows × 4 columns</p>\n",
       "</div>"
      ],
      "text/plain": [
       "      head_id  ... in_training\n",
       "7466     7466  ...        True\n",
       "7160     7160  ...        True\n",
       "7124     7124  ...        True\n",
       "7029     7029  ...        True\n",
       "7299     7299  ...        True\n",
       "...       ...  ...         ...\n",
       "4251     4251  ...       False\n",
       "5374     5374  ...       False\n",
       "3993     3993  ...       False\n",
       "5731     5731  ...       False\n",
       "8010     8010  ...       False\n",
       "\n",
       "[8947 rows x 4 columns]"
      ]
     },
     "execution_count": 9,
     "metadata": {},
     "output_type": "execute_result"
    }
   ],
   "source": [
    "e1 = '<https://w3id.org/i40/sto#relatedTo>'\n",
    "e2 = '<https://w3id.org/i40/sto#IEC_61850_P7_S3_E1>'\n",
    "predicted_heads = Auxiliary.predict.get_head_prediction_df(model, e1, e2, triples_factory=tf_data)\n",
    "predicted_heads"
   ]
  },
  {
   "cell_type": "markdown",
   "metadata": {
    "id": "4pvEyD--O3rg"
   },
   "source": [
    "#### Filter the prediction by the head ''<https://w3id.org/i40/sto#'"
   ]
  },
  {
   "cell_type": "code",
   "execution_count": 10,
   "metadata": {
    "colab": {
     "base_uri": "https://localhost:8080/",
     "height": 511
    },
    "id": "yUrK0asmO84t",
    "outputId": "9b30aff8-d518-4c2e-92be-d9e85e3aeb3b"
   },
   "outputs": [
    {
     "name": "stderr",
     "output_type": "stream",
     "text": [
      "/usr/local/lib/python3.7/dist-packages/pandas/core/frame.py:4174: SettingWithCopyWarning: \n",
      "A value is trying to be set on a copy of a slice from a DataFrame\n",
      "\n",
      "See the caveats in the documentation: https://pandas.pydata.org/pandas-docs/stable/user_guide/indexing.html#returning-a-view-versus-a-copy\n",
      "  errors=errors,\n"
     ]
    },
    {
     "data": {
      "text/html": [
       "<div>\n",
       "<style scoped>\n",
       "    .dataframe tbody tr th:only-of-type {\n",
       "        vertical-align: middle;\n",
       "    }\n",
       "\n",
       "    .dataframe tbody tr th {\n",
       "        vertical-align: top;\n",
       "    }\n",
       "\n",
       "    .dataframe thead th {\n",
       "        text-align: right;\n",
       "    }\n",
       "</style>\n",
       "<table border=\"1\" class=\"dataframe\">\n",
       "  <thead>\n",
       "    <tr style=\"text-align: right;\">\n",
       "      <th></th>\n",
       "      <th>head_id</th>\n",
       "      <th>head_label</th>\n",
       "      <th>score</th>\n",
       "      <th>in_training</th>\n",
       "    </tr>\n",
       "  </thead>\n",
       "  <tbody>\n",
       "    <tr>\n",
       "      <th>0</th>\n",
       "      <td>7466</td>\n",
       "      <td>&lt;https://w3id.org/i40/sto#RFC_5246&gt;</td>\n",
       "      <td>-0.651362</td>\n",
       "      <td>True</td>\n",
       "    </tr>\n",
       "    <tr>\n",
       "      <th>1</th>\n",
       "      <td>7160</td>\n",
       "      <td>&lt;https://w3id.org/i40/sto#ISO_27001&gt;</td>\n",
       "      <td>-0.730041</td>\n",
       "      <td>True</td>\n",
       "    </tr>\n",
       "    <tr>\n",
       "      <th>2</th>\n",
       "      <td>7124</td>\n",
       "      <td>&lt;https://w3id.org/i40/sto#ISO_1302&gt;</td>\n",
       "      <td>-0.736364</td>\n",
       "      <td>True</td>\n",
       "    </tr>\n",
       "    <tr>\n",
       "      <th>3</th>\n",
       "      <td>7029</td>\n",
       "      <td>&lt;https://w3id.org/i40/sto#IEC_62714&gt;</td>\n",
       "      <td>-0.737854</td>\n",
       "      <td>True</td>\n",
       "    </tr>\n",
       "    <tr>\n",
       "      <th>4</th>\n",
       "      <td>7299</td>\n",
       "      <td>&lt;https://w3id.org/i40/sto#NIST_800-146&gt;</td>\n",
       "      <td>-0.741677</td>\n",
       "      <td>True</td>\n",
       "    </tr>\n",
       "    <tr>\n",
       "      <th>...</th>\n",
       "      <td>...</td>\n",
       "      <td>...</td>\n",
       "      <td>...</td>\n",
       "      <td>...</td>\n",
       "    </tr>\n",
       "    <tr>\n",
       "      <th>1294</th>\n",
       "      <td>7563</td>\n",
       "      <td>&lt;https://w3id.org/i40/sto#Tag&gt;</td>\n",
       "      <td>-5.606844</td>\n",
       "      <td>False</td>\n",
       "    </tr>\n",
       "    <tr>\n",
       "      <th>1295</th>\n",
       "      <td>7225</td>\n",
       "      <td>&lt;https://w3id.org/i40/sto#IotaPerspectiveAnno&gt;</td>\n",
       "      <td>-5.728905</td>\n",
       "      <td>False</td>\n",
       "    </tr>\n",
       "    <tr>\n",
       "      <th>1296</th>\n",
       "      <td>6777</td>\n",
       "      <td>&lt;https://w3id.org/i40/sto#FiwareApplicationsSe...</td>\n",
       "      <td>-5.777914</td>\n",
       "      <td>False</td>\n",
       "    </tr>\n",
       "    <tr>\n",
       "      <th>1297</th>\n",
       "      <td>6458</td>\n",
       "      <td>&lt;https://w3id.org/i40/sto#BdvaDataManagementAnno&gt;</td>\n",
       "      <td>-5.828752</td>\n",
       "      <td>False</td>\n",
       "    </tr>\n",
       "    <tr>\n",
       "      <th>1298</th>\n",
       "      <td>7531</td>\n",
       "      <td>&lt;https://w3id.org/i40/sto#Standard&gt;</td>\n",
       "      <td>-5.952818</td>\n",
       "      <td>False</td>\n",
       "    </tr>\n",
       "  </tbody>\n",
       "</table>\n",
       "<p>1299 rows × 4 columns</p>\n",
       "</div>"
      ],
      "text/plain": [
       "      head_id  ... in_training\n",
       "0        7466  ...        True\n",
       "1        7160  ...        True\n",
       "2        7124  ...        True\n",
       "3        7029  ...        True\n",
       "4        7299  ...        True\n",
       "...       ...  ...         ...\n",
       "1294     7563  ...       False\n",
       "1295     7225  ...       False\n",
       "1296     6777  ...       False\n",
       "1297     6458  ...       False\n",
       "1298     7531  ...       False\n",
       "\n",
       "[1299 rows x 4 columns]"
      ]
     },
     "execution_count": 10,
     "metadata": {},
     "output_type": "execute_result"
    }
   ],
   "source": [
    "predicted_heads = Auxiliary.filter_prediction(predicted_heads, '<https://w3id.org/i40/sto#')\n",
    "predicted_heads"
   ]
  },
  {
   "cell_type": "markdown",
   "metadata": {
    "id": "KTrUJI3nPpCE"
   },
   "source": [
    "#### Filter by entity type '<https://w3id.org/i40/sto#Standard>'"
   ]
  },
  {
   "cell_type": "code",
   "execution_count": 17,
   "metadata": {
    "colab": {
     "base_uri": "https://localhost:8080/",
     "height": 511
    },
    "id": "3QraHVHQfNVs",
    "outputId": "c6a6de60-6ff7-43b1-d0b7-a3179cb45bb4"
   },
   "outputs": [
    {
     "name": "stderr",
     "output_type": "stream",
     "text": [
      "/usr/local/lib/python3.7/dist-packages/pandas/core/frame.py:4174: SettingWithCopyWarning: \n",
      "A value is trying to be set on a copy of a slice from a DataFrame\n",
      "\n",
      "See the caveats in the documentation: https://pandas.pydata.org/pandas-docs/stable/user_guide/indexing.html#returning-a-view-versus-a-copy\n",
      "  errors=errors,\n"
     ]
    },
    {
     "data": {
      "text/html": [
       "<div>\n",
       "<style scoped>\n",
       "    .dataframe tbody tr th:only-of-type {\n",
       "        vertical-align: middle;\n",
       "    }\n",
       "\n",
       "    .dataframe tbody tr th {\n",
       "        vertical-align: top;\n",
       "    }\n",
       "\n",
       "    .dataframe thead th {\n",
       "        text-align: right;\n",
       "    }\n",
       "</style>\n",
       "<table border=\"1\" class=\"dataframe\">\n",
       "  <thead>\n",
       "    <tr style=\"text-align: right;\">\n",
       "      <th></th>\n",
       "      <th>head_id</th>\n",
       "      <th>head_label</th>\n",
       "      <th>score</th>\n",
       "      <th>in_training</th>\n",
       "    </tr>\n",
       "  </thead>\n",
       "  <tbody>\n",
       "    <tr>\n",
       "      <th>0</th>\n",
       "      <td>7466</td>\n",
       "      <td>&lt;https://w3id.org/i40/sto#RFC_5246&gt;</td>\n",
       "      <td>-0.651362</td>\n",
       "      <td>True</td>\n",
       "    </tr>\n",
       "    <tr>\n",
       "      <th>1</th>\n",
       "      <td>7160</td>\n",
       "      <td>&lt;https://w3id.org/i40/sto#ISO_27001&gt;</td>\n",
       "      <td>-0.730041</td>\n",
       "      <td>True</td>\n",
       "    </tr>\n",
       "    <tr>\n",
       "      <th>2</th>\n",
       "      <td>7124</td>\n",
       "      <td>&lt;https://w3id.org/i40/sto#ISO_1302&gt;</td>\n",
       "      <td>-0.736364</td>\n",
       "      <td>True</td>\n",
       "    </tr>\n",
       "    <tr>\n",
       "      <th>3</th>\n",
       "      <td>7029</td>\n",
       "      <td>&lt;https://w3id.org/i40/sto#IEC_62714&gt;</td>\n",
       "      <td>-0.737854</td>\n",
       "      <td>True</td>\n",
       "    </tr>\n",
       "    <tr>\n",
       "      <th>4</th>\n",
       "      <td>7299</td>\n",
       "      <td>&lt;https://w3id.org/i40/sto#NIST_800-146&gt;</td>\n",
       "      <td>-0.741677</td>\n",
       "      <td>True</td>\n",
       "    </tr>\n",
       "    <tr>\n",
       "      <th>...</th>\n",
       "      <td>...</td>\n",
       "      <td>...</td>\n",
       "      <td>...</td>\n",
       "      <td>...</td>\n",
       "    </tr>\n",
       "    <tr>\n",
       "      <th>316</th>\n",
       "      <td>7042</td>\n",
       "      <td>&lt;https://w3id.org/i40/sto#IEEE_1856&gt;</td>\n",
       "      <td>-4.676470</td>\n",
       "      <td>False</td>\n",
       "    </tr>\n",
       "    <tr>\n",
       "      <th>317</th>\n",
       "      <td>7045</td>\n",
       "      <td>&lt;https://w3id.org/i40/sto#IEEE_2413&gt;</td>\n",
       "      <td>-4.704896</td>\n",
       "      <td>False</td>\n",
       "    </tr>\n",
       "    <tr>\n",
       "      <th>318</th>\n",
       "      <td>6876</td>\n",
       "      <td>&lt;https://w3id.org/i40/sto#IEC_60050_1998&gt;</td>\n",
       "      <td>-4.776747</td>\n",
       "      <td>False</td>\n",
       "    </tr>\n",
       "    <tr>\n",
       "      <th>319</th>\n",
       "      <td>7117</td>\n",
       "      <td>&lt;https://w3id.org/i40/sto#ISA_62443&gt;</td>\n",
       "      <td>-5.211518</td>\n",
       "      <td>False</td>\n",
       "    </tr>\n",
       "    <tr>\n",
       "      <th>320</th>\n",
       "      <td>7176</td>\n",
       "      <td>&lt;https://w3id.org/i40/sto#ISO_61508&gt;</td>\n",
       "      <td>-5.447052</td>\n",
       "      <td>False</td>\n",
       "    </tr>\n",
       "  </tbody>\n",
       "</table>\n",
       "<p>321 rows × 4 columns</p>\n",
       "</div>"
      ],
      "text/plain": [
       "     head_id                                 head_label     score  in_training\n",
       "0       7466        <https://w3id.org/i40/sto#RFC_5246> -0.651362         True\n",
       "1       7160       <https://w3id.org/i40/sto#ISO_27001> -0.730041         True\n",
       "2       7124        <https://w3id.org/i40/sto#ISO_1302> -0.736364         True\n",
       "3       7029       <https://w3id.org/i40/sto#IEC_62714> -0.737854         True\n",
       "4       7299    <https://w3id.org/i40/sto#NIST_800-146> -0.741677         True\n",
       "..       ...                                        ...       ...          ...\n",
       "316     7042       <https://w3id.org/i40/sto#IEEE_1856> -4.676470        False\n",
       "317     7045       <https://w3id.org/i40/sto#IEEE_2413> -4.704896        False\n",
       "318     6876  <https://w3id.org/i40/sto#IEC_60050_1998> -4.776747        False\n",
       "319     7117       <https://w3id.org/i40/sto#ISA_62443> -5.211518        False\n",
       "320     7176       <https://w3id.org/i40/sto#ISO_61508> -5.447052        False\n",
       "\n",
       "[321 rows x 4 columns]"
      ]
     },
     "execution_count": 17,
     "metadata": {},
     "output_type": "execute_result"
    }
   ],
   "source": [
    "graph = Auxiliary.load_graph(file_name)\n",
    "predicted_heads, entity = Auxiliary.get_triple(graph, predicted_heads, '<https://w3id.org/i40/sto#Standard>')\n",
    "predicted_heads"
   ]
  },
  {
   "cell_type": "markdown",
   "metadata": {
    "id": "Zl1HhoR0P0y_"
   },
   "source": [
    "#### **Plot of entities predicted score values**"
   ]
  },
  {
   "cell_type": "code",
   "execution_count": 21,
   "metadata": {
    "colab": {
     "base_uri": "https://localhost:8080/",
     "height": 377
    },
    "id": "li7KjIF9PxAs",
    "outputId": "166ddb6e-a3c3-4565-df36-7b0c8cf04c0d"
   },
   "outputs": [
    {
     "data": {
      "image/png": "[encoded data removed]",
      "text/plain": [
       "<Figure size 576x396 with 1 Axes>"
      ]
     },
     "metadata": {},
     "output_type": "display_data"
    }
   ],
   "source": [
    "score_values = predicted_heads.score.values\n",
    "Auxiliary.plot_score_value(score_values, \"Predicted_heads\")"
   ]
  },
  {
   "cell_type": "markdown",
   "metadata": {
    "id": "pmkMS2l2IC1R"
   },
   "source": [
    "### **Predict tails**"
   ]
  },
  {
   "cell_type": "code",
   "execution_count": 13,
   "metadata": {
    "colab": {
     "base_uri": "https://localhost:8080/",
     "height": 424
    },
    "id": "vOYlgZJVID4h",
    "outputId": "91622272-8b06-48f7-d179-2e6d5a8e62f4"
   },
   "outputs": [
    {
     "data": {
      "text/html": [
       "<div>\n",
       "<style scoped>\n",
       "    .dataframe tbody tr th:only-of-type {\n",
       "        vertical-align: middle;\n",
       "    }\n",
       "\n",
       "    .dataframe tbody tr th {\n",
       "        vertical-align: top;\n",
       "    }\n",
       "\n",
       "    .dataframe thead th {\n",
       "        text-align: right;\n",
       "    }\n",
       "</style>\n",
       "<table border=\"1\" class=\"dataframe\">\n",
       "  <thead>\n",
       "    <tr style=\"text-align: right;\">\n",
       "      <th></th>\n",
       "      <th>tail_id</th>\n",
       "      <th>tail_label</th>\n",
       "      <th>score</th>\n",
       "      <th>in_training</th>\n",
       "    </tr>\n",
       "  </thead>\n",
       "  <tbody>\n",
       "    <tr>\n",
       "      <th>7453</th>\n",
       "      <td>7453</td>\n",
       "      <td>&lt;https://w3id.org/i40/sto#RAMIProduct&gt;</td>\n",
       "      <td>-1.135684</td>\n",
       "      <td>True</td>\n",
       "    </tr>\n",
       "    <tr>\n",
       "      <th>7427</th>\n",
       "      <td>7427</td>\n",
       "      <td>&lt;https://w3id.org/i40/sto#RAMIAssetlayer&gt;</td>\n",
       "      <td>-1.183913</td>\n",
       "      <td>True</td>\n",
       "    </tr>\n",
       "    <tr>\n",
       "      <th>6370</th>\n",
       "      <td>6370</td>\n",
       "      <td>&lt;https://w3id.org/i40/rami#Engineering&gt;</td>\n",
       "      <td>-1.187541</td>\n",
       "      <td>True</td>\n",
       "    </tr>\n",
       "    <tr>\n",
       "      <th>6836</th>\n",
       "      <td>6836</td>\n",
       "      <td>&lt;https://w3id.org/i40/sto#IDSRAMCertification&gt;</td>\n",
       "      <td>-1.221240</td>\n",
       "      <td>False</td>\n",
       "    </tr>\n",
       "    <tr>\n",
       "      <th>7440</th>\n",
       "      <td>7440</td>\n",
       "      <td>&lt;https://w3id.org/i40/sto#RAMIEnterprise&gt;</td>\n",
       "      <td>-1.222109</td>\n",
       "      <td>False</td>\n",
       "    </tr>\n",
       "    <tr>\n",
       "      <th>...</th>\n",
       "      <td>...</td>\n",
       "      <td>...</td>\n",
       "      <td>...</td>\n",
       "      <td>...</td>\n",
       "    </tr>\n",
       "    <tr>\n",
       "      <th>3993</th>\n",
       "      <td>3993</td>\n",
       "      <td>&lt;http://dbpedia.org/resource/Category:Electric...</td>\n",
       "      <td>-6.017437</td>\n",
       "      <td>False</td>\n",
       "    </tr>\n",
       "    <tr>\n",
       "      <th>8010</th>\n",
       "      <td>8010</td>\n",
       "      <td>&lt;https://www.w3.org/ns/oaRangeSelector&gt;</td>\n",
       "      <td>-6.558005</td>\n",
       "      <td>False</td>\n",
       "    </tr>\n",
       "    <tr>\n",
       "      <th>8011</th>\n",
       "      <td>8011</td>\n",
       "      <td>&lt;https://www.w3.org/ns/oaSpecificResource&gt;</td>\n",
       "      <td>-6.583084</td>\n",
       "      <td>False</td>\n",
       "    </tr>\n",
       "    <tr>\n",
       "      <th>8012</th>\n",
       "      <td>8012</td>\n",
       "      <td>&lt;https://www.w3.org/ns/oaXPathSelector&gt;</td>\n",
       "      <td>-6.717687</td>\n",
       "      <td>False</td>\n",
       "    </tr>\n",
       "    <tr>\n",
       "      <th>5731</th>\n",
       "      <td>5731</td>\n",
       "      <td>&lt;http://www.w3.org/2002/07/owl#Class&gt;</td>\n",
       "      <td>-8.369965</td>\n",
       "      <td>False</td>\n",
       "    </tr>\n",
       "  </tbody>\n",
       "</table>\n",
       "<p>8947 rows × 4 columns</p>\n",
       "</div>"
      ],
      "text/plain": [
       "      tail_id  ... in_training\n",
       "7453     7453  ...        True\n",
       "7427     7427  ...        True\n",
       "6370     6370  ...        True\n",
       "6836     6836  ...       False\n",
       "7440     7440  ...       False\n",
       "...       ...  ...         ...\n",
       "3993     3993  ...       False\n",
       "8010     8010  ...       False\n",
       "8011     8011  ...       False\n",
       "8012     8012  ...       False\n",
       "5731     5731  ...       False\n",
       "\n",
       "[8947 rows x 4 columns]"
      ]
     },
     "execution_count": 13,
     "metadata": {},
     "output_type": "execute_result"
    }
   ],
   "source": [
    "#e1 = '<https://w3id.org/i40/sto#ISO_24760>'\n",
    "#e1 = '<https://w3id.org/i40/sto#IEC_62541>'\n",
    "#e1 = '<https://w3id.org/i40/sto#ISO_18629>'\n",
    "#e1 = '<https://w3id.org/i40/sto#IEC_62237>'\n",
    "#e1 = '<https://w3id.org/i40/sto#ISO_15746>'\n",
    "e1 = '<https://w3id.org/i40/sto#ISO_TS_14649-201>'\n",
    "e2 = '<https://w3id.org/i40/sto#hasClassification>'\n",
    "predicted_tails = Auxiliary.predict.get_tail_prediction_df(model, e1, e2, triples_factory=tf_data)\n",
    "predicted_tails"
   ]
  },
  {
   "cell_type": "markdown",
   "metadata": {
    "id": "sLVkMxi-JFoX"
   },
   "source": [
    "#### **Plot of entities predicted score values**"
   ]
  },
  {
   "cell_type": "code",
   "execution_count": 14,
   "metadata": {
    "colab": {
     "base_uri": "https://localhost:8080/",
     "height": 376
    },
    "id": "kZOwn59TJJRO",
    "outputId": "a6d7d62d-2154-4385-bc6e-e602a1ebc1cd"
   },
   "outputs": [
    {
     "data": {
      "image/png": "[encoded data removed]",
      "text/plain": [
       "<Figure size 576x396 with 1 Axes>"
      ]
     },
     "metadata": {},
     "output_type": "display_data"
    }
   ],
   "source": [
    "score_values = predicted_tails.score.values\n",
    "Auxiliary.plot_score_value(score_values, \"Predicted tails\")"
   ]
  },
  {
   "cell_type": "code",
   "execution_count": 15,
   "metadata": {
    "colab": {
     "base_uri": "https://localhost:8080/",
     "height": 81
    },
    "id": "ehELfBc1Ju_6",
    "outputId": "4406208c-1bdb-4ba1-9354-eba75a853e52"
   },
   "outputs": [
    {
     "data": {
      "text/html": [
       "<div>\n",
       "<style scoped>\n",
       "    .dataframe tbody tr th:only-of-type {\n",
       "        vertical-align: middle;\n",
       "    }\n",
       "\n",
       "    .dataframe tbody tr th {\n",
       "        vertical-align: top;\n",
       "    }\n",
       "\n",
       "    .dataframe thead th {\n",
       "        text-align: right;\n",
       "    }\n",
       "</style>\n",
       "<table border=\"1\" class=\"dataframe\">\n",
       "  <thead>\n",
       "    <tr style=\"text-align: right;\">\n",
       "      <th></th>\n",
       "      <th>precision</th>\n",
       "      <th>recall</th>\n",
       "      <th>f_measure</th>\n",
       "    </tr>\n",
       "  </thead>\n",
       "  <tbody>\n",
       "    <tr>\n",
       "      <th>MuRE</th>\n",
       "      <td>0.5</td>\n",
       "      <td>0.428571</td>\n",
       "      <td>0.461538</td>\n",
       "    </tr>\n",
       "  </tbody>\n",
       "</table>\n",
       "</div>"
      ],
      "text/plain": [
       "      precision    recall  f_measure\n",
       "MuRE        0.5  0.428571   0.461538"
      ]
     },
     "execution_count": 15,
     "metadata": {},
     "output_type": "execute_result"
    }
   ],
   "source": [
    "predicted_tails = Auxiliary.reset_index(predicted_tails)\n",
    "Auxiliary.compute_metrics(predicted_tails, cut_index=5, model=model_name)"
   ]
  },
  {
   "cell_type": "markdown",
   "metadata": {
    "id": "ss0Cz9zHP7H7"
   },
   "source": [
    "# Strategy 'inflection point'"
   ]
  },
  {
   "cell_type": "code",
   "execution_count": 14,
   "metadata": {
    "colab": {
     "base_uri": "https://localhost:8080/",
     "height": 81
    },
    "id": "JivFwEEhQSVc",
    "outputId": "93f6e416-b648-419e-cc5d-35dc558090cc"
   },
   "outputs": [
    {
     "data": {
      "text/html": [
       "<div>\n",
       "<style scoped>\n",
       "    .dataframe tbody tr th:only-of-type {\n",
       "        vertical-align: middle;\n",
       "    }\n",
       "\n",
       "    .dataframe tbody tr th {\n",
       "        vertical-align: top;\n",
       "    }\n",
       "\n",
       "    .dataframe thead th {\n",
       "        text-align: right;\n",
       "    }\n",
       "</style>\n",
       "<table border=\"1\" class=\"dataframe\">\n",
       "  <thead>\n",
       "    <tr style=\"text-align: right;\">\n",
       "      <th></th>\n",
       "      <th>precision</th>\n",
       "      <th>recall</th>\n",
       "      <th>f_measure</th>\n",
       "    </tr>\n",
       "  </thead>\n",
       "  <tbody>\n",
       "    <tr>\n",
       "      <th>TransR</th>\n",
       "      <td>0.231612</td>\n",
       "      <td>1.0</td>\n",
       "      <td>0.376112</td>\n",
       "    </tr>\n",
       "  </tbody>\n",
       "</table>\n",
       "</div>"
      ],
      "text/plain": [
       "        precision  recall  f_measure\n",
       "TransR   0.231612     1.0   0.376112"
      ]
     },
     "execution_count": 14,
     "metadata": {},
     "output_type": "execute_result"
    }
   ],
   "source": [
    "inflection_index = Auxiliary.get_inflection_point(predicted_heads.score.values)\n",
    "Auxiliary.compute_metrics(predicted_heads, inflection_index, model_name)"
   ]
  },
  {
   "cell_type": "markdown",
   "metadata": {
    "id": "o149aKlTQacD"
   },
   "source": [
    "# Strategy 'threshold'"
   ]
  },
  {
   "cell_type": "code",
   "execution_count": 12,
   "metadata": {
    "colab": {
     "base_uri": "https://localhost:8080/",
     "height": 98
    },
    "id": "eYvl9dZHQdno",
    "outputId": "9528f9ef-e4b3-4c87-c520-e16d882b3731"
   },
   "outputs": [
    {
     "name": "stdout",
     "output_type": "stream",
     "text": [
      "-1.247894215583801 130\n"
     ]
    },
    {
     "data": {
      "text/html": [
       "<div>\n",
       "<style scoped>\n",
       "    .dataframe tbody tr th:only-of-type {\n",
       "        vertical-align: middle;\n",
       "    }\n",
       "\n",
       "    .dataframe tbody tr th {\n",
       "        vertical-align: top;\n",
       "    }\n",
       "\n",
       "    .dataframe thead th {\n",
       "        text-align: right;\n",
       "    }\n",
       "</style>\n",
       "<table border=\"1\" class=\"dataframe\">\n",
       "  <thead>\n",
       "    <tr style=\"text-align: right;\">\n",
       "      <th></th>\n",
       "      <th>precision</th>\n",
       "      <th>recall</th>\n",
       "      <th>f_measure</th>\n",
       "    </tr>\n",
       "  </thead>\n",
       "  <tbody>\n",
       "    <tr>\n",
       "      <th>MuRE</th>\n",
       "      <td>1.0</td>\n",
       "      <td>0.885135</td>\n",
       "      <td>0.939068</td>\n",
       "    </tr>\n",
       "  </tbody>\n",
       "</table>\n",
       "</div>"
      ],
      "text/plain": [
       "      precision    recall  f_measure\n",
       "MuRE        1.0  0.885135   0.939068"
      ]
     },
     "execution_count": 12,
     "metadata": {},
     "output_type": "execute_result"
    }
   ],
   "source": [
    "threshold, threshold_index = Auxiliary.get_threshold(predicted_heads, percentile=90)\n",
    "Auxiliary.compute_metrics(predicted_heads, threshold_index, model_name)"
   ]
  },
  {
   "cell_type": "markdown",
   "metadata": {
    "id": "STHn8fikS9pL"
   },
   "source": [
    "# **Unsupervised Learning**"
   ]
  },
  {
   "cell_type": "markdown",
   "metadata": {
    "id": "14s26pWDs-GH"
   },
   "source": [
    "**Save Learned Embeddings**"
   ]
  },
  {
   "cell_type": "code",
   "execution_count": 13,
   "metadata": {
    "id": "JpszKFwBW9yF"
   },
   "outputs": [],
   "source": [
    "entity_embedding_tensor, relation_embedding_tensor =  Auxiliary.get_learned_embeddings(model)"
   ]
  },
  {
   "cell_type": "markdown",
   "metadata": {
    "id": "XNzrMVK6oy5Q"
   },
   "source": [
    "**Creating dataframe with the embeddings predicted entities**"
   ]
  },
  {
   "cell_type": "code",
   "execution_count": 14,
   "metadata": {
    "id": "G8tWBa1kozxh"
   },
   "outputs": [],
   "source": [
    "df_predicted_entities = Auxiliary.create_dataframe_predicted_entities(entity_embedding_tensor, predicted_heads, training)"
   ]
  },
  {
   "cell_type": "markdown",
   "metadata": {
    "id": "whGCUW8fpU0S"
   },
   "source": [
    "**Select the optimal number of clusters**"
   ]
  },
  {
   "cell_type": "markdown",
   "metadata": {
    "id": "smQLCOHkF93Y"
   },
   "source": [
    "**elbow**: By default, the distortion score is computed, the sum of square distances from each point to its assigned center."
   ]
  },
  {
   "cell_type": "code",
   "execution_count": 15,
   "metadata": {
    "colab": {
     "base_uri": "https://localhost:8080/",
     "height": 377
    },
    "id": "kQ102BtupWP-",
    "outputId": "9d650855-0546-4094-fca5-670ad204c76c"
   },
   "outputs": [
    {
     "data": {
      "image/png": "[encoded data removed]",
      "text/plain": [
       "<Figure size 576x396 with 2 Axes>"
      ]
     },
     "metadata": {},
     "output_type": "display_data"
    }
   ],
   "source": [
    "num_cls = Auxiliary.elbow_KMeans(df_predicted_entities, 1, 25)"
   ]
  },
  {
   "cell_type": "markdown",
   "metadata": {
    "id": "wc6fSouJpcVk"
   },
   "source": [
    "**Visualize PCA Projection to 2D**"
   ]
  },
  {
   "cell_type": "code",
   "execution_count": 16,
   "metadata": {
    "colab": {
     "base_uri": "https://localhost:8080/",
     "height": 505
    },
    "id": "e1F6J9KqZnGj",
    "outputId": "c5ef5c21-59b9-42ae-dfda-71340f26844f"
   },
   "outputs": [
    {
     "data": {
      "image/png": "[encoded data removed]",
      "text/plain": [
       "<Figure size 576x576 with 1 Axes>"
      ]
     },
     "metadata": {},
     "output_type": "display_data"
    }
   ],
   "source": [
    "Auxiliary.plot_cluster(num_cls, df_predicted_entities)"
   ]
  },
  {
   "cell_type": "markdown",
   "metadata": {
    "id": "luOPv9kJNqZt"
   },
   "source": [
    "### **Visualize PCA Projection to 2D filtering the prediction by entity type 'Standard'.**"
   ]
  },
  {
   "cell_type": "code",
   "execution_count": 18,
   "metadata": {
    "id": "IeX7gx84-XH9"
   },
   "outputs": [],
   "source": [
    "df_predicted_entities_b = Auxiliary.create_dataframe_predicted_entities(entity_embedding_tensor, predicted_heads, training)"
   ]
  },
  {
   "cell_type": "code",
   "execution_count": 19,
   "metadata": {
    "colab": {
     "base_uri": "https://localhost:8080/",
     "height": 377
    },
    "id": "LXj4JCir-YQ6",
    "outputId": "3be17a10-af28-40f7-93d1-360ebf45bd50"
   },
   "outputs": [
    {
     "data": {
      "image/png": "[encoded data removed]",
      "text/plain": [
       "<Figure size 576x396 with 2 Axes>"
      ]
     },
     "metadata": {},
     "output_type": "display_data"
    }
   ],
   "source": [
    "num_cls_b = Auxiliary.elbow_KMeans(df_predicted_entities_b, 1, 25)"
   ]
  },
  {
   "cell_type": "code",
   "execution_count": 20,
   "metadata": {
    "colab": {
     "base_uri": "https://localhost:8080/",
     "height": 505
    },
    "id": "6-OtiHs8-grJ",
    "outputId": "aa5797cf-cdec-4906-f906-1adc67a25485"
   },
   "outputs": [
    {
     "data": {
      "image/png": "[encoded data removed]",
      "text/plain": [
       "<Figure size 576x576 with 1 Axes>"
      ]
     },
     "metadata": {},
     "output_type": "display_data"
    }
   ],
   "source": [
    "Auxiliary.plot_cluster(num_cls_b, df_predicted_entities_b)"
   ]
  },
  {
   "cell_type": "markdown",
   "metadata": {
    "id": "GvGC-lDDOohA"
   },
   "source": [
    "### **Visualize PCA Projection to 2D of the whole I4.0KG**"
   ]
  },
  {
   "cell_type": "code",
   "execution_count": 21,
   "metadata": {
    "colab": {
     "base_uri": "https://localhost:8080/",
     "height": 376
    },
    "id": "Zj7A7HQaA_QJ",
    "outputId": "8f216e14-e9f1-4526-e7c2-0ad72e3c500b"
   },
   "outputs": [
    {
     "data": {
      "image/png": "[encoded data removed]",
      "text/plain": [
       "<Figure size 576x396 with 2 Axes>"
      ]
     },
     "metadata": {},
     "output_type": "display_data"
    }
   ],
   "source": [
    "import pandas as pd\n",
    "df = pd.DataFrame(entity_embedding_tensor.detach().numpy())\n",
    "num_cls_b = Auxiliary.elbow_KMeans(df, 1, 25)"
   ]
  },
  {
   "cell_type": "code",
   "execution_count": 22,
   "metadata": {
    "colab": {
     "base_uri": "https://localhost:8080/",
     "height": 505
    },
    "id": "zLge7d_DBNT-",
    "outputId": "55f7f2e3-9bf0-4872-bc8b-5c4f20cb237d"
   },
   "outputs": [
    {
     "data": {
      "image/png": "[encoded data removed]",
      "text/plain": [
       "<Figure size 576x576 with 1 Axes>"
      ]
     },
     "metadata": {},
     "output_type": "display_data"
    }
   ],
   "source": [
    "Auxiliary.plot_cluster(num_cls_b, df)"
   ]
  }
 ],
 "metadata": {
  "colab": {
   "name": "Link_prediction_example.ipynb",
   "provenance": []
  },
  "kernelspec": {
   "display_name": "Python 3 (ipykernel)",
   "language": "python",
   "name": "python3"
  },
  "language_info": {
   "codemirror_mode": {
    "name": "ipython",
    "version": 3
   },
   "file_extension": ".py",
   "mimetype": "text/x-python",
   "name": "python",
   "nbconvert_exporter": "python",
   "pygments_lexer": "ipython3",
   "version": "3.8.12"
  },
  "widgets": {
   "application/vnd.jupyter.widget-state+json": {
    "0213b485a1da406ba8bc92d79e6419f0": {
     "model_module": "@jupyter-widgets/controls",
     "model_module_version": "1.5.0",
     "model_name": "HTMLModel",
     "state": {
      "_dom_classes": [],
      "_model_module": "@jupyter-widgets/controls",
      "_model_module_version": "1.5.0",
      "_model_name": "HTMLModel",
      "_view_count": null,
      "_view_module": "@jupyter-widgets/controls",
      "_view_module_version": "1.5.0",
      "_view_name": "HTMLView",
      "description": "",
      "description_tooltip": null,
      "layout": "IPY_MODEL_d9e26b1459ba47bc8e0eb85158aec5be",
      "placeholder": "​",
      "style": "IPY_MODEL_e58d9c8bfbe6462d9708182ff2330239",
      "value": "Training epochs on cpu: 100%"
     }
    },
    "0555ac6ba05c489b8506aa3d80681d88": {
     "model_module": "@jupyter-widgets/controls",
     "model_module_version": "1.5.0",
     "model_name": "HTMLModel",
     "state": {
      "_dom_classes": [],
      "_model_module": "@jupyter-widgets/controls",
      "_model_module_version": "1.5.0",
      "_model_name": "HTMLModel",
      "_view_count": null,
      "_view_module": "@jupyter-widgets/controls",
      "_view_module_version": "1.5.0",
      "_view_name": "HTMLView",
      "description": "",
      "description_tooltip": null,
      "layout": "IPY_MODEL_a3555681e58a4bcdb76ff83c1768cb7f",
      "placeholder": "​",
      "style": "IPY_MODEL_af87f39dc3eb4c2c89d55590eb3146ed",
      "value": "Evaluating on cpu: 100%"
     }
    },
    "09d37cab1395415ca4f11d94e9628983": {
     "model_module": "@jupyter-widgets/controls",
     "model_module_version": "1.5.0",
     "model_name": "FloatProgressModel",
     "state": {
      "_dom_classes": [],
      "_model_module": "@jupyter-widgets/controls",
      "_model_module_version": "1.5.0",
      "_model_name": "FloatProgressModel",
      "_view_count": null,
      "_view_module": "@jupyter-widgets/controls",
      "_view_module_version": "1.5.0",
      "_view_name": "ProgressView",
      "bar_style": "success",
      "description": "",
      "description_tooltip": null,
      "layout": "IPY_MODEL_650bf0b17f1145b48b2a63c08b96ceff",
      "max": 8695,
      "min": 0,
      "orientation": "horizontal",
      "style": "IPY_MODEL_3ba05351adc947c594b213bdcc4a7311",
      "value": 8695
     }
    },
    "247b31d184ae45d8a40d4506568e642a": {
     "model_module": "@jupyter-widgets/base",
     "model_module_version": "1.2.0",
     "model_name": "LayoutModel",
     "state": {
      "_model_module": "@jupyter-widgets/base",
      "_model_module_version": "1.2.0",
      "_model_name": "LayoutModel",
      "_view_count": null,
      "_view_module": "@jupyter-widgets/base",
      "_view_module_version": "1.2.0",
      "_view_name": "LayoutView",
      "align_content": null,
      "align_items": null,
      "align_self": null,
      "border": null,
      "bottom": null,
      "display": null,
      "flex": null,
      "flex_flow": null,
      "grid_area": null,
      "grid_auto_columns": null,
      "grid_auto_flow": null,
      "grid_auto_rows": null,
      "grid_column": null,
      "grid_gap": null,
      "grid_row": null,
      "grid_template_areas": null,
      "grid_template_columns": null,
      "grid_template_rows": null,
      "height": null,
      "justify_content": null,
      "justify_items": null,
      "left": null,
      "margin": null,
      "max_height": null,
      "max_width": null,
      "min_height": null,
      "min_width": null,
      "object_fit": null,
      "object_position": null,
      "order": null,
      "overflow": null,
      "overflow_x": null,
      "overflow_y": null,
      "padding": null,
      "right": null,
      "top": null,
      "visibility": null,
      "width": null
     }
    },
    "3ba05351adc947c594b213bdcc4a7311": {
     "model_module": "@jupyter-widgets/controls",
     "model_module_version": "1.5.0",
     "model_name": "ProgressStyleModel",
     "state": {
      "_model_module": "@jupyter-widgets/controls",
      "_model_module_version": "1.5.0",
      "_model_name": "ProgressStyleModel",
      "_view_count": null,
      "_view_module": "@jupyter-widgets/base",
      "_view_module_version": "1.2.0",
      "_view_name": "StyleView",
      "bar_color": null,
      "description_width": ""
     }
    },
    "519e4e718ab84cfaa5dfdbd153a46517": {
     "model_module": "@jupyter-widgets/controls",
     "model_module_version": "1.5.0",
     "model_name": "ProgressStyleModel",
     "state": {
      "_model_module": "@jupyter-widgets/controls",
      "_model_module_version": "1.5.0",
      "_model_name": "ProgressStyleModel",
      "_view_count": null,
      "_view_module": "@jupyter-widgets/base",
      "_view_module_version": "1.2.0",
      "_view_name": "StyleView",
      "bar_color": null,
      "description_width": ""
     }
    },
    "56a20668352d49db91cf4c8939393dc4": {
     "model_module": "@jupyter-widgets/base",
     "model_module_version": "1.2.0",
     "model_name": "LayoutModel",
     "state": {
      "_model_module": "@jupyter-widgets/base",
      "_model_module_version": "1.2.0",
      "_model_name": "LayoutModel",
      "_view_count": null,
      "_view_module": "@jupyter-widgets/base",
      "_view_module_version": "1.2.0",
      "_view_name": "LayoutView",
      "align_content": null,
      "align_items": null,
      "align_self": null,
      "border": null,
      "bottom": null,
      "display": null,
      "flex": null,
      "flex_flow": null,
      "grid_area": null,
      "grid_auto_columns": null,
      "grid_auto_flow": null,
      "grid_auto_rows": null,
      "grid_column": null,
      "grid_gap": null,
      "grid_row": null,
      "grid_template_areas": null,
      "grid_template_columns": null,
      "grid_template_rows": null,
      "height": null,
      "justify_content": null,
      "justify_items": null,
      "left": null,
      "margin": null,
      "max_height": null,
      "max_width": null,
      "min_height": null,
      "min_width": null,
      "object_fit": null,
      "object_position": null,
      "order": null,
      "overflow": null,
      "overflow_x": null,
      "overflow_y": null,
      "padding": null,
      "right": null,
      "top": null,
      "visibility": null,
      "width": null
     }
    },
    "64766fdd672344fa8dce51c2a23be45c": {
     "model_module": "@jupyter-widgets/controls",
     "model_module_version": "1.5.0",
     "model_name": "DescriptionStyleModel",
     "state": {
      "_model_module": "@jupyter-widgets/controls",
      "_model_module_version": "1.5.0",
      "_model_name": "DescriptionStyleModel",
      "_view_count": null,
      "_view_module": "@jupyter-widgets/base",
      "_view_module_version": "1.2.0",
      "_view_name": "StyleView",
      "description_width": ""
     }
    },
    "650bf0b17f1145b48b2a63c08b96ceff": {
     "model_module": "@jupyter-widgets/base",
     "model_module_version": "1.2.0",
     "model_name": "LayoutModel",
     "state": {
      "_model_module": "@jupyter-widgets/base",
      "_model_module_version": "1.2.0",
      "_model_name": "LayoutModel",
      "_view_count": null,
      "_view_module": "@jupyter-widgets/base",
      "_view_module_version": "1.2.0",
      "_view_name": "LayoutView",
      "align_content": null,
      "align_items": null,
      "align_self": null,
      "border": null,
      "bottom": null,
      "display": null,
      "flex": null,
      "flex_flow": null,
      "grid_area": null,
      "grid_auto_columns": null,
      "grid_auto_flow": null,
      "grid_auto_rows": null,
      "grid_column": null,
      "grid_gap": null,
      "grid_row": null,
      "grid_template_areas": null,
      "grid_template_columns": null,
      "grid_template_rows": null,
      "height": null,
      "justify_content": null,
      "justify_items": null,
      "left": null,
      "margin": null,
      "max_height": null,
      "max_width": null,
      "min_height": null,
      "min_width": null,
      "object_fit": null,
      "object_position": null,
      "order": null,
      "overflow": null,
      "overflow_x": null,
      "overflow_y": null,
      "padding": null,
      "right": null,
      "top": null,
      "visibility": null,
      "width": null
     }
    },
    "8feeb2f910d74fc89c96c753ffb98bce": {
     "model_module": "@jupyter-widgets/controls",
     "model_module_version": "1.5.0",
     "model_name": "FloatProgressModel",
     "state": {
      "_dom_classes": [],
      "_model_module": "@jupyter-widgets/controls",
      "_model_module_version": "1.5.0",
      "_model_name": "FloatProgressModel",
      "_view_count": null,
      "_view_module": "@jupyter-widgets/controls",
      "_view_module_version": "1.5.0",
      "_view_name": "ProgressView",
      "bar_style": "success",
      "description": "",
      "description_tooltip": null,
      "layout": "IPY_MODEL_56a20668352d49db91cf4c8939393dc4",
      "max": 10,
      "min": 0,
      "orientation": "horizontal",
      "style": "IPY_MODEL_519e4e718ab84cfaa5dfdbd153a46517",
      "value": 10
     }
    },
    "927a64ee5c6845f2bd21d9bfad94dc19": {
     "model_module": "@jupyter-widgets/controls",
     "model_module_version": "1.5.0",
     "model_name": "HBoxModel",
     "state": {
      "_dom_classes": [],
      "_model_module": "@jupyter-widgets/controls",
      "_model_module_version": "1.5.0",
      "_model_name": "HBoxModel",
      "_view_count": null,
      "_view_module": "@jupyter-widgets/controls",
      "_view_module_version": "1.5.0",
      "_view_name": "HBoxView",
      "box_style": "",
      "children": [
       "IPY_MODEL_0213b485a1da406ba8bc92d79e6419f0",
       "IPY_MODEL_8feeb2f910d74fc89c96c753ffb98bce",
       "IPY_MODEL_f9fbf745f5f3455d8a0dfc9a06e215b3"
      ],
      "layout": "IPY_MODEL_f891d88dd8834e75920473b3f5743804"
     }
    },
    "a3555681e58a4bcdb76ff83c1768cb7f": {
     "model_module": "@jupyter-widgets/base",
     "model_module_version": "1.2.0",
     "model_name": "LayoutModel",
     "state": {
      "_model_module": "@jupyter-widgets/base",
      "_model_module_version": "1.2.0",
      "_model_name": "LayoutModel",
      "_view_count": null,
      "_view_module": "@jupyter-widgets/base",
      "_view_module_version": "1.2.0",
      "_view_name": "LayoutView",
      "align_content": null,
      "align_items": null,
      "align_self": null,
      "border": null,
      "bottom": null,
      "display": null,
      "flex": null,
      "flex_flow": null,
      "grid_area": null,
      "grid_auto_columns": null,
      "grid_auto_flow": null,
      "grid_auto_rows": null,
      "grid_column": null,
      "grid_gap": null,
      "grid_row": null,
      "grid_template_areas": null,
      "grid_template_columns": null,
      "grid_template_rows": null,
      "height": null,
      "justify_content": null,
      "justify_items": null,
      "left": null,
      "margin": null,
      "max_height": null,
      "max_width": null,
      "min_height": null,
      "min_width": null,
      "object_fit": null,
      "object_position": null,
      "order": null,
      "overflow": null,
      "overflow_x": null,
      "overflow_y": null,
      "padding": null,
      "right": null,
      "top": null,
      "visibility": null,
      "width": null
     }
    },
    "af87f39dc3eb4c2c89d55590eb3146ed": {
     "model_module": "@jupyter-widgets/controls",
     "model_module_version": "1.5.0",
     "model_name": "DescriptionStyleModel",
     "state": {
      "_model_module": "@jupyter-widgets/controls",
      "_model_module_version": "1.5.0",
      "_model_name": "DescriptionStyleModel",
      "_view_count": null,
      "_view_module": "@jupyter-widgets/base",
      "_view_module_version": "1.2.0",
      "_view_name": "StyleView",
      "description_width": ""
     }
    },
    "bed178b1e6cc462f8d774431032b0aa2": {
     "model_module": "@jupyter-widgets/controls",
     "model_module_version": "1.5.0",
     "model_name": "DescriptionStyleModel",
     "state": {
      "_model_module": "@jupyter-widgets/controls",
      "_model_module_version": "1.5.0",
      "_model_name": "DescriptionStyleModel",
      "_view_count": null,
      "_view_module": "@jupyter-widgets/base",
      "_view_module_version": "1.2.0",
      "_view_name": "StyleView",
      "description_width": ""
     }
    },
    "d0e3f7abafdd4858bb4f3390fab79151": {
     "model_module": "@jupyter-widgets/base",
     "model_module_version": "1.2.0",
     "model_name": "LayoutModel",
     "state": {
      "_model_module": "@jupyter-widgets/base",
      "_model_module_version": "1.2.0",
      "_model_name": "LayoutModel",
      "_view_count": null,
      "_view_module": "@jupyter-widgets/base",
      "_view_module_version": "1.2.0",
      "_view_name": "LayoutView",
      "align_content": null,
      "align_items": null,
      "align_self": null,
      "border": null,
      "bottom": null,
      "display": null,
      "flex": null,
      "flex_flow": null,
      "grid_area": null,
      "grid_auto_columns": null,
      "grid_auto_flow": null,
      "grid_auto_rows": null,
      "grid_column": null,
      "grid_gap": null,
      "grid_row": null,
      "grid_template_areas": null,
      "grid_template_columns": null,
      "grid_template_rows": null,
      "height": null,
      "justify_content": null,
      "justify_items": null,
      "left": null,
      "margin": null,
      "max_height": null,
      "max_width": null,
      "min_height": null,
      "min_width": null,
      "object_fit": null,
      "object_position": null,
      "order": null,
      "overflow": null,
      "overflow_x": null,
      "overflow_y": null,
      "padding": null,
      "right": null,
      "top": null,
      "visibility": null,
      "width": null
     }
    },
    "d3770495ceda4cdfb5d1a4b626df4d80": {
     "model_module": "@jupyter-widgets/controls",
     "model_module_version": "1.5.0",
     "model_name": "HTMLModel",
     "state": {
      "_dom_classes": [],
      "_model_module": "@jupyter-widgets/controls",
      "_model_module_version": "1.5.0",
      "_model_name": "HTMLModel",
      "_view_count": null,
      "_view_module": "@jupyter-widgets/controls",
      "_view_module_version": "1.5.0",
      "_view_name": "HTMLView",
      "description": "",
      "description_tooltip": null,
      "layout": "IPY_MODEL_247b31d184ae45d8a40d4506568e642a",
      "placeholder": "​",
      "style": "IPY_MODEL_64766fdd672344fa8dce51c2a23be45c",
      "value": " 8.70k/8.70k [02:46&lt;00:00, 52.3triple/s]"
     }
    },
    "d9e26b1459ba47bc8e0eb85158aec5be": {
     "model_module": "@jupyter-widgets/base",
     "model_module_version": "1.2.0",
     "model_name": "LayoutModel",
     "state": {
      "_model_module": "@jupyter-widgets/base",
      "_model_module_version": "1.2.0",
      "_model_name": "LayoutModel",
      "_view_count": null,
      "_view_module": "@jupyter-widgets/base",
      "_view_module_version": "1.2.0",
      "_view_name": "LayoutView",
      "align_content": null,
      "align_items": null,
      "align_self": null,
      "border": null,
      "bottom": null,
      "display": null,
      "flex": null,
      "flex_flow": null,
      "grid_area": null,
      "grid_auto_columns": null,
      "grid_auto_flow": null,
      "grid_auto_rows": null,
      "grid_column": null,
      "grid_gap": null,
      "grid_row": null,
      "grid_template_areas": null,
      "grid_template_columns": null,
      "grid_template_rows": null,
      "height": null,
      "justify_content": null,
      "justify_items": null,
      "left": null,
      "margin": null,
      "max_height": null,
      "max_width": null,
      "min_height": null,
      "min_width": null,
      "object_fit": null,
      "object_position": null,
      "order": null,
      "overflow": null,
      "overflow_x": null,
      "overflow_y": null,
      "padding": null,
      "right": null,
      "top": null,
      "visibility": null,
      "width": null
     }
    },
    "e26350e29e8b41939969662c690b9bf9": {
     "model_module": "@jupyter-widgets/base",
     "model_module_version": "1.2.0",
     "model_name": "LayoutModel",
     "state": {
      "_model_module": "@jupyter-widgets/base",
      "_model_module_version": "1.2.0",
      "_model_name": "LayoutModel",
      "_view_count": null,
      "_view_module": "@jupyter-widgets/base",
      "_view_module_version": "1.2.0",
      "_view_name": "LayoutView",
      "align_content": null,
      "align_items": null,
      "align_self": null,
      "border": null,
      "bottom": null,
      "display": null,
      "flex": null,
      "flex_flow": null,
      "grid_area": null,
      "grid_auto_columns": null,
      "grid_auto_flow": null,
      "grid_auto_rows": null,
      "grid_column": null,
      "grid_gap": null,
      "grid_row": null,
      "grid_template_areas": null,
      "grid_template_columns": null,
      "grid_template_rows": null,
      "height": null,
      "justify_content": null,
      "justify_items": null,
      "left": null,
      "margin": null,
      "max_height": null,
      "max_width": null,
      "min_height": null,
      "min_width": null,
      "object_fit": null,
      "object_position": null,
      "order": null,
      "overflow": null,
      "overflow_x": null,
      "overflow_y": null,
      "padding": null,
      "right": null,
      "top": null,
      "visibility": null,
      "width": null
     }
    },
    "e2b67f14a33647e5a0aa3bc3a84ddf3a": {
     "model_module": "@jupyter-widgets/controls",
     "model_module_version": "1.5.0",
     "model_name": "HBoxModel",
     "state": {
      "_dom_classes": [],
      "_model_module": "@jupyter-widgets/controls",
      "_model_module_version": "1.5.0",
      "_model_name": "HBoxModel",
      "_view_count": null,
      "_view_module": "@jupyter-widgets/controls",
      "_view_module_version": "1.5.0",
      "_view_name": "HBoxView",
      "box_style": "",
      "children": [
       "IPY_MODEL_0555ac6ba05c489b8506aa3d80681d88",
       "IPY_MODEL_09d37cab1395415ca4f11d94e9628983",
       "IPY_MODEL_d3770495ceda4cdfb5d1a4b626df4d80"
      ],
      "layout": "IPY_MODEL_e26350e29e8b41939969662c690b9bf9"
     }
    },
    "e58d9c8bfbe6462d9708182ff2330239": {
     "model_module": "@jupyter-widgets/controls",
     "model_module_version": "1.5.0",
     "model_name": "DescriptionStyleModel",
     "state": {
      "_model_module": "@jupyter-widgets/controls",
      "_model_module_version": "1.5.0",
      "_model_name": "DescriptionStyleModel",
      "_view_count": null,
      "_view_module": "@jupyter-widgets/base",
      "_view_module_version": "1.2.0",
      "_view_name": "StyleView",
      "description_width": ""
     }
    },
    "f891d88dd8834e75920473b3f5743804": {
     "model_module": "@jupyter-widgets/base",
     "model_module_version": "1.2.0",
     "model_name": "LayoutModel",
     "state": {
      "_model_module": "@jupyter-widgets/base",
      "_model_module_version": "1.2.0",
      "_model_name": "LayoutModel",
      "_view_count": null,
      "_view_module": "@jupyter-widgets/base",
      "_view_module_version": "1.2.0",
      "_view_name": "LayoutView",
      "align_content": null,
      "align_items": null,
      "align_self": null,
      "border": null,
      "bottom": null,
      "display": null,
      "flex": null,
      "flex_flow": null,
      "grid_area": null,
      "grid_auto_columns": null,
      "grid_auto_flow": null,
      "grid_auto_rows": null,
      "grid_column": null,
      "grid_gap": null,
      "grid_row": null,
      "grid_template_areas": null,
      "grid_template_columns": null,
      "grid_template_rows": null,
      "height": null,
      "justify_content": null,
      "justify_items": null,
      "left": null,
      "margin": null,
      "max_height": null,
      "max_width": null,
      "min_height": null,
      "min_width": null,
      "object_fit": null,
      "object_position": null,
      "order": null,
      "overflow": null,
      "overflow_x": null,
      "overflow_y": null,
      "padding": null,
      "right": null,
      "top": null,
      "visibility": null,
      "width": null
     }
    },
    "f9fbf745f5f3455d8a0dfc9a06e215b3": {
     "model_module": "@jupyter-widgets/controls",
     "model_module_version": "1.5.0",
     "model_name": "HTMLModel",
     "state": {
      "_dom_classes": [],
      "_model_module": "@jupyter-widgets/controls",
      "_model_module_version": "1.5.0",
      "_model_name": "HTMLModel",
      "_view_count": null,
      "_view_module": "@jupyter-widgets/controls",
      "_view_module_version": "1.5.0",
      "_view_name": "HTMLView",
      "description": "",
      "description_tooltip": null,
      "layout": "IPY_MODEL_d0e3f7abafdd4858bb4f3390fab79151",
      "placeholder": "​",
      "style": "IPY_MODEL_bed178b1e6cc462f8d774431032b0aa2",
      "value": " 10/10 [00:56&lt;00:00,  5.60s/epoch, loss=0.000101, prev_loss=0.00011]"
     }
    }
   }
  }
 },
 "nbformat": 4,
 "nbformat_minor": 1
}

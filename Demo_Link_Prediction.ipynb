{
 "cells": [
  {
   "cell_type": "code",
   "execution_count": 1,
   "id": "a79e104c",
   "metadata": {},
   "outputs": [],
   "source": [
    "import matplotlib.pyplot as plt\n",
    "\n",
    "\n",
    "from pykeen.triples import TriplesFactory\n",
    "from pykeen.pipeline import pipeline\n",
    "from pykeen.models import predict\n",
    "import pandas as pd\n",
    "import numpy as np\n",
    "\n",
    "import statistics\n",
    "from scipy.ndimage import gaussian_filter1d\n",
    "import math"
   ]
  },
  {
   "cell_type": "code",
   "execution_count": 2,
   "id": "5edfed04",
   "metadata": {},
   "outputs": [],
   "source": [
    "def load_dataset(name):\n",
    "    triple_data = open(name).read().strip()\n",
    "    data = np.array([triple.split(' ')[:-1] for triple in triple_data.split('\\n')])  # removing ' .'\n",
    "    triple = []\n",
    "    for t in data:\n",
    "        t[2] = ' '.join(t[2:])\n",
    "        t = t[:3]\n",
    "        triple.append(t)\n",
    "    triple = np.array(triple)\n",
    "    tf_data = TriplesFactory.from_labeled_triples(triples=triple)\n",
    "    return tf_data, triple\n",
    "\n",
    "\n",
    "def create_model(tf_training, tf_testing, embedding, n_epoch, path):\n",
    "    results = pipeline(\n",
    "        training=tf_training,\n",
    "        testing=tf_testing,\n",
    "        model=embedding,  # 'TransE',  #'RotatE'\n",
    "        # Training configuration\n",
    "        training_kwargs=dict(\n",
    "            num_epochs=n_epoch,\n",
    "            use_tqdm_batch=False,\n",
    "        ),\n",
    "        # Runtime configuration\n",
    "        random_seed=1235,\n",
    "        device='cpu',\n",
    "    )\n",
    "    model = results.model\n",
    "    results.save_to_directory(path + embedding)\n",
    "    return model, results\n",
    "\n",
    "\n",
    "def filter_prediction(predicted_heads_df, constraint):\n",
    "    predicted_heads_df = predicted_heads_df[predicted_heads_df.head_label.str.contains(constraint)]\n",
    "    predicted_heads_df = reset_index(predicted_heads_df)\n",
    "    return predicted_heads_df\n",
    "\n",
    "\n",
    "def filter_by_type(predicted_heads, triple_data, entity_type):\n",
    "    list_entity = predicted_heads.head_label\n",
    "    entity = []\n",
    "    for s in list_entity:\n",
    "        for triple in triple_data:\n",
    "            b = [s, '<http://www.w3.org/1999/02/22-rdf-syntax-ns#type>', entity_type] == triple\n",
    "            if np.all(b):\n",
    "                entity.append(s)\n",
    "                break\n",
    "    predicted_heads = predicted_heads.loc[predicted_heads.head_label.isin(entity)]\n",
    "    predicted_heads = reset_index(predicted_heads)\n",
    "    return predicted_heads, entity\n",
    "\n",
    "\n",
    "def get_threshold(predicted_heads, percentile):\n",
    "    score_values = predicted_heads.score.values\n",
    "    threshold = np.percentile(score_values, percentile)\n",
    "    threshold_index = predicted_heads.loc[predicted_heads.score > threshold].shape[0]\n",
    "    print(threshold, threshold_index)\n",
    "    return threshold, threshold_index\n",
    "\n",
    "\n",
    "def get_inflection_point(score_values):\n",
    "    # standard deviation\n",
    "    stdev = statistics.stdev(score_values)\n",
    "    # smooth\n",
    "    smooth = gaussian_filter1d(score_values, stdev)\n",
    "    # compute second derivative\n",
    "    smooth_d2 = np.gradient(np.gradient(smooth))\n",
    "    # find switching points\n",
    "    infls = np.where(np.diff(np.sign(smooth_d2)))[0]\n",
    "    if len(infls) == 1:\n",
    "        return infls[0]\n",
    "    if len(infls) == 0:\n",
    "        return len(score_values)\n",
    "    # middle inflection point\n",
    "    m_infls = infls[math.ceil(len(infls) / 2)]\n",
    "    return m_infls\n",
    "\n",
    "\n",
    "def get_precision(predicted_heads, inflection_index):\n",
    "    tp_fp = predicted_heads.iloc[0:inflection_index + 1]\n",
    "    tp = tp_fp.loc[tp_fp.in_training == True].shape[0]\n",
    "    prec = tp / tp_fp.shape[0]\n",
    "    return prec, tp\n",
    "\n",
    "\n",
    "def get_recall(predicted_heads, tp):\n",
    "    tp_fn = predicted_heads.loc[predicted_heads.in_training == True].shape[0]\n",
    "    rec = tp / tp_fn\n",
    "    return rec\n",
    "\n",
    "\n",
    "def get_f_measure(precision, recall):\n",
    "    f_measure = 2 * (precision * recall) / (precision + recall)\n",
    "    return f_measure\n",
    "\n",
    "\n",
    "def reset_index(predicted_heads):\n",
    "    predicted_heads.reset_index(inplace=True)\n",
    "    predicted_heads.drop(columns=['index'], inplace=True)\n",
    "    return predicted_heads\n",
    "\n",
    "\n",
    "def compute_metrics(predicted_heads, cut_index):\n",
    "    precision, tp = get_precision(predicted_heads, cut_index)\n",
    "    recall = get_recall(predicted_heads, tp)\n",
    "    f_measure = get_f_measure(precision, recall)\n",
    "    return pd.DataFrame(columns=['precision', 'recall', 'f_measure'],\n",
    "                        data=[[precision,recall,f_measure]], index=['MuRe'])"
   ]
  },
  {
   "cell_type": "markdown",
   "id": "6d0d5b66",
   "metadata": {},
   "source": [
    "#### Load dataset I4.0 KG"
   ]
  },
  {
   "cell_type": "code",
   "execution_count": 3,
   "id": "8e6b5283",
   "metadata": {},
   "outputs": [
    {
     "name": "stderr",
     "output_type": "stream",
     "text": [
      "/tmp/ipykernel_18119/1725407206.py:3: VisibleDeprecationWarning: Creating an ndarray from ragged nested sequences (which is a list-or-tuple of lists-or-tuples-or ndarrays with different lengths or shapes) is deprecated. If you meant to do this, you must specify 'dtype=object' when creating the ndarray.\n",
      "  data = np.array([triple.split(' ')[:-1] for triple in triple_data.split('\\n')])  # removing ' .'\n"
     ]
    },
    {
     "name": "stdout",
     "output_type": "stream",
     "text": [
      "The first two triples:\n",
      " [['<http://www.w3.org/1999/02/22-rdf-syntax-ns#value>'\n",
      "  '<http://www.w3.org/1999/02/22-rdf-syntax-ns#type>'\n",
      "  '<http://www.w3.org/2002/07/owl#AnnotationProperty>']\n",
      " ['<http://www.w3.org/2001/XMLSchema#gYear>'\n",
      "  '<http://www.w3.org/1999/02/22-rdf-syntax-ns#type>'\n",
      "  '<http://www.w3.org/2000/01/rdf-schema#Datatype>']]\n"
     ]
    },
    {
     "data": {
      "text/plain": [
       "TriplesFactory(num_entities=8947, num_relations=107, num_triples=43475, inverse_triples=False)"
      ]
     },
     "execution_count": 3,
     "metadata": {},
     "output_type": "execute_result"
    }
   ],
   "source": [
    "tf_data, triple_data = load_dataset('sto-enriched-relatedTo.nt')\n",
    "print('The first two triples:\\n', triple_data[:2])\n",
    "tf_data"
   ]
  },
  {
   "cell_type": "markdown",
   "id": "9c497df5",
   "metadata": {},
   "source": [
    "### Create training and testing set"
   ]
  },
  {
   "cell_type": "code",
   "execution_count": 4,
   "id": "2740e83e",
   "metadata": {},
   "outputs": [],
   "source": [
    "training, testing = tf_data.split(random_state=1234)"
   ]
  },
  {
   "cell_type": "markdown",
   "id": "227e443a",
   "metadata": {},
   "source": [
    "### Buildind the model"
   ]
  },
  {
   "cell_type": "code",
   "execution_count": 5,
   "id": "14fd2534",
   "metadata": {},
   "outputs": [
    {
     "data": {
      "application/vnd.jupyter.widget-view+json": {
       "model_id": "2ab1029a8b534b85909721fdb2e2ae2b",
       "version_major": 2,
       "version_minor": 0
      },
      "text/plain": [
       "Training epochs on cpu:   0%|          | 0/10 [00:00<?, ?epoch/s]"
      ]
     },
     "metadata": {},
     "output_type": "display_data"
    },
    {
     "name": "stderr",
     "output_type": "stream",
     "text": [
      "INFO:pykeen.evaluation.evaluator:Currently automatic memory optimization only supports GPUs, but you're using a CPU. Therefore, the batch_size will be set to the default value.\n",
      "INFO:pykeen.evaluation.evaluator:No evaluation batch_size provided. Setting batch_size to '32'.\n"
     ]
    },
    {
     "data": {
      "application/vnd.jupyter.widget-view+json": {
       "model_id": "a6e3b69d41384ec09804180327862aa3",
       "version_major": 2,
       "version_minor": 0
      },
      "text/plain": [
       "Evaluating on cpu:   0%|          | 0.00/8.70k [00:00<?, ?triple/s]"
      ]
     },
     "metadata": {},
     "output_type": "display_data"
    },
    {
     "name": "stderr",
     "output_type": "stream",
     "text": [
      "INFO:pykeen.evaluation.evaluator:Evaluation took 64.89s seconds\n"
     ]
    }
   ],
   "source": [
    "model, results = create_model(training, testing, 'MuRe', 10, 'results_I4.0/')"
   ]
  },
  {
   "cell_type": "markdown",
   "id": "907b7a65",
   "metadata": {},
   "source": [
    "### Evaluating the Results"
   ]
  },
  {
   "cell_type": "code",
   "execution_count": 6,
   "id": "3dfcdaa4",
   "metadata": {},
   "outputs": [
    {
     "data": {
      "text/plain": [
       "<AxesSubplot:title={'center':'Losses Plot'}, xlabel='Epoch', ylabel='marginranking Loss'>"
      ]
     },
     "execution_count": 6,
     "metadata": {},
     "output_type": "execute_result"
    },
    {
     "data": {
      "image/png": "[encoded data removed]",
      "text/plain": [
       "<Figure size 432x288 with 1 Axes>"
      ]
     },
     "metadata": {},
     "output_type": "display_data"
    }
   ],
   "source": [
    "results.plot_losses()"
   ]
  },
  {
   "cell_type": "markdown",
   "id": "a9bbd9b1",
   "metadata": {},
   "source": [
    "- adjusted mean rank is between [0, 2]. Lower is better.\n",
    "- mean rank is a positive integer, with a bound based on the number of entities. Lower is better!\n",
    "- hits@k is reported between [0, 1] and interpreted as a percentage. Higher is better!"
   ]
  },
  {
   "cell_type": "code",
   "execution_count": 7,
   "id": "d827de9f",
   "metadata": {},
   "outputs": [
    {
     "data": {
      "text/html": [
       "<div>\n",
       "<style scoped>\n",
       "    .dataframe tbody tr th:only-of-type {\n",
       "        vertical-align: middle;\n",
       "    }\n",
       "\n",
       "    .dataframe tbody tr th {\n",
       "        vertical-align: top;\n",
       "    }\n",
       "\n",
       "    .dataframe thead th {\n",
       "        text-align: right;\n",
       "    }\n",
       "</style>\n",
       "<table border=\"1\" class=\"dataframe\">\n",
       "  <thead>\n",
       "    <tr style=\"text-align: right;\">\n",
       "      <th></th>\n",
       "      <th>Side</th>\n",
       "      <th>Type</th>\n",
       "      <th>Metric</th>\n",
       "      <th>Value</th>\n",
       "    </tr>\n",
       "  </thead>\n",
       "  <tbody>\n",
       "    <tr>\n",
       "      <th>0</th>\n",
       "      <td>tail</td>\n",
       "      <td>realistic</td>\n",
       "      <td>hits_at_1</td>\n",
       "      <td>0.752271</td>\n",
       "    </tr>\n",
       "    <tr>\n",
       "      <th>1</th>\n",
       "      <td>tail</td>\n",
       "      <td>realistic</td>\n",
       "      <td>hits_at_3</td>\n",
       "      <td>0.788269</td>\n",
       "    </tr>\n",
       "    <tr>\n",
       "      <th>2</th>\n",
       "      <td>tail</td>\n",
       "      <td>realistic</td>\n",
       "      <td>hits_at_5</td>\n",
       "      <td>0.811041</td>\n",
       "    </tr>\n",
       "    <tr>\n",
       "      <th>3</th>\n",
       "      <td>tail</td>\n",
       "      <td>realistic</td>\n",
       "      <td>hits_at_10</td>\n",
       "      <td>0.846233</td>\n",
       "    </tr>\n",
       "    <tr>\n",
       "      <th>4</th>\n",
       "      <td>tail</td>\n",
       "      <td>realistic</td>\n",
       "      <td>arithmetic_mean_rank</td>\n",
       "      <td>23.532605</td>\n",
       "    </tr>\n",
       "    <tr>\n",
       "      <th>...</th>\n",
       "      <td>...</td>\n",
       "      <td>...</td>\n",
       "      <td>...</td>\n",
       "      <td>...</td>\n",
       "    </tr>\n",
       "    <tr>\n",
       "      <th>136</th>\n",
       "      <td>head</td>\n",
       "      <td>optimistic</td>\n",
       "      <td>inverse_harmonic_mean_rank</td>\n",
       "      <td>0.675026</td>\n",
       "    </tr>\n",
       "    <tr>\n",
       "      <th>137</th>\n",
       "      <td>head</td>\n",
       "      <td>optimistic</td>\n",
       "      <td>inverse_median_rank</td>\n",
       "      <td>1.000000</td>\n",
       "    </tr>\n",
       "    <tr>\n",
       "      <th>138</th>\n",
       "      <td>head</td>\n",
       "      <td>optimistic</td>\n",
       "      <td>rank_std</td>\n",
       "      <td>198.520378</td>\n",
       "    </tr>\n",
       "    <tr>\n",
       "      <th>139</th>\n",
       "      <td>head</td>\n",
       "      <td>optimistic</td>\n",
       "      <td>rank_var</td>\n",
       "      <td>39410.340642</td>\n",
       "    </tr>\n",
       "    <tr>\n",
       "      <th>140</th>\n",
       "      <td>head</td>\n",
       "      <td>optimistic</td>\n",
       "      <td>rank_mad</td>\n",
       "      <td>0.000000</td>\n",
       "    </tr>\n",
       "  </tbody>\n",
       "</table>\n",
       "<p>141 rows × 4 columns</p>\n",
       "</div>"
      ],
      "text/plain": [
       "     Side        Type                      Metric         Value\n",
       "0    tail   realistic                   hits_at_1      0.752271\n",
       "1    tail   realistic                   hits_at_3      0.788269\n",
       "2    tail   realistic                   hits_at_5      0.811041\n",
       "3    tail   realistic                  hits_at_10      0.846233\n",
       "4    tail   realistic        arithmetic_mean_rank     23.532605\n",
       "..    ...         ...                         ...           ...\n",
       "136  head  optimistic  inverse_harmonic_mean_rank      0.675026\n",
       "137  head  optimistic         inverse_median_rank      1.000000\n",
       "138  head  optimistic                    rank_std    198.520378\n",
       "139  head  optimistic                    rank_var  39410.340642\n",
       "140  head  optimistic                    rank_mad      0.000000\n",
       "\n",
       "[141 rows x 4 columns]"
      ]
     },
     "execution_count": 7,
     "metadata": {},
     "output_type": "execute_result"
    }
   ],
   "source": [
    "results.metric_results.to_df()"
   ]
  },
  {
   "cell_type": "markdown",
   "id": "0314ad03",
   "metadata": {},
   "source": [
    "## Link Prediction"
   ]
  },
  {
   "cell_type": "markdown",
   "id": "42a41148",
   "metadata": {},
   "source": [
    "The predictions are ordered by their scores.\n",
    "All interaction functions in PyKEEN have been implemented such that the higher the score (or less negative the score), the more likely a triple is to be true."
   ]
  },
  {
   "cell_type": "markdown",
   "id": "502b6372",
   "metadata": {},
   "source": [
    "### Predict links (Head prediction)"
   ]
  },
  {
   "cell_type": "code",
   "execution_count": 8,
   "id": "8ca42474",
   "metadata": {},
   "outputs": [
    {
     "data": {
      "text/html": [
       "<div>\n",
       "<style scoped>\n",
       "    .dataframe tbody tr th:only-of-type {\n",
       "        vertical-align: middle;\n",
       "    }\n",
       "\n",
       "    .dataframe tbody tr th {\n",
       "        vertical-align: top;\n",
       "    }\n",
       "\n",
       "    .dataframe thead th {\n",
       "        text-align: right;\n",
       "    }\n",
       "</style>\n",
       "<table border=\"1\" class=\"dataframe\">\n",
       "  <thead>\n",
       "    <tr style=\"text-align: right;\">\n",
       "      <th></th>\n",
       "      <th>head_id</th>\n",
       "      <th>head_label</th>\n",
       "      <th>score</th>\n",
       "      <th>in_training</th>\n",
       "    </tr>\n",
       "  </thead>\n",
       "  <tbody>\n",
       "    <tr>\n",
       "      <th>7292</th>\n",
       "      <td>7292</td>\n",
       "      <td>&lt;https://w3id.org/i40/sto#NISTIR_8062&gt;</td>\n",
       "      <td>-0.650021</td>\n",
       "      <td>True</td>\n",
       "    </tr>\n",
       "    <tr>\n",
       "      <th>7016</th>\n",
       "      <td>7016</td>\n",
       "      <td>&lt;https://w3id.org/i40/sto#IEC_61987_X&gt;</td>\n",
       "      <td>-0.658721</td>\n",
       "      <td>True</td>\n",
       "    </tr>\n",
       "    <tr>\n",
       "      <th>7018</th>\n",
       "      <td>7018</td>\n",
       "      <td>&lt;https://w3id.org/i40/sto#IEC_62237&gt;</td>\n",
       "      <td>-0.675128</td>\n",
       "      <td>True</td>\n",
       "    </tr>\n",
       "    <tr>\n",
       "      <th>6996</th>\n",
       "      <td>6996</td>\n",
       "      <td>&lt;https://w3id.org/i40/sto#IEC_61850_P7_S4_E2&gt;</td>\n",
       "      <td>-0.675763</td>\n",
       "      <td>True</td>\n",
       "    </tr>\n",
       "    <tr>\n",
       "      <th>7166</th>\n",
       "      <td>7166</td>\n",
       "      <td>&lt;https://w3id.org/i40/sto#ISO_29002&gt;</td>\n",
       "      <td>-0.676779</td>\n",
       "      <td>True</td>\n",
       "    </tr>\n",
       "    <tr>\n",
       "      <th>...</th>\n",
       "      <td>...</td>\n",
       "      <td>...</td>\n",
       "      <td>...</td>\n",
       "      <td>...</td>\n",
       "    </tr>\n",
       "    <tr>\n",
       "      <th>8001</th>\n",
       "      <td>8001</td>\n",
       "      <td>&lt;https://www.w3.org/Math/&gt;</td>\n",
       "      <td>-6.254831</td>\n",
       "      <td>False</td>\n",
       "    </tr>\n",
       "    <tr>\n",
       "      <th>4556</th>\n",
       "      <td>4556</td>\n",
       "      <td>&lt;http://el.dbpedia.org/resource/Ηλεκτρονικό_επ...</td>\n",
       "      <td>-6.255041</td>\n",
       "      <td>False</td>\n",
       "    </tr>\n",
       "    <tr>\n",
       "      <th>1611</th>\n",
       "      <td>1611</td>\n",
       "      <td>\"ISA 99\"@en</td>\n",
       "      <td>-6.290845</td>\n",
       "      <td>False</td>\n",
       "    </tr>\n",
       "    <tr>\n",
       "      <th>1783</th>\n",
       "      <td>1783</td>\n",
       "      <td>\"Industry Foundation Classes (IFC) for data sh...</td>\n",
       "      <td>-6.488185</td>\n",
       "      <td>False</td>\n",
       "    </tr>\n",
       "    <tr>\n",
       "      <th>8012</th>\n",
       "      <td>8012</td>\n",
       "      <td>&lt;https://www.w3.org/ns/oaXPathSelector&gt;</td>\n",
       "      <td>-6.760932</td>\n",
       "      <td>False</td>\n",
       "    </tr>\n",
       "  </tbody>\n",
       "</table>\n",
       "<p>8947 rows × 4 columns</p>\n",
       "</div>"
      ],
      "text/plain": [
       "      head_id                                         head_label     score  \\\n",
       "7292     7292             <https://w3id.org/i40/sto#NISTIR_8062> -0.650021   \n",
       "7016     7016             <https://w3id.org/i40/sto#IEC_61987_X> -0.658721   \n",
       "7018     7018               <https://w3id.org/i40/sto#IEC_62237> -0.675128   \n",
       "6996     6996      <https://w3id.org/i40/sto#IEC_61850_P7_S4_E2> -0.675763   \n",
       "7166     7166               <https://w3id.org/i40/sto#ISO_29002> -0.676779   \n",
       "...       ...                                                ...       ...   \n",
       "8001     8001                         <https://www.w3.org/Math/> -6.254831   \n",
       "4556     4556  <http://el.dbpedia.org/resource/Ηλεκτρονικό_επ... -6.255041   \n",
       "1611     1611                                        \"ISA 99\"@en -6.290845   \n",
       "1783     1783  \"Industry Foundation Classes (IFC) for data sh... -6.488185   \n",
       "8012     8012            <https://www.w3.org/ns/oaXPathSelector> -6.760932   \n",
       "\n",
       "      in_training  \n",
       "7292         True  \n",
       "7016         True  \n",
       "7018         True  \n",
       "6996         True  \n",
       "7166         True  \n",
       "...           ...  \n",
       "8001        False  \n",
       "4556        False  \n",
       "1611        False  \n",
       "1783        False  \n",
       "8012        False  \n",
       "\n",
       "[8947 rows x 4 columns]"
      ]
     },
     "execution_count": 8,
     "metadata": {},
     "output_type": "execute_result"
    }
   ],
   "source": [
    "#e1 = '<https://w3id.org/i40/sto#hasClassification>'\n",
    "#e2 = '<https://w3id.org/i40/rami#Safety>'\n",
    "e1 = '<https://w3id.org/i40/sto#relatedTo>'\n",
    "e2 = '<https://w3id.org/i40/sto#IEC_61850_P7_S3_E1>'\n",
    "predicted_heads = predict.get_head_prediction_df(model, e1, e2, triples_factory=tf_data)\n",
    "predicted_heads"
   ]
  },
  {
   "cell_type": "markdown",
   "id": "9ac5fb47",
   "metadata": {},
   "source": [
    "### Filter the prediction by the head 'sto'"
   ]
  },
  {
   "cell_type": "code",
   "execution_count": 9,
   "id": "23bfda38",
   "metadata": {},
   "outputs": [
    {
     "name": "stderr",
     "output_type": "stream",
     "text": [
      "/home/rivas/.local/lib/python3.8/site-packages/pandas/core/frame.py:4906: SettingWithCopyWarning: \n",
      "A value is trying to be set on a copy of a slice from a DataFrame\n",
      "\n",
      "See the caveats in the documentation: https://pandas.pydata.org/pandas-docs/stable/user_guide/indexing.html#returning-a-view-versus-a-copy\n",
      "  return super().drop(\n"
     ]
    },
    {
     "data": {
      "text/html": [
       "<div>\n",
       "<style scoped>\n",
       "    .dataframe tbody tr th:only-of-type {\n",
       "        vertical-align: middle;\n",
       "    }\n",
       "\n",
       "    .dataframe tbody tr th {\n",
       "        vertical-align: top;\n",
       "    }\n",
       "\n",
       "    .dataframe thead th {\n",
       "        text-align: right;\n",
       "    }\n",
       "</style>\n",
       "<table border=\"1\" class=\"dataframe\">\n",
       "  <thead>\n",
       "    <tr style=\"text-align: right;\">\n",
       "      <th></th>\n",
       "      <th>head_id</th>\n",
       "      <th>head_label</th>\n",
       "      <th>score</th>\n",
       "      <th>in_training</th>\n",
       "    </tr>\n",
       "  </thead>\n",
       "  <tbody>\n",
       "    <tr>\n",
       "      <th>0</th>\n",
       "      <td>7292</td>\n",
       "      <td>&lt;https://w3id.org/i40/sto#NISTIR_8062&gt;</td>\n",
       "      <td>-0.650021</td>\n",
       "      <td>True</td>\n",
       "    </tr>\n",
       "    <tr>\n",
       "      <th>1</th>\n",
       "      <td>7016</td>\n",
       "      <td>&lt;https://w3id.org/i40/sto#IEC_61987_X&gt;</td>\n",
       "      <td>-0.658721</td>\n",
       "      <td>True</td>\n",
       "    </tr>\n",
       "    <tr>\n",
       "      <th>2</th>\n",
       "      <td>7018</td>\n",
       "      <td>&lt;https://w3id.org/i40/sto#IEC_62237&gt;</td>\n",
       "      <td>-0.675128</td>\n",
       "      <td>True</td>\n",
       "    </tr>\n",
       "    <tr>\n",
       "      <th>3</th>\n",
       "      <td>6996</td>\n",
       "      <td>&lt;https://w3id.org/i40/sto#IEC_61850_P7_S4_E2&gt;</td>\n",
       "      <td>-0.675763</td>\n",
       "      <td>True</td>\n",
       "    </tr>\n",
       "    <tr>\n",
       "      <th>4</th>\n",
       "      <td>7166</td>\n",
       "      <td>&lt;https://w3id.org/i40/sto#ISO_29002&gt;</td>\n",
       "      <td>-0.676779</td>\n",
       "      <td>True</td>\n",
       "    </tr>\n",
       "    <tr>\n",
       "      <th>...</th>\n",
       "      <td>...</td>\n",
       "      <td>...</td>\n",
       "      <td>...</td>\n",
       "      <td>...</td>\n",
       "    </tr>\n",
       "    <tr>\n",
       "      <th>1294</th>\n",
       "      <td>6422</td>\n",
       "      <td>&lt;https://w3id.org/i40/sto#AnnoActuation&gt;</td>\n",
       "      <td>-5.360801</td>\n",
       "      <td>False</td>\n",
       "    </tr>\n",
       "    <tr>\n",
       "      <th>1295</th>\n",
       "      <td>6842</td>\n",
       "      <td>&lt;https://w3id.org/i40/sto#IDSRAMGovernanceAnno&gt;</td>\n",
       "      <td>-5.465618</td>\n",
       "      <td>False</td>\n",
       "    </tr>\n",
       "    <tr>\n",
       "      <th>1296</th>\n",
       "      <td>6849</td>\n",
       "      <td>&lt;https://w3id.org/i40/sto#IDSRAMProcessLayerAnno&gt;</td>\n",
       "      <td>-5.479919</td>\n",
       "      <td>False</td>\n",
       "    </tr>\n",
       "    <tr>\n",
       "      <th>1297</th>\n",
       "      <td>7531</td>\n",
       "      <td>&lt;https://w3id.org/i40/sto#Standard&gt;</td>\n",
       "      <td>-5.491151</td>\n",
       "      <td>False</td>\n",
       "    </tr>\n",
       "    <tr>\n",
       "      <th>1298</th>\n",
       "      <td>6507</td>\n",
       "      <td>&lt;https://w3id.org/i40/sto#Customer&gt;</td>\n",
       "      <td>-5.609319</td>\n",
       "      <td>False</td>\n",
       "    </tr>\n",
       "  </tbody>\n",
       "</table>\n",
       "<p>1299 rows × 4 columns</p>\n",
       "</div>"
      ],
      "text/plain": [
       "      head_id                                         head_label     score  \\\n",
       "0        7292             <https://w3id.org/i40/sto#NISTIR_8062> -0.650021   \n",
       "1        7016             <https://w3id.org/i40/sto#IEC_61987_X> -0.658721   \n",
       "2        7018               <https://w3id.org/i40/sto#IEC_62237> -0.675128   \n",
       "3        6996      <https://w3id.org/i40/sto#IEC_61850_P7_S4_E2> -0.675763   \n",
       "4        7166               <https://w3id.org/i40/sto#ISO_29002> -0.676779   \n",
       "...       ...                                                ...       ...   \n",
       "1294     6422           <https://w3id.org/i40/sto#AnnoActuation> -5.360801   \n",
       "1295     6842    <https://w3id.org/i40/sto#IDSRAMGovernanceAnno> -5.465618   \n",
       "1296     6849  <https://w3id.org/i40/sto#IDSRAMProcessLayerAnno> -5.479919   \n",
       "1297     7531                <https://w3id.org/i40/sto#Standard> -5.491151   \n",
       "1298     6507                <https://w3id.org/i40/sto#Customer> -5.609319   \n",
       "\n",
       "      in_training  \n",
       "0            True  \n",
       "1            True  \n",
       "2            True  \n",
       "3            True  \n",
       "4            True  \n",
       "...           ...  \n",
       "1294        False  \n",
       "1295        False  \n",
       "1296        False  \n",
       "1297        False  \n",
       "1298        False  \n",
       "\n",
       "[1299 rows x 4 columns]"
      ]
     },
     "execution_count": 9,
     "metadata": {},
     "output_type": "execute_result"
    }
   ],
   "source": [
    "predicted_heads = filter_prediction(predicted_heads, '<https://w3id.org/i40/sto#')\n",
    "predicted_heads"
   ]
  },
  {
   "cell_type": "markdown",
   "id": "27af2a59",
   "metadata": {},
   "source": [
    "### Filter by entity type 'Standard'. (it take some minutes)"
   ]
  },
  {
   "cell_type": "code",
   "execution_count": null,
   "id": "ac0c61bb",
   "metadata": {},
   "outputs": [],
   "source": [
    "predicted_heads, entity = filter_by_type(predicted_heads, triple_data, '<https://w3id.org/i40/sto#Standard>')\n",
    "predicted_heads"
   ]
  },
  {
   "cell_type": "markdown",
   "id": "d88b7763",
   "metadata": {},
   "source": [
    "### Plot of entities predicted score values"
   ]
  },
  {
   "cell_type": "code",
   "execution_count": 10,
   "id": "cd62e792",
   "metadata": {},
   "outputs": [
    {
     "data": {
      "image/png": "[encoded data removed]",
      "text/plain": [
       "<Figure size 432x288 with 1 Axes>"
      ]
     },
     "metadata": {},
     "output_type": "display_data"
    }
   ],
   "source": [
    "score_values = predicted_heads.score.values\n",
    "plt.plot(score_values)\n",
    "plt.xlabel(\"Entities\")\n",
    "plt.ylabel(\"Score\")\n",
    "plt.title(\"Predicted_heads\")\n",
    "plt.show()"
   ]
  },
  {
   "cell_type": "markdown",
   "id": "4aab68c6",
   "metadata": {},
   "source": [
    "### Strategy 'inflection point'"
   ]
  },
  {
   "cell_type": "code",
   "execution_count": 11,
   "id": "e91854d8",
   "metadata": {},
   "outputs": [
    {
     "data": {
      "text/html": [
       "<div>\n",
       "<style scoped>\n",
       "    .dataframe tbody tr th:only-of-type {\n",
       "        vertical-align: middle;\n",
       "    }\n",
       "\n",
       "    .dataframe tbody tr th {\n",
       "        vertical-align: top;\n",
       "    }\n",
       "\n",
       "    .dataframe thead th {\n",
       "        text-align: right;\n",
       "    }\n",
       "</style>\n",
       "<table border=\"1\" class=\"dataframe\">\n",
       "  <thead>\n",
       "    <tr style=\"text-align: right;\">\n",
       "      <th></th>\n",
       "      <th>precision</th>\n",
       "      <th>recall</th>\n",
       "      <th>f_measure</th>\n",
       "    </tr>\n",
       "  </thead>\n",
       "  <tbody>\n",
       "    <tr>\n",
       "      <th>MuRe</th>\n",
       "      <td>0.219585</td>\n",
       "      <td>1.0</td>\n",
       "      <td>0.360097</td>\n",
       "    </tr>\n",
       "  </tbody>\n",
       "</table>\n",
       "</div>"
      ],
      "text/plain": [
       "      precision  recall  f_measure\n",
       "MuRe   0.219585     1.0   0.360097"
      ]
     },
     "execution_count": 11,
     "metadata": {},
     "output_type": "execute_result"
    }
   ],
   "source": [
    "inflection_index = get_inflection_point(predicted_heads.score.values)\n",
    "compute_metrics(predicted_heads, inflection_index)"
   ]
  },
  {
   "cell_type": "markdown",
   "id": "e0da6d18",
   "metadata": {},
   "source": [
    "### Strategy 'threshold'"
   ]
  },
  {
   "cell_type": "code",
   "execution_count": 12,
   "id": "ba9dab87",
   "metadata": {},
   "outputs": [
    {
     "name": "stdout",
     "output_type": "stream",
     "text": [
      "-1.0873116493225095 130\n"
     ]
    },
    {
     "data": {
      "text/html": [
       "<div>\n",
       "<style scoped>\n",
       "    .dataframe tbody tr th:only-of-type {\n",
       "        vertical-align: middle;\n",
       "    }\n",
       "\n",
       "    .dataframe tbody tr th {\n",
       "        vertical-align: top;\n",
       "    }\n",
       "\n",
       "    .dataframe thead th {\n",
       "        text-align: right;\n",
       "    }\n",
       "</style>\n",
       "<table border=\"1\" class=\"dataframe\">\n",
       "  <thead>\n",
       "    <tr style=\"text-align: right;\">\n",
       "      <th></th>\n",
       "      <th>precision</th>\n",
       "      <th>recall</th>\n",
       "      <th>f_measure</th>\n",
       "    </tr>\n",
       "  </thead>\n",
       "  <tbody>\n",
       "    <tr>\n",
       "      <th>MuRe</th>\n",
       "      <td>1.0</td>\n",
       "      <td>0.885135</td>\n",
       "      <td>0.939068</td>\n",
       "    </tr>\n",
       "  </tbody>\n",
       "</table>\n",
       "</div>"
      ],
      "text/plain": [
       "      precision    recall  f_measure\n",
       "MuRe        1.0  0.885135   0.939068"
      ]
     },
     "execution_count": 12,
     "metadata": {},
     "output_type": "execute_result"
    }
   ],
   "source": [
    "threshold, threshold_index = get_threshold(predicted_heads, 90)\n",
    "compute_metrics(predicted_heads, threshold_index)"
   ]
  },
  {
   "cell_type": "code",
   "execution_count": null,
   "id": "8fe58edc",
   "metadata": {},
   "outputs": [],
   "source": []
  },
  {
   "cell_type": "code",
   "execution_count": null,
   "id": "f4d957b0",
   "metadata": {},
   "outputs": [],
   "source": []
  },
  {
   "cell_type": "code",
   "execution_count": null,
   "id": "5d7c4c64",
   "metadata": {},
   "outputs": [],
   "source": []
  }
 ],
 "metadata": {
  "kernelspec": {
   "display_name": "Python 3",
   "language": "python",
   "name": "python3"
  },
  "language_info": {
   "codemirror_mode": {
    "name": "ipython",
    "version": 3
   },
   "file_extension": ".py",
   "mimetype": "text/x-python",
   "name": "python",
   "nbconvert_exporter": "python",
   "pygments_lexer": "ipython3",
   "version": "3.7.10"
  }
 },
 "nbformat": 4,
 "nbformat_minor": 5
}

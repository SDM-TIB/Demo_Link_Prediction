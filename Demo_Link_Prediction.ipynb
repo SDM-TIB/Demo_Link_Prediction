{
 "cells": [
  {
   "cell_type": "code",
   "execution_count": 1,
   "id": "a79e104c",
   "metadata": {},
   "outputs": [],
   "source": [
    "import matplotlib.pyplot as plt\n",
    "\n",
    "\n",
    "from pykeen.triples import TriplesFactory\n",
    "from pykeen.pipeline import pipeline\n",
    "from pykeen.models import predict\n",
    "import pandas as pd\n",
    "import numpy as np\n",
    "\n",
    "import statistics\n",
    "from scipy.ndimage import gaussian_filter1d\n",
    "import math"
   ]
  },
  {
   "cell_type": "code",
   "execution_count": 43,
   "id": "5edfed04",
   "metadata": {},
   "outputs": [],
   "source": [
    "def load_dataset(name):\n",
    "    triple_data = open(name).read().strip()\n",
    "    data = np.array([triple.split(' ')[:-1] for triple in triple_data.split('\\n')])  # removing ' .'\n",
    "    triple = []\n",
    "    for t in data:\n",
    "        t[2] = ' '.join(t[2:])\n",
    "        t = t[:3]\n",
    "        triple.append(t)\n",
    "    triple = np.array(triple)\n",
    "    tf_data = TriplesFactory.from_labeled_triples(triples=triple)\n",
    "    return tf_data, triple\n",
    "\n",
    "\n",
    "def create_model(tf_training, tf_testing, embedding, n_epoch, path):\n",
    "    results = pipeline(\n",
    "        training=tf_training,\n",
    "        testing=tf_testing,\n",
    "        model=embedding,  # 'TransE',  #'RotatE'\n",
    "        # Training configuration\n",
    "        training_kwargs=dict(\n",
    "            num_epochs=n_epoch,\n",
    "            use_tqdm_batch=False,\n",
    "        ),\n",
    "        # Runtime configuration\n",
    "        random_seed=1235,\n",
    "        device='cpu',\n",
    "        \n",
    "        #training_loop='LCWA',\n",
    "        \n",
    "        training_loop='sLCWA',\n",
    "        negative_sampler='basic', #'bernoulli', 'basic',\n",
    "        \n",
    "        #negative_sampler_kwargs=dict(\n",
    "        #filtered=True,\n",
    "        #filterer='bloom',\n",
    "        #filterer_kwargs=dict(\n",
    "        #    error_rate=0.0001,\n",
    "        #)),\n",
    "    )\n",
    "    model = results.model\n",
    "    results.save_to_directory(path + embedding)\n",
    "    return model, results\n",
    "\n",
    "\n",
    "def filter_prediction(predicted_heads_df, constraint):\n",
    "    predicted_heads_df = predicted_heads_df[predicted_heads_df.head_label.str.contains(constraint)]\n",
    "    predicted_heads_df = reset_index(predicted_heads_df)\n",
    "    return predicted_heads_df\n",
    "\n",
    "\n",
    "def filter_by_type(predicted_heads, triple_data, entity_type):\n",
    "    list_entity = predicted_heads.head_label\n",
    "    entity = []\n",
    "    for s in list_entity:\n",
    "        for triple in triple_data:\n",
    "            b = [s, '<http://www.w3.org/1999/02/22-rdf-syntax-ns#type>', entity_type] == triple\n",
    "            if np.all(b):\n",
    "                entity.append(s)\n",
    "                break\n",
    "    predicted_heads = predicted_heads.loc[predicted_heads.head_label.isin(entity)]\n",
    "    predicted_heads = reset_index(predicted_heads)\n",
    "    return predicted_heads, entity\n",
    "\n",
    "\n",
    "def get_threshold(predicted_heads, percentile):\n",
    "    score_values = predicted_heads.score.values\n",
    "    threshold = np.percentile(score_values, percentile)\n",
    "    threshold_index = predicted_heads.loc[predicted_heads.score > threshold].shape[0]\n",
    "    print(threshold, threshold_index)\n",
    "    return threshold, threshold_index\n",
    "\n",
    "\n",
    "def get_inflection_point(score_values):\n",
    "    # standard deviation\n",
    "    stdev = statistics.stdev(score_values)\n",
    "    # smooth\n",
    "    smooth = gaussian_filter1d(score_values, stdev)\n",
    "    # compute second derivative\n",
    "    smooth_d2 = np.gradient(np.gradient(smooth))\n",
    "    # find switching points\n",
    "    infls = np.where(np.diff(np.sign(smooth_d2)))[0]\n",
    "    if len(infls) == 1:\n",
    "        return infls[0]\n",
    "    if len(infls) == 0:\n",
    "        return len(score_values)\n",
    "    # middle inflection point\n",
    "    m_infls = infls[math.ceil(len(infls) / 2)]\n",
    "    return m_infls\n",
    "\n",
    "\n",
    "def get_precision(predicted_heads, inflection_index):\n",
    "    tp_fp = predicted_heads.iloc[0:inflection_index + 1]\n",
    "    tp = tp_fp.loc[tp_fp.in_training == True].shape[0]\n",
    "    prec = tp / tp_fp.shape[0]\n",
    "    return prec, tp\n",
    "\n",
    "\n",
    "def get_recall(predicted_heads, tp):\n",
    "    tp_fn = predicted_heads.loc[predicted_heads.in_training == True].shape[0]\n",
    "    rec = tp / tp_fn\n",
    "    return rec\n",
    "\n",
    "\n",
    "def get_f_measure(precision, recall):\n",
    "    f_measure = 2 * (precision * recall) / (precision + recall)\n",
    "    return f_measure\n",
    "\n",
    "\n",
    "def reset_index(predicted_heads):\n",
    "    predicted_heads.reset_index(inplace=True)\n",
    "    predicted_heads.drop(columns=['index'], inplace=True)\n",
    "    return predicted_heads\n",
    "\n",
    "\n",
    "def compute_metrics(predicted_heads, cut_index):\n",
    "    precision, tp = get_precision(predicted_heads, cut_index)\n",
    "    recall = get_recall(predicted_heads, tp)\n",
    "    f_measure = get_f_measure(precision, recall)\n",
    "    return pd.DataFrame(columns=['precision', 'recall', 'f_measure'],\n",
    "                        data=[[precision,recall,f_measure]], index=['MuRe'])"
   ]
  },
  {
   "cell_type": "code",
   "execution_count": 3,
   "id": "e1fab19f",
   "metadata": {},
   "outputs": [
    {
     "data": {
      "text/plain": [
       "{'embedding_dim': {'type': int, 'low': 16, 'high': 256, 'q': 16},\n",
       " 'relation_dim': {'type': int, 'low': 16, 'high': 256, 'q': 16},\n",
       " 'scoring_fct_norm': {'type': int, 'low': 1, 'high': 2}}"
      ]
     },
     "execution_count": 3,
     "metadata": {},
     "output_type": "execute_result"
    }
   ],
   "source": [
    "import pykeen\n",
    "pykeen.models.TransR.hpo_default"
   ]
  },
  {
   "cell_type": "markdown",
   "id": "6d0d5b66",
   "metadata": {},
   "source": [
    "#### Load dataset I4.0 KG"
   ]
  },
  {
   "cell_type": "code",
   "execution_count": 4,
   "id": "8e6b5283",
   "metadata": {},
   "outputs": [
    {
     "name": "stderr",
     "output_type": "stream",
     "text": [
      "/tmp/ipykernel_1401/2716289181.py:3: VisibleDeprecationWarning: Creating an ndarray from ragged nested sequences (which is a list-or-tuple of lists-or-tuples-or ndarrays with different lengths or shapes) is deprecated. If you meant to do this, you must specify 'dtype=object' when creating the ndarray.\n",
      "  data = np.array([triple.split(' ')[:-1] for triple in triple_data.split('\\n')])  # removing ' .'\n"
     ]
    },
    {
     "name": "stdout",
     "output_type": "stream",
     "text": [
      "The first two triples:\n",
      " [['<http://www.w3.org/1999/02/22-rdf-syntax-ns#value>'\n",
      "  '<http://www.w3.org/1999/02/22-rdf-syntax-ns#type>'\n",
      "  '<http://www.w3.org/2002/07/owl#AnnotationProperty>']\n",
      " ['<http://www.w3.org/2001/XMLSchema#gYear>'\n",
      "  '<http://www.w3.org/1999/02/22-rdf-syntax-ns#type>'\n",
      "  '<http://www.w3.org/2000/01/rdf-schema#Datatype>']]\n"
     ]
    },
    {
     "data": {
      "text/plain": [
       "TriplesFactory(num_entities=8947, num_relations=107, num_triples=43475, inverse_triples=False)"
      ]
     },
     "execution_count": 4,
     "metadata": {},
     "output_type": "execute_result"
    }
   ],
   "source": [
    "tf_data, triple_data = load_dataset('sto-enriched-relatedTo.nt')\n",
    "print('The first two triples:\\n', triple_data[:2])\n",
    "tf_data"
   ]
  },
  {
   "cell_type": "markdown",
   "id": "9c497df5",
   "metadata": {},
   "source": [
    "### Create training and testing set"
   ]
  },
  {
   "cell_type": "code",
   "execution_count": 5,
   "id": "2740e83e",
   "metadata": {},
   "outputs": [],
   "source": [
    "training, testing = tf_data.split(random_state=1234)"
   ]
  },
  {
   "cell_type": "markdown",
   "id": "227e443a",
   "metadata": {},
   "source": [
    "### Buildind the model"
   ]
  },
  {
   "cell_type": "code",
   "execution_count": 44,
   "id": "14fd2534",
   "metadata": {},
   "outputs": [
    {
     "data": {
      "application/vnd.jupyter.widget-view+json": {
       "model_id": "8cf5ee683f2c47768ddb2f97c8984e33",
       "version_major": 2,
       "version_minor": 0
      },
      "text/plain": [
       "Training epochs on cpu:   0%|          | 0/10 [00:00<?, ?epoch/s]"
      ]
     },
     "metadata": {},
     "output_type": "display_data"
    },
    {
     "data": {
      "application/vnd.jupyter.widget-view+json": {
       "model_id": "",
       "version_major": 2,
       "version_minor": 0
      },
      "text/plain": [
       "Training batches on cpu:   0%|          | 0/136 [00:00<?, ?batch/s]"
      ]
     },
     "metadata": {},
     "output_type": "display_data"
    },
    {
     "data": {
      "application/vnd.jupyter.widget-view+json": {
       "model_id": "",
       "version_major": 2,
       "version_minor": 0
      },
      "text/plain": [
       "Training batches on cpu:   0%|          | 0/136 [00:00<?, ?batch/s]"
      ]
     },
     "metadata": {},
     "output_type": "display_data"
    },
    {
     "data": {
      "application/vnd.jupyter.widget-view+json": {
       "model_id": "",
       "version_major": 2,
       "version_minor": 0
      },
      "text/plain": [
       "Training batches on cpu:   0%|          | 0/136 [00:00<?, ?batch/s]"
      ]
     },
     "metadata": {},
     "output_type": "display_data"
    },
    {
     "data": {
      "application/vnd.jupyter.widget-view+json": {
       "model_id": "",
       "version_major": 2,
       "version_minor": 0
      },
      "text/plain": [
       "Training batches on cpu:   0%|          | 0/136 [00:00<?, ?batch/s]"
      ]
     },
     "metadata": {},
     "output_type": "display_data"
    },
    {
     "data": {
      "application/vnd.jupyter.widget-view+json": {
       "model_id": "",
       "version_major": 2,
       "version_minor": 0
      },
      "text/plain": [
       "Training batches on cpu:   0%|          | 0/136 [00:00<?, ?batch/s]"
      ]
     },
     "metadata": {},
     "output_type": "display_data"
    },
    {
     "data": {
      "application/vnd.jupyter.widget-view+json": {
       "model_id": "",
       "version_major": 2,
       "version_minor": 0
      },
      "text/plain": [
       "Training batches on cpu:   0%|          | 0/136 [00:00<?, ?batch/s]"
      ]
     },
     "metadata": {},
     "output_type": "display_data"
    },
    {
     "data": {
      "application/vnd.jupyter.widget-view+json": {
       "model_id": "",
       "version_major": 2,
       "version_minor": 0
      },
      "text/plain": [
       "Training batches on cpu:   0%|          | 0/136 [00:00<?, ?batch/s]"
      ]
     },
     "metadata": {},
     "output_type": "display_data"
    },
    {
     "data": {
      "application/vnd.jupyter.widget-view+json": {
       "model_id": "",
       "version_major": 2,
       "version_minor": 0
      },
      "text/plain": [
       "Training batches on cpu:   0%|          | 0/136 [00:00<?, ?batch/s]"
      ]
     },
     "metadata": {},
     "output_type": "display_data"
    },
    {
     "data": {
      "application/vnd.jupyter.widget-view+json": {
       "model_id": "",
       "version_major": 2,
       "version_minor": 0
      },
      "text/plain": [
       "Training batches on cpu:   0%|          | 0/136 [00:00<?, ?batch/s]"
      ]
     },
     "metadata": {},
     "output_type": "display_data"
    },
    {
     "data": {
      "application/vnd.jupyter.widget-view+json": {
       "model_id": "",
       "version_major": 2,
       "version_minor": 0
      },
      "text/plain": [
       "Training batches on cpu:   0%|          | 0/136 [00:00<?, ?batch/s]"
      ]
     },
     "metadata": {},
     "output_type": "display_data"
    },
    {
     "name": "stderr",
     "output_type": "stream",
     "text": [
      "INFO:pykeen.evaluation.evaluator:Currently automatic memory optimization only supports GPUs, but you're using a CPU. Therefore, the batch_size will be set to the default value.\n",
      "INFO:pykeen.evaluation.evaluator:No evaluation batch_size provided. Setting batch_size to '32'.\n"
     ]
    },
    {
     "data": {
      "application/vnd.jupyter.widget-view+json": {
       "model_id": "89c5f84d3adc4a118bb330c782f59a12",
       "version_major": 2,
       "version_minor": 0
      },
      "text/plain": [
       "Evaluating on cpu:   0%|          | 0.00/8.70k [00:00<?, ?triple/s]"
      ]
     },
     "metadata": {},
     "output_type": "display_data"
    },
    {
     "name": "stderr",
     "output_type": "stream",
     "text": [
      "INFO:pykeen.evaluation.evaluator:Evaluation took 76.35s seconds\n"
     ]
    }
   ],
   "source": [
    "model, results = create_model(training, testing, 'MuRe', 10, 'results_I4.0/')"
   ]
  },
  {
   "cell_type": "markdown",
   "id": "907b7a65",
   "metadata": {},
   "source": [
    "### Evaluating the Results"
   ]
  },
  {
   "cell_type": "code",
   "execution_count": 19,
   "id": "3dfcdaa4",
   "metadata": {},
   "outputs": [
    {
     "data": {
      "text/plain": [
       "<AxesSubplot:title={'center':'Losses Plot'}, xlabel='Epoch', ylabel='marginranking Loss'>"
      ]
     },
     "execution_count": 19,
     "metadata": {},
     "output_type": "execute_result"
    },
    {
     "data": {
      "image/png": "[encoded data removed]",
      "text/plain": [
       "<Figure size 432x288 with 1 Axes>"
      ]
     },
     "metadata": {},
     "output_type": "display_data"
    }
   ],
   "source": [
    "results.plot_losses()"
   ]
  },
  {
   "cell_type": "markdown",
   "id": "a9bbd9b1",
   "metadata": {},
   "source": [
    "- adjusted mean rank is between [0, 2]. Lower is better.\n",
    "- mean rank is a positive integer, with a bound based on the number of entities. Lower is better!\n",
    "- hits@k is reported between [0, 1] and interpreted as a percentage. Higher is better!"
   ]
  },
  {
   "cell_type": "code",
   "execution_count": 20,
   "id": "d827de9f",
   "metadata": {},
   "outputs": [
    {
     "data": {
      "text/html": [
       "<div>\n",
       "<style scoped>\n",
       "    .dataframe tbody tr th:only-of-type {\n",
       "        vertical-align: middle;\n",
       "    }\n",
       "\n",
       "    .dataframe tbody tr th {\n",
       "        vertical-align: top;\n",
       "    }\n",
       "\n",
       "    .dataframe thead th {\n",
       "        text-align: right;\n",
       "    }\n",
       "</style>\n",
       "<table border=\"1\" class=\"dataframe\">\n",
       "  <thead>\n",
       "    <tr style=\"text-align: right;\">\n",
       "      <th></th>\n",
       "      <th>Side</th>\n",
       "      <th>Type</th>\n",
       "      <th>Metric</th>\n",
       "      <th>Value</th>\n",
       "    </tr>\n",
       "  </thead>\n",
       "  <tbody>\n",
       "    <tr>\n",
       "      <th>0</th>\n",
       "      <td>tail</td>\n",
       "      <td>pessimistic</td>\n",
       "      <td>hits_at_1</td>\n",
       "      <td>0.746061</td>\n",
       "    </tr>\n",
       "    <tr>\n",
       "      <th>1</th>\n",
       "      <td>tail</td>\n",
       "      <td>pessimistic</td>\n",
       "      <td>hits_at_3</td>\n",
       "      <td>0.789994</td>\n",
       "    </tr>\n",
       "    <tr>\n",
       "      <th>2</th>\n",
       "      <td>tail</td>\n",
       "      <td>pessimistic</td>\n",
       "      <td>hits_at_5</td>\n",
       "      <td>0.810466</td>\n",
       "    </tr>\n",
       "    <tr>\n",
       "      <th>3</th>\n",
       "      <td>tail</td>\n",
       "      <td>pessimistic</td>\n",
       "      <td>hits_at_10</td>\n",
       "      <td>0.843473</td>\n",
       "    </tr>\n",
       "    <tr>\n",
       "      <th>4</th>\n",
       "      <td>tail</td>\n",
       "      <td>pessimistic</td>\n",
       "      <td>arithmetic_mean_rank</td>\n",
       "      <td>27.885336</td>\n",
       "    </tr>\n",
       "    <tr>\n",
       "      <th>...</th>\n",
       "      <td>...</td>\n",
       "      <td>...</td>\n",
       "      <td>...</td>\n",
       "      <td>...</td>\n",
       "    </tr>\n",
       "    <tr>\n",
       "      <th>136</th>\n",
       "      <td>head</td>\n",
       "      <td>optimistic</td>\n",
       "      <td>inverse_harmonic_mean_rank</td>\n",
       "      <td>0.673147</td>\n",
       "    </tr>\n",
       "    <tr>\n",
       "      <th>137</th>\n",
       "      <td>head</td>\n",
       "      <td>optimistic</td>\n",
       "      <td>inverse_median_rank</td>\n",
       "      <td>1.000000</td>\n",
       "    </tr>\n",
       "    <tr>\n",
       "      <th>138</th>\n",
       "      <td>head</td>\n",
       "      <td>optimistic</td>\n",
       "      <td>rank_std</td>\n",
       "      <td>211.304080</td>\n",
       "    </tr>\n",
       "    <tr>\n",
       "      <th>139</th>\n",
       "      <td>head</td>\n",
       "      <td>optimistic</td>\n",
       "      <td>rank_var</td>\n",
       "      <td>44649.414094</td>\n",
       "    </tr>\n",
       "    <tr>\n",
       "      <th>140</th>\n",
       "      <td>head</td>\n",
       "      <td>optimistic</td>\n",
       "      <td>rank_mad</td>\n",
       "      <td>0.000000</td>\n",
       "    </tr>\n",
       "  </tbody>\n",
       "</table>\n",
       "<p>141 rows × 4 columns</p>\n",
       "</div>"
      ],
      "text/plain": [
       "     Side         Type                      Metric         Value\n",
       "0    tail  pessimistic                   hits_at_1      0.746061\n",
       "1    tail  pessimistic                   hits_at_3      0.789994\n",
       "2    tail  pessimistic                   hits_at_5      0.810466\n",
       "3    tail  pessimistic                  hits_at_10      0.843473\n",
       "4    tail  pessimistic        arithmetic_mean_rank     27.885336\n",
       "..    ...          ...                         ...           ...\n",
       "136  head   optimistic  inverse_harmonic_mean_rank      0.673147\n",
       "137  head   optimistic         inverse_median_rank      1.000000\n",
       "138  head   optimistic                    rank_std    211.304080\n",
       "139  head   optimistic                    rank_var  44649.414094\n",
       "140  head   optimistic                    rank_mad      0.000000\n",
       "\n",
       "[141 rows x 4 columns]"
      ]
     },
     "execution_count": 20,
     "metadata": {},
     "output_type": "execute_result"
    }
   ],
   "source": [
    "results.metric_results.to_df()"
   ]
  },
  {
   "cell_type": "markdown",
   "id": "0314ad03",
   "metadata": {},
   "source": [
    "## Link Prediction"
   ]
  },
  {
   "cell_type": "markdown",
   "id": "42a41148",
   "metadata": {},
   "source": [
    "The predictions are ordered by their scores.\n",
    "All interaction functions in PyKEEN have been implemented such that the higher the score (or less negative the score), the more likely a triple is to be true."
   ]
  },
  {
   "cell_type": "markdown",
   "id": "502b6372",
   "metadata": {},
   "source": [
    "### Predict links (Head prediction)"
   ]
  },
  {
   "cell_type": "code",
   "execution_count": 21,
   "id": "8ca42474",
   "metadata": {},
   "outputs": [
    {
     "data": {
      "text/html": [
       "<div>\n",
       "<style scoped>\n",
       "    .dataframe tbody tr th:only-of-type {\n",
       "        vertical-align: middle;\n",
       "    }\n",
       "\n",
       "    .dataframe tbody tr th {\n",
       "        vertical-align: top;\n",
       "    }\n",
       "\n",
       "    .dataframe thead th {\n",
       "        text-align: right;\n",
       "    }\n",
       "</style>\n",
       "<table border=\"1\" class=\"dataframe\">\n",
       "  <thead>\n",
       "    <tr style=\"text-align: right;\">\n",
       "      <th></th>\n",
       "      <th>head_id</th>\n",
       "      <th>head_label</th>\n",
       "      <th>score</th>\n",
       "      <th>in_training</th>\n",
       "    </tr>\n",
       "  </thead>\n",
       "  <tbody>\n",
       "    <tr>\n",
       "      <th>7143</th>\n",
       "      <td>7143</td>\n",
       "      <td>&lt;https://w3id.org/i40/sto#ISO_18629&gt;</td>\n",
       "      <td>-0.599778</td>\n",
       "      <td>True</td>\n",
       "    </tr>\n",
       "    <tr>\n",
       "      <th>6516</th>\n",
       "      <td>6516</td>\n",
       "      <td>&lt;https://w3id.org/i40/sto#DIN_EN_50159&gt;</td>\n",
       "      <td>-0.607756</td>\n",
       "      <td>True</td>\n",
       "    </tr>\n",
       "    <tr>\n",
       "      <th>6996</th>\n",
       "      <td>6996</td>\n",
       "      <td>&lt;https://w3id.org/i40/sto#IEC_61850_P7_S4_E2&gt;</td>\n",
       "      <td>-0.609946</td>\n",
       "      <td>True</td>\n",
       "    </tr>\n",
       "    <tr>\n",
       "      <th>7588</th>\n",
       "      <td>7588</td>\n",
       "      <td>&lt;https://w3id.org/i40/sto#VDE_2182&gt;</td>\n",
       "      <td>-0.616576</td>\n",
       "      <td>True</td>\n",
       "    </tr>\n",
       "    <tr>\n",
       "      <th>7159</th>\n",
       "      <td>7159</td>\n",
       "      <td>&lt;https://w3id.org/i40/sto#ISO_27000&gt;</td>\n",
       "      <td>-0.629118</td>\n",
       "      <td>True</td>\n",
       "    </tr>\n",
       "    <tr>\n",
       "      <th>...</th>\n",
       "      <td>...</td>\n",
       "      <td>...</td>\n",
       "      <td>...</td>\n",
       "      <td>...</td>\n",
       "    </tr>\n",
       "    <tr>\n",
       "      <th>1229</th>\n",
       "      <td>1229</td>\n",
       "      <td>\"ICS 19.08\"@en</td>\n",
       "      <td>-6.592139</td>\n",
       "      <td>False</td>\n",
       "    </tr>\n",
       "    <tr>\n",
       "      <th>4249</th>\n",
       "      <td>4249</td>\n",
       "      <td>&lt;http://dbpedia.org/resource/Collection&gt;</td>\n",
       "      <td>-6.644097</td>\n",
       "      <td>False</td>\n",
       "    </tr>\n",
       "    <tr>\n",
       "      <th>8010</th>\n",
       "      <td>8010</td>\n",
       "      <td>&lt;https://www.w3.org/ns/oaRangeSelector&gt;</td>\n",
       "      <td>-6.706669</td>\n",
       "      <td>False</td>\n",
       "    </tr>\n",
       "    <tr>\n",
       "      <th>6176</th>\n",
       "      <td>6176</td>\n",
       "      <td>&lt;https://en.wikipedia.org/wiki/IEC_61850&gt;</td>\n",
       "      <td>-6.827825</td>\n",
       "      <td>False</td>\n",
       "    </tr>\n",
       "    <tr>\n",
       "      <th>8011</th>\n",
       "      <td>8011</td>\n",
       "      <td>&lt;https://www.w3.org/ns/oaSpecificResource&gt;</td>\n",
       "      <td>-6.893290</td>\n",
       "      <td>False</td>\n",
       "    </tr>\n",
       "  </tbody>\n",
       "</table>\n",
       "<p>8947 rows × 4 columns</p>\n",
       "</div>"
      ],
      "text/plain": [
       "      head_id                                     head_label     score  \\\n",
       "7143     7143           <https://w3id.org/i40/sto#ISO_18629> -0.599778   \n",
       "6516     6516        <https://w3id.org/i40/sto#DIN_EN_50159> -0.607756   \n",
       "6996     6996  <https://w3id.org/i40/sto#IEC_61850_P7_S4_E2> -0.609946   \n",
       "7588     7588            <https://w3id.org/i40/sto#VDE_2182> -0.616576   \n",
       "7159     7159           <https://w3id.org/i40/sto#ISO_27000> -0.629118   \n",
       "...       ...                                            ...       ...   \n",
       "1229     1229                                 \"ICS 19.08\"@en -6.592139   \n",
       "4249     4249       <http://dbpedia.org/resource/Collection> -6.644097   \n",
       "8010     8010        <https://www.w3.org/ns/oaRangeSelector> -6.706669   \n",
       "6176     6176      <https://en.wikipedia.org/wiki/IEC_61850> -6.827825   \n",
       "8011     8011     <https://www.w3.org/ns/oaSpecificResource> -6.893290   \n",
       "\n",
       "      in_training  \n",
       "7143         True  \n",
       "6516         True  \n",
       "6996         True  \n",
       "7588         True  \n",
       "7159         True  \n",
       "...           ...  \n",
       "1229        False  \n",
       "4249        False  \n",
       "8010        False  \n",
       "6176        False  \n",
       "8011        False  \n",
       "\n",
       "[8947 rows x 4 columns]"
      ]
     },
     "execution_count": 21,
     "metadata": {},
     "output_type": "execute_result"
    }
   ],
   "source": [
    "#e1 = '<https://w3id.org/i40/sto#hasClassification>'\n",
    "#e2 = '<https://w3id.org/i40/rami#Safety>'\n",
    "e1 = '<https://w3id.org/i40/sto#relatedTo>'\n",
    "e2 = '<https://w3id.org/i40/sto#IEC_61850_P7_S3_E1>'\n",
    "predicted_heads = predict.get_head_prediction_df(model, e1, e2, triples_factory=tf_data)\n",
    "predicted_heads"
   ]
  },
  {
   "cell_type": "markdown",
   "id": "9ac5fb47",
   "metadata": {},
   "source": [
    "### Filter the prediction by the head 'sto'"
   ]
  },
  {
   "cell_type": "code",
   "execution_count": 22,
   "id": "23bfda38",
   "metadata": {},
   "outputs": [
    {
     "name": "stderr",
     "output_type": "stream",
     "text": [
      "/home/rivas/.local/lib/python3.8/site-packages/pandas/core/frame.py:4906: SettingWithCopyWarning: \n",
      "A value is trying to be set on a copy of a slice from a DataFrame\n",
      "\n",
      "See the caveats in the documentation: https://pandas.pydata.org/pandas-docs/stable/user_guide/indexing.html#returning-a-view-versus-a-copy\n",
      "  return super().drop(\n"
     ]
    },
    {
     "data": {
      "text/html": [
       "<div>\n",
       "<style scoped>\n",
       "    .dataframe tbody tr th:only-of-type {\n",
       "        vertical-align: middle;\n",
       "    }\n",
       "\n",
       "    .dataframe tbody tr th {\n",
       "        vertical-align: top;\n",
       "    }\n",
       "\n",
       "    .dataframe thead th {\n",
       "        text-align: right;\n",
       "    }\n",
       "</style>\n",
       "<table border=\"1\" class=\"dataframe\">\n",
       "  <thead>\n",
       "    <tr style=\"text-align: right;\">\n",
       "      <th></th>\n",
       "      <th>head_id</th>\n",
       "      <th>head_label</th>\n",
       "      <th>score</th>\n",
       "      <th>in_training</th>\n",
       "    </tr>\n",
       "  </thead>\n",
       "  <tbody>\n",
       "    <tr>\n",
       "      <th>0</th>\n",
       "      <td>7143</td>\n",
       "      <td>&lt;https://w3id.org/i40/sto#ISO_18629&gt;</td>\n",
       "      <td>-0.599778</td>\n",
       "      <td>True</td>\n",
       "    </tr>\n",
       "    <tr>\n",
       "      <th>1</th>\n",
       "      <td>6516</td>\n",
       "      <td>&lt;https://w3id.org/i40/sto#DIN_EN_50159&gt;</td>\n",
       "      <td>-0.607756</td>\n",
       "      <td>True</td>\n",
       "    </tr>\n",
       "    <tr>\n",
       "      <th>2</th>\n",
       "      <td>6996</td>\n",
       "      <td>&lt;https://w3id.org/i40/sto#IEC_61850_P7_S4_E2&gt;</td>\n",
       "      <td>-0.609946</td>\n",
       "      <td>True</td>\n",
       "    </tr>\n",
       "    <tr>\n",
       "      <th>3</th>\n",
       "      <td>7588</td>\n",
       "      <td>&lt;https://w3id.org/i40/sto#VDE_2182&gt;</td>\n",
       "      <td>-0.616576</td>\n",
       "      <td>True</td>\n",
       "    </tr>\n",
       "    <tr>\n",
       "      <th>4</th>\n",
       "      <td>7159</td>\n",
       "      <td>&lt;https://w3id.org/i40/sto#ISO_27000&gt;</td>\n",
       "      <td>-0.629118</td>\n",
       "      <td>True</td>\n",
       "    </tr>\n",
       "    <tr>\n",
       "      <th>...</th>\n",
       "      <td>...</td>\n",
       "      <td>...</td>\n",
       "      <td>...</td>\n",
       "      <td>...</td>\n",
       "    </tr>\n",
       "    <tr>\n",
       "      <th>1294</th>\n",
       "      <td>6793</td>\n",
       "      <td>&lt;https://w3id.org/i40/sto#GeospatialQuery&gt;</td>\n",
       "      <td>-5.483294</td>\n",
       "      <td>False</td>\n",
       "    </tr>\n",
       "    <tr>\n",
       "      <th>1295</th>\n",
       "      <td>6771</td>\n",
       "      <td>&lt;https://w3id.org/i40/sto#FileSizeIEC_62832&gt;</td>\n",
       "      <td>-5.505732</td>\n",
       "      <td>False</td>\n",
       "    </tr>\n",
       "    <tr>\n",
       "      <th>1296</th>\n",
       "      <td>7217</td>\n",
       "      <td>&lt;https://w3id.org/i40/sto#IotaEvolutionInterop...</td>\n",
       "      <td>-5.592186</td>\n",
       "      <td>False</td>\n",
       "    </tr>\n",
       "    <tr>\n",
       "      <th>1297</th>\n",
       "      <td>7531</td>\n",
       "      <td>&lt;https://w3id.org/i40/sto#Standard&gt;</td>\n",
       "      <td>-5.736464</td>\n",
       "      <td>False</td>\n",
       "    </tr>\n",
       "    <tr>\n",
       "      <th>1298</th>\n",
       "      <td>7660</td>\n",
       "      <td>&lt;https://w3id.org/i40/sto#interoperability&gt;</td>\n",
       "      <td>-5.769557</td>\n",
       "      <td>False</td>\n",
       "    </tr>\n",
       "  </tbody>\n",
       "</table>\n",
       "<p>1299 rows × 4 columns</p>\n",
       "</div>"
      ],
      "text/plain": [
       "      head_id                                         head_label     score  \\\n",
       "0        7143               <https://w3id.org/i40/sto#ISO_18629> -0.599778   \n",
       "1        6516            <https://w3id.org/i40/sto#DIN_EN_50159> -0.607756   \n",
       "2        6996      <https://w3id.org/i40/sto#IEC_61850_P7_S4_E2> -0.609946   \n",
       "3        7588                <https://w3id.org/i40/sto#VDE_2182> -0.616576   \n",
       "4        7159               <https://w3id.org/i40/sto#ISO_27000> -0.629118   \n",
       "...       ...                                                ...       ...   \n",
       "1294     6793         <https://w3id.org/i40/sto#GeospatialQuery> -5.483294   \n",
       "1295     6771       <https://w3id.org/i40/sto#FileSizeIEC_62832> -5.505732   \n",
       "1296     7217  <https://w3id.org/i40/sto#IotaEvolutionInterop... -5.592186   \n",
       "1297     7531                <https://w3id.org/i40/sto#Standard> -5.736464   \n",
       "1298     7660        <https://w3id.org/i40/sto#interoperability> -5.769557   \n",
       "\n",
       "      in_training  \n",
       "0            True  \n",
       "1            True  \n",
       "2            True  \n",
       "3            True  \n",
       "4            True  \n",
       "...           ...  \n",
       "1294        False  \n",
       "1295        False  \n",
       "1296        False  \n",
       "1297        False  \n",
       "1298        False  \n",
       "\n",
       "[1299 rows x 4 columns]"
      ]
     },
     "execution_count": 22,
     "metadata": {},
     "output_type": "execute_result"
    }
   ],
   "source": [
    "predicted_heads = filter_prediction(predicted_heads, '<https://w3id.org/i40/sto#')\n",
    "predicted_heads"
   ]
  },
  {
   "cell_type": "markdown",
   "id": "27af2a59",
   "metadata": {},
   "source": [
    "### Filter by entity type 'Standard'. (it take some minutes)"
   ]
  },
  {
   "cell_type": "code",
   "execution_count": 23,
   "id": "ac0c61bb",
   "metadata": {},
   "outputs": [
    {
     "name": "stderr",
     "output_type": "stream",
     "text": [
      "/tmp/ipykernel_1401/854752121.py:56: FutureWarning: elementwise comparison failed; returning scalar instead, but in the future will perform elementwise comparison\n",
      "  b = [s, '<http://www.w3.org/1999/02/22-rdf-syntax-ns#type>', entity_type] == triple\n"
     ]
    },
    {
     "ename": "KeyboardInterrupt",
     "evalue": "",
     "output_type": "error",
     "traceback": [
      "\u001b[0;31m---------------------------------------------------------------------------\u001b[0m",
      "\u001b[0;31mKeyboardInterrupt\u001b[0m                         Traceback (most recent call last)",
      "\u001b[0;32m/tmp/ipykernel_1401/1177043243.py\u001b[0m in \u001b[0;36m<module>\u001b[0;34m\u001b[0m\n\u001b[0;32m----> 1\u001b[0;31m \u001b[0mpredicted_heads\u001b[0m\u001b[0;34m,\u001b[0m \u001b[0mentity\u001b[0m \u001b[0;34m=\u001b[0m \u001b[0mfilter_by_type\u001b[0m\u001b[0;34m(\u001b[0m\u001b[0mpredicted_heads\u001b[0m\u001b[0;34m,\u001b[0m \u001b[0mtriple_data\u001b[0m\u001b[0;34m,\u001b[0m \u001b[0;34m'<https://w3id.org/i40/sto#Standard>'\u001b[0m\u001b[0;34m)\u001b[0m\u001b[0;34m\u001b[0m\u001b[0;34m\u001b[0m\u001b[0m\n\u001b[0m\u001b[1;32m      2\u001b[0m \u001b[0mpredicted_heads\u001b[0m\u001b[0;34m\u001b[0m\u001b[0;34m\u001b[0m\u001b[0m\n",
      "\u001b[0;32m/tmp/ipykernel_1401/854752121.py\u001b[0m in \u001b[0;36mfilter_by_type\u001b[0;34m(predicted_heads, triple_data, entity_type)\u001b[0m\n\u001b[1;32m     55\u001b[0m         \u001b[0;32mfor\u001b[0m \u001b[0mtriple\u001b[0m \u001b[0;32min\u001b[0m \u001b[0mtriple_data\u001b[0m\u001b[0;34m:\u001b[0m\u001b[0;34m\u001b[0m\u001b[0;34m\u001b[0m\u001b[0m\n\u001b[1;32m     56\u001b[0m             \u001b[0mb\u001b[0m \u001b[0;34m=\u001b[0m \u001b[0;34m[\u001b[0m\u001b[0ms\u001b[0m\u001b[0;34m,\u001b[0m \u001b[0;34m'<http://www.w3.org/1999/02/22-rdf-syntax-ns#type>'\u001b[0m\u001b[0;34m,\u001b[0m \u001b[0mentity_type\u001b[0m\u001b[0;34m]\u001b[0m \u001b[0;34m==\u001b[0m \u001b[0mtriple\u001b[0m\u001b[0;34m\u001b[0m\u001b[0;34m\u001b[0m\u001b[0m\n\u001b[0;32m---> 57\u001b[0;31m             \u001b[0;32mif\u001b[0m \u001b[0mnp\u001b[0m\u001b[0;34m.\u001b[0m\u001b[0mall\u001b[0m\u001b[0;34m(\u001b[0m\u001b[0mb\u001b[0m\u001b[0;34m)\u001b[0m\u001b[0;34m:\u001b[0m\u001b[0;34m\u001b[0m\u001b[0;34m\u001b[0m\u001b[0m\n\u001b[0m\u001b[1;32m     58\u001b[0m                 \u001b[0mentity\u001b[0m\u001b[0;34m.\u001b[0m\u001b[0mappend\u001b[0m\u001b[0;34m(\u001b[0m\u001b[0ms\u001b[0m\u001b[0;34m)\u001b[0m\u001b[0;34m\u001b[0m\u001b[0;34m\u001b[0m\u001b[0m\n\u001b[1;32m     59\u001b[0m                 \u001b[0;32mbreak\u001b[0m\u001b[0;34m\u001b[0m\u001b[0;34m\u001b[0m\u001b[0m\n",
      "\u001b[0;32m<__array_function__ internals>\u001b[0m in \u001b[0;36mall\u001b[0;34m(*args, **kwargs)\u001b[0m\n",
      "\u001b[0;32m~/.local/lib/python3.8/site-packages/numpy/core/fromnumeric.py\u001b[0m in \u001b[0;36mall\u001b[0;34m(a, axis, out, keepdims, where)\u001b[0m\n\u001b[1;32m   2448\u001b[0m \u001b[0;34m\u001b[0m\u001b[0m\n\u001b[1;32m   2449\u001b[0m     \"\"\"\n\u001b[0;32m-> 2450\u001b[0;31m     return _wrapreduction(a, np.logical_and, 'all', axis, None, out,\n\u001b[0m\u001b[1;32m   2451\u001b[0m                           keepdims=keepdims, where=where)\n\u001b[1;32m   2452\u001b[0m \u001b[0;34m\u001b[0m\u001b[0m\n",
      "\u001b[0;32m~/.local/lib/python3.8/site-packages/numpy/core/fromnumeric.py\u001b[0m in \u001b[0;36m_wrapreduction\u001b[0;34m(obj, ufunc, method, axis, dtype, out, **kwargs)\u001b[0m\n\u001b[1;32m     84\u001b[0m                 \u001b[0;32mreturn\u001b[0m \u001b[0mreduction\u001b[0m\u001b[0;34m(\u001b[0m\u001b[0maxis\u001b[0m\u001b[0;34m=\u001b[0m\u001b[0maxis\u001b[0m\u001b[0;34m,\u001b[0m \u001b[0mout\u001b[0m\u001b[0;34m=\u001b[0m\u001b[0mout\u001b[0m\u001b[0;34m,\u001b[0m \u001b[0;34m**\u001b[0m\u001b[0mpasskwargs\u001b[0m\u001b[0;34m)\u001b[0m\u001b[0;34m\u001b[0m\u001b[0;34m\u001b[0m\u001b[0m\n\u001b[1;32m     85\u001b[0m \u001b[0;34m\u001b[0m\u001b[0m\n\u001b[0;32m---> 86\u001b[0;31m     \u001b[0;32mreturn\u001b[0m \u001b[0mufunc\u001b[0m\u001b[0;34m.\u001b[0m\u001b[0mreduce\u001b[0m\u001b[0;34m(\u001b[0m\u001b[0mobj\u001b[0m\u001b[0;34m,\u001b[0m \u001b[0maxis\u001b[0m\u001b[0;34m,\u001b[0m \u001b[0mdtype\u001b[0m\u001b[0;34m,\u001b[0m \u001b[0mout\u001b[0m\u001b[0;34m,\u001b[0m \u001b[0;34m**\u001b[0m\u001b[0mpasskwargs\u001b[0m\u001b[0;34m)\u001b[0m\u001b[0;34m\u001b[0m\u001b[0;34m\u001b[0m\u001b[0m\n\u001b[0m\u001b[1;32m     87\u001b[0m \u001b[0;34m\u001b[0m\u001b[0m\n\u001b[1;32m     88\u001b[0m \u001b[0;34m\u001b[0m\u001b[0m\n",
      "\u001b[0;31mKeyboardInterrupt\u001b[0m: "
     ]
    }
   ],
   "source": [
    "predicted_heads, entity = filter_by_type(predicted_heads, triple_data, '<https://w3id.org/i40/sto#Standard>')\n",
    "predicted_heads"
   ]
  },
  {
   "cell_type": "markdown",
   "id": "d88b7763",
   "metadata": {},
   "source": [
    "### Plot of entities predicted score values"
   ]
  },
  {
   "cell_type": "code",
   "execution_count": 24,
   "id": "cd62e792",
   "metadata": {},
   "outputs": [
    {
     "data": {
      "image/png": "[encoded data removed]",
      "text/plain": [
       "<Figure size 432x288 with 1 Axes>"
      ]
     },
     "metadata": {},
     "output_type": "display_data"
    }
   ],
   "source": [
    "score_values = predicted_heads.score.values\n",
    "plt.plot(score_values)\n",
    "plt.xlabel(\"Entities\")\n",
    "plt.ylabel(\"Score\")\n",
    "plt.title(\"Predicted_heads\")\n",
    "plt.show()"
   ]
  },
  {
   "cell_type": "markdown",
   "id": "4aab68c6",
   "metadata": {},
   "source": [
    "### Strategy 'inflection point'"
   ]
  },
  {
   "cell_type": "code",
   "execution_count": 25,
   "id": "e91854d8",
   "metadata": {},
   "outputs": [
    {
     "data": {
      "text/html": [
       "<div>\n",
       "<style scoped>\n",
       "    .dataframe tbody tr th:only-of-type {\n",
       "        vertical-align: middle;\n",
       "    }\n",
       "\n",
       "    .dataframe tbody tr th {\n",
       "        vertical-align: top;\n",
       "    }\n",
       "\n",
       "    .dataframe thead th {\n",
       "        text-align: right;\n",
       "    }\n",
       "</style>\n",
       "<table border=\"1\" class=\"dataframe\">\n",
       "  <thead>\n",
       "    <tr style=\"text-align: right;\">\n",
       "      <th></th>\n",
       "      <th>precision</th>\n",
       "      <th>recall</th>\n",
       "      <th>f_measure</th>\n",
       "    </tr>\n",
       "  </thead>\n",
       "  <tbody>\n",
       "    <tr>\n",
       "      <th>MuRe</th>\n",
       "      <td>0.243421</td>\n",
       "      <td>1.0</td>\n",
       "      <td>0.391534</td>\n",
       "    </tr>\n",
       "  </tbody>\n",
       "</table>\n",
       "</div>"
      ],
      "text/plain": [
       "      precision  recall  f_measure\n",
       "MuRe   0.243421     1.0   0.391534"
      ]
     },
     "execution_count": 25,
     "metadata": {},
     "output_type": "execute_result"
    }
   ],
   "source": [
    "inflection_index = get_inflection_point(predicted_heads.score.values)\n",
    "compute_metrics(predicted_heads, inflection_index)"
   ]
  },
  {
   "cell_type": "markdown",
   "id": "e0da6d18",
   "metadata": {},
   "source": [
    "### Strategy 'threshold'"
   ]
  },
  {
   "cell_type": "code",
   "execution_count": 26,
   "id": "ba9dab87",
   "metadata": {},
   "outputs": [
    {
     "name": "stdout",
     "output_type": "stream",
     "text": [
      "-0.9518002986907954 130\n"
     ]
    },
    {
     "data": {
      "text/html": [
       "<div>\n",
       "<style scoped>\n",
       "    .dataframe tbody tr th:only-of-type {\n",
       "        vertical-align: middle;\n",
       "    }\n",
       "\n",
       "    .dataframe tbody tr th {\n",
       "        vertical-align: top;\n",
       "    }\n",
       "\n",
       "    .dataframe thead th {\n",
       "        text-align: right;\n",
       "    }\n",
       "</style>\n",
       "<table border=\"1\" class=\"dataframe\">\n",
       "  <thead>\n",
       "    <tr style=\"text-align: right;\">\n",
       "      <th></th>\n",
       "      <th>precision</th>\n",
       "      <th>recall</th>\n",
       "      <th>f_measure</th>\n",
       "    </tr>\n",
       "  </thead>\n",
       "  <tbody>\n",
       "    <tr>\n",
       "      <th>MuRe</th>\n",
       "      <td>1.0</td>\n",
       "      <td>0.885135</td>\n",
       "      <td>0.939068</td>\n",
       "    </tr>\n",
       "  </tbody>\n",
       "</table>\n",
       "</div>"
      ],
      "text/plain": [
       "      precision    recall  f_measure\n",
       "MuRe        1.0  0.885135   0.939068"
      ]
     },
     "execution_count": 26,
     "metadata": {},
     "output_type": "execute_result"
    }
   ],
   "source": [
    "threshold, threshold_index = get_threshold(predicted_heads, 90)\n",
    "compute_metrics(predicted_heads, threshold_index)"
   ]
  },
  {
   "cell_type": "code",
   "execution_count": null,
   "id": "8fe58edc",
   "metadata": {},
   "outputs": [],
   "source": []
  },
  {
   "cell_type": "code",
   "execution_count": null,
   "id": "f4d957b0",
   "metadata": {},
   "outputs": [],
   "source": []
  },
  {
   "cell_type": "code",
   "execution_count": 27,
   "id": "5d7c4c64",
   "metadata": {},
   "outputs": [
    {
     "data": {
      "text/html": [
       "<div>\n",
       "<style scoped>\n",
       "    .dataframe tbody tr th:only-of-type {\n",
       "        vertical-align: middle;\n",
       "    }\n",
       "\n",
       "    .dataframe tbody tr th {\n",
       "        vertical-align: top;\n",
       "    }\n",
       "\n",
       "    .dataframe thead th {\n",
       "        text-align: right;\n",
       "    }\n",
       "</style>\n",
       "<table border=\"1\" class=\"dataframe\">\n",
       "  <thead>\n",
       "    <tr style=\"text-align: right;\">\n",
       "      <th></th>\n",
       "      <th>head_id</th>\n",
       "      <th>head_label</th>\n",
       "      <th>score</th>\n",
       "      <th>in_training</th>\n",
       "    </tr>\n",
       "  </thead>\n",
       "  <tbody>\n",
       "    <tr>\n",
       "      <th>7143</th>\n",
       "      <td>7143</td>\n",
       "      <td>&lt;https://w3id.org/i40/sto#ISO_18629&gt;</td>\n",
       "      <td>-0.599778</td>\n",
       "      <td>False</td>\n",
       "    </tr>\n",
       "    <tr>\n",
       "      <th>6516</th>\n",
       "      <td>6516</td>\n",
       "      <td>&lt;https://w3id.org/i40/sto#DIN_EN_50159&gt;</td>\n",
       "      <td>-0.607756</td>\n",
       "      <td>False</td>\n",
       "    </tr>\n",
       "    <tr>\n",
       "      <th>6996</th>\n",
       "      <td>6996</td>\n",
       "      <td>&lt;https://w3id.org/i40/sto#IEC_61850_P7_S4_E2&gt;</td>\n",
       "      <td>-0.609946</td>\n",
       "      <td>False</td>\n",
       "    </tr>\n",
       "    <tr>\n",
       "      <th>7588</th>\n",
       "      <td>7588</td>\n",
       "      <td>&lt;https://w3id.org/i40/sto#VDE_2182&gt;</td>\n",
       "      <td>-0.616576</td>\n",
       "      <td>False</td>\n",
       "    </tr>\n",
       "    <tr>\n",
       "      <th>7159</th>\n",
       "      <td>7159</td>\n",
       "      <td>&lt;https://w3id.org/i40/sto#ISO_27000&gt;</td>\n",
       "      <td>-0.629118</td>\n",
       "      <td>False</td>\n",
       "    </tr>\n",
       "    <tr>\n",
       "      <th>...</th>\n",
       "      <td>...</td>\n",
       "      <td>...</td>\n",
       "      <td>...</td>\n",
       "      <td>...</td>\n",
       "    </tr>\n",
       "    <tr>\n",
       "      <th>1229</th>\n",
       "      <td>1229</td>\n",
       "      <td>\"ICS 19.08\"@en</td>\n",
       "      <td>-6.592139</td>\n",
       "      <td>False</td>\n",
       "    </tr>\n",
       "    <tr>\n",
       "      <th>4249</th>\n",
       "      <td>4249</td>\n",
       "      <td>&lt;http://dbpedia.org/resource/Collection&gt;</td>\n",
       "      <td>-6.644097</td>\n",
       "      <td>False</td>\n",
       "    </tr>\n",
       "    <tr>\n",
       "      <th>8010</th>\n",
       "      <td>8010</td>\n",
       "      <td>&lt;https://www.w3.org/ns/oaRangeSelector&gt;</td>\n",
       "      <td>-6.706669</td>\n",
       "      <td>False</td>\n",
       "    </tr>\n",
       "    <tr>\n",
       "      <th>6176</th>\n",
       "      <td>6176</td>\n",
       "      <td>&lt;https://en.wikipedia.org/wiki/IEC_61850&gt;</td>\n",
       "      <td>-6.827825</td>\n",
       "      <td>False</td>\n",
       "    </tr>\n",
       "    <tr>\n",
       "      <th>8011</th>\n",
       "      <td>8011</td>\n",
       "      <td>&lt;https://www.w3.org/ns/oaSpecificResource&gt;</td>\n",
       "      <td>-6.893290</td>\n",
       "      <td>False</td>\n",
       "    </tr>\n",
       "  </tbody>\n",
       "</table>\n",
       "<p>8947 rows × 4 columns</p>\n",
       "</div>"
      ],
      "text/plain": [
       "      head_id                                     head_label     score  \\\n",
       "7143     7143           <https://w3id.org/i40/sto#ISO_18629> -0.599778   \n",
       "6516     6516        <https://w3id.org/i40/sto#DIN_EN_50159> -0.607756   \n",
       "6996     6996  <https://w3id.org/i40/sto#IEC_61850_P7_S4_E2> -0.609946   \n",
       "7588     7588            <https://w3id.org/i40/sto#VDE_2182> -0.616576   \n",
       "7159     7159           <https://w3id.org/i40/sto#ISO_27000> -0.629118   \n",
       "...       ...                                            ...       ...   \n",
       "1229     1229                                 \"ICS 19.08\"@en -6.592139   \n",
       "4249     4249       <http://dbpedia.org/resource/Collection> -6.644097   \n",
       "8010     8010        <https://www.w3.org/ns/oaRangeSelector> -6.706669   \n",
       "6176     6176      <https://en.wikipedia.org/wiki/IEC_61850> -6.827825   \n",
       "8011     8011     <https://www.w3.org/ns/oaSpecificResource> -6.893290   \n",
       "\n",
       "      in_training  \n",
       "7143        False  \n",
       "6516        False  \n",
       "6996        False  \n",
       "7588        False  \n",
       "7159        False  \n",
       "...           ...  \n",
       "1229        False  \n",
       "4249        False  \n",
       "8010        False  \n",
       "6176        False  \n",
       "8011        False  \n",
       "\n",
       "[8947 rows x 4 columns]"
      ]
     },
     "execution_count": 27,
     "metadata": {},
     "output_type": "execute_result"
    }
   ],
   "source": [
    "e1 = '<https://w3id.org/i40/sto#relatedTo>'\n",
    "e2 = '<https://w3id.org/i40/sto#IEC_61850_P7_S3_E1>'\n",
    "predicted_heads = predict.get_head_prediction_df(model, e1, e2, triples_factory=testing)\n",
    "predicted_heads"
   ]
  },
  {
   "cell_type": "code",
   "execution_count": null,
   "id": "6a8870fd",
   "metadata": {},
   "outputs": [],
   "source": []
  }
 ],
 "metadata": {
  "kernelspec": {
   "display_name": "Python 3 (ipykernel)",
   "language": "python",
   "name": "python3"
  },
  "language_info": {
   "codemirror_mode": {
    "name": "ipython",
    "version": 3
   },
   "file_extension": ".py",
   "mimetype": "text/x-python",
   "name": "python",
   "nbconvert_exporter": "python",
   "pygments_lexer": "ipython3",
   "version": "3.8.12"
  }
 },
 "nbformat": 4,
 "nbformat_minor": 5
}

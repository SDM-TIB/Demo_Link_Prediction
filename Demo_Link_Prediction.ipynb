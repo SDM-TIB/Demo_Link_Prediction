{
 "cells": [
  {
   "cell_type": "code",
   "execution_count": 1,
   "id": "a79e104c",
   "metadata": {},
   "outputs": [],
   "source": [
    "import matplotlib.pyplot as plt\n",
    "\n",
    "\n",
    "from pykeen.triples import TriplesFactory\n",
    "from pykeen.pipeline import pipeline\n",
    "from pykeen.models import predict\n",
    "import pandas as pd\n",
    "import numpy as np\n",
    "\n",
    "import statistics\n",
    "from scipy.ndimage import gaussian_filter1d\n",
    "import math"
   ]
  },
  {
   "cell_type": "code",
   "execution_count": 23,
   "id": "5edfed04",
   "metadata": {},
   "outputs": [],
   "source": [
    "def load_dataset(name):\n",
    "    triple_data = open(name).read().strip()\n",
    "    data = np.array([triple.split(' ')[:-1] for triple in triple_data.split('\\n')])  # removing ' .'\n",
    "    triple = []\n",
    "    for t in data:\n",
    "        t[2] = ' '.join(t[2:])\n",
    "        t = t[:3]\n",
    "        triple.append(t)\n",
    "    triple = np.array(triple)\n",
    "    tf_data = TriplesFactory.from_labeled_triples(triples=triple)\n",
    "    return tf_data, triple\n",
    "\n",
    "\n",
    "def create_model(tf_training, tf_testing, embedding, n_epoch, path):\n",
    "    results = pipeline(\n",
    "        training=tf_training,\n",
    "        testing=tf_testing,\n",
    "        model=embedding,  # 'TransE',  #'RotatE'\n",
    "        # Training configuration\n",
    "        training_kwargs=dict(\n",
    "            num_epochs=n_epoch,\n",
    "            use_tqdm_batch=False,\n",
    "        ),\n",
    "        # Runtime configuration\n",
    "        random_seed=1235,\n",
    "        device='gpu',\n",
    "        \n",
    "        #training_loop='LCWA',\n",
    "        \n",
    "        training_loop='sLCWA',\n",
    "        negative_sampler='basic', #'bernoulli', 'basic',\n",
    "        \n",
    "        #negative_sampler_kwargs=dict(\n",
    "        #filtered=True,\n",
    "        #filterer='bloom',\n",
    "        #filterer_kwargs=dict(\n",
    "        #    error_rate=0.0001,\n",
    "        #)),\n",
    "    )\n",
    "    model = results.model\n",
    "    results.save_to_directory(path + embedding)\n",
    "    return model, results\n",
    "\n",
    "\n",
    "def filter_prediction(predicted_heads_df, constraint):\n",
    "    predicted_heads_df = predicted_heads_df[predicted_heads_df.head_label.str.contains(constraint)]\n",
    "    predicted_heads_df = reset_index(predicted_heads_df)\n",
    "    return predicted_heads_df\n",
    "\n",
    "\n",
    "def filter_by_type(predicted_heads, triple_data, entity_type):\n",
    "    list_entity = predicted_heads.head_label\n",
    "    entity = []\n",
    "    for s in list_entity:\n",
    "        for triple in triple_data:\n",
    "            b = [s, '<http://www.w3.org/1999/02/22-rdf-syntax-ns#type>', entity_type] == triple\n",
    "            if np.all(b):\n",
    "                entity.append(s)\n",
    "                break\n",
    "    predicted_heads = predicted_heads.loc[predicted_heads.head_label.isin(entity)]\n",
    "    predicted_heads = reset_index(predicted_heads)\n",
    "    return predicted_heads, entity\n",
    "\n",
    "\n",
    "def get_threshold(predicted_heads, percentile):\n",
    "    score_values = predicted_heads.score.values\n",
    "    threshold = np.percentile(score_values, percentile)\n",
    "    threshold_index = predicted_heads.loc[predicted_heads.score > threshold].shape[0]\n",
    "    print(threshold, threshold_index)\n",
    "    return threshold, threshold_index\n",
    "\n",
    "\n",
    "def get_inflection_point(score_values):\n",
    "    # standard deviation\n",
    "    stdev = statistics.stdev(score_values)\n",
    "    # smooth\n",
    "    smooth = gaussian_filter1d(score_values, stdev)\n",
    "    # compute second derivative\n",
    "    smooth_d2 = np.gradient(np.gradient(smooth))\n",
    "    # find switching points\n",
    "    infls = np.where(np.diff(np.sign(smooth_d2)))[0]\n",
    "    if len(infls) == 1:\n",
    "        return infls[0]\n",
    "    if len(infls) == 0:\n",
    "        return len(score_values)\n",
    "    # middle inflection point\n",
    "    m_infls = infls[math.ceil(len(infls) / 2)]\n",
    "    return m_infls\n",
    "\n",
    "\n",
    "def get_precision(predicted_heads, inflection_index):\n",
    "    tp_fp = predicted_heads.iloc[0:inflection_index + 1]\n",
    "    tp = tp_fp.loc[tp_fp.in_training == True].shape[0]\n",
    "    prec = tp / tp_fp.shape[0]\n",
    "    return prec, tp\n",
    "\n",
    "\n",
    "def get_recall(predicted_heads, tp):\n",
    "    tp_fn = predicted_heads.loc[predicted_heads.in_training == True].shape[0]\n",
    "    rec = tp / tp_fn\n",
    "    return rec\n",
    "\n",
    "\n",
    "def get_f_measure(precision, recall):\n",
    "    f_measure = 2 * (precision * recall) / (precision + recall)\n",
    "    return f_measure\n",
    "\n",
    "\n",
    "def reset_index(predicted_heads):\n",
    "    predicted_heads.reset_index(inplace=True)\n",
    "    predicted_heads.drop(columns=['index'], inplace=True)\n",
    "    return predicted_heads\n",
    "\n",
    "\n",
    "def compute_metrics(predicted_heads, cut_index):\n",
    "    precision, tp = get_precision(predicted_heads, cut_index)\n",
    "    recall = get_recall(predicted_heads, tp)\n",
    "    f_measure = get_f_measure(precision, recall)\n",
    "    return pd.DataFrame(columns=['precision', 'recall', 'f_measure'],\n",
    "                        data=[[precision,recall,f_measure]], index=['MuRe'])\n",
    "\n",
    "\n",
    "def plot_score_value(score_values, title):\n",
    "    plt.plot(score_values)\n",
    "    plt.xlabel(\"Entities\")\n",
    "    plt.ylabel(\"Score\")\n",
    "    plt.title(title)\n",
    "    plt.show()"
   ]
  },
  {
   "cell_type": "markdown",
   "id": "6d0d5b66",
   "metadata": {},
   "source": [
    "#### Load dataset I4.0 KG"
   ]
  },
  {
   "cell_type": "code",
   "execution_count": 3,
   "id": "8e6b5283",
   "metadata": {},
   "outputs": [
    {
     "name": "stderr",
     "output_type": "stream",
     "text": [
      "/tmp/ipykernel_3261/3217077378.py:3: VisibleDeprecationWarning: Creating an ndarray from ragged nested sequences (which is a list-or-tuple of lists-or-tuples-or ndarrays with different lengths or shapes) is deprecated. If you meant to do this, you must specify 'dtype=object' when creating the ndarray.\n",
      "  data = np.array([triple.split(' ')[:-1] for triple in triple_data.split('\\n')])  # removing ' .'\n"
     ]
    },
    {
     "name": "stdout",
     "output_type": "stream",
     "text": [
      "The first two triples:\n",
      " [['<http://www.w3.org/1999/02/22-rdf-syntax-ns#value>'\n",
      "  '<http://www.w3.org/1999/02/22-rdf-syntax-ns#type>'\n",
      "  '<http://www.w3.org/2002/07/owl#AnnotationProperty>']\n",
      " ['<http://www.w3.org/2001/XMLSchema#gYear>'\n",
      "  '<http://www.w3.org/1999/02/22-rdf-syntax-ns#type>'\n",
      "  '<http://www.w3.org/2000/01/rdf-schema#Datatype>']]\n"
     ]
    },
    {
     "data": {
      "text/plain": [
       "TriplesFactory(num_entities=8947, num_relations=107, num_triples=43475, inverse_triples=False)"
      ]
     },
     "execution_count": 3,
     "metadata": {},
     "output_type": "execute_result"
    }
   ],
   "source": [
    "tf_data, triple_data = load_dataset('sto-enriched-relatedTo.nt')\n",
    "print('The first two triples:\\n', triple_data[:2])\n",
    "tf_data"
   ]
  },
  {
   "cell_type": "markdown",
   "id": "9c497df5",
   "metadata": {},
   "source": [
    "### Create training and testing set"
   ]
  },
  {
   "cell_type": "code",
   "execution_count": 4,
   "id": "2740e83e",
   "metadata": {},
   "outputs": [],
   "source": [
    "training, testing = tf_data.split(random_state=1234)"
   ]
  },
  {
   "cell_type": "markdown",
   "id": "227e443a",
   "metadata": {},
   "source": [
    "### Buildind the model"
   ]
  },
  {
   "cell_type": "code",
   "execution_count": 15,
   "id": "14fd2534",
   "metadata": {},
   "outputs": [
    {
     "data": {
      "application/vnd.jupyter.widget-view+json": {
       "model_id": "a9d2e5bf863548dc8ad5aed1c7095f81",
       "version_major": 2,
       "version_minor": 0
      },
      "text/plain": [
       "Training epochs on cuda:   0%|          | 0/10 [00:00<?, ?epoch/s]"
      ]
     },
     "metadata": {},
     "output_type": "display_data"
    },
    {
     "name": "stderr",
     "output_type": "stream",
     "text": [
      "INFO:pykeen.evaluation.evaluator:Starting batch_size search for evaluation now...\n",
      "INFO:pykeen.evaluation.evaluator:Concluded batch_size search with batch_size=256.\n"
     ]
    },
    {
     "data": {
      "application/vnd.jupyter.widget-view+json": {
       "model_id": "f60ab11551cb44ee9582c5fdca1ea87f",
       "version_major": 2,
       "version_minor": 0
      },
      "text/plain": [
       "Evaluating on cuda:   0%|          | 0.00/8.70k [00:00<?, ?triple/s]"
      ]
     },
     "metadata": {},
     "output_type": "display_data"
    },
    {
     "name": "stderr",
     "output_type": "stream",
     "text": [
      "INFO:pykeen.evaluation.evaluator:Evaluation took 2.57s seconds\n"
     ]
    }
   ],
   "source": [
    "model, results = create_model(training, testing, 'RotaTe', 10, 'results_I4.0/')"
   ]
  },
  {
   "cell_type": "markdown",
   "id": "907b7a65",
   "metadata": {},
   "source": [
    "### Evaluating the Results"
   ]
  },
  {
   "cell_type": "code",
   "execution_count": 16,
   "id": "3dfcdaa4",
   "metadata": {},
   "outputs": [
    {
     "data": {
      "text/plain": [
       "<AxesSubplot:title={'center':'Losses Plot'}, xlabel='Epoch', ylabel='marginranking Loss'>"
      ]
     },
     "execution_count": 16,
     "metadata": {},
     "output_type": "execute_result"
    },
    {
     "data": {
      "image/png": "[encoded data removed]",
      "text/plain": [
       "<Figure size 432x288 with 1 Axes>"
      ]
     },
     "metadata": {},
     "output_type": "display_data"
    }
   ],
   "source": [
    "results.plot_losses()"
   ]
  },
  {
   "cell_type": "markdown",
   "id": "a9bbd9b1",
   "metadata": {},
   "source": [
    "- adjusted mean rank is between [0, 2]. Lower is better.\n",
    "- mean rank is a positive integer, with a bound based on the number of entities. Lower is better!\n",
    "- hits@k is reported between [0, 1] and interpreted as a percentage. Higher is better!"
   ]
  },
  {
   "cell_type": "code",
   "execution_count": 17,
   "id": "d827de9f",
   "metadata": {},
   "outputs": [
    {
     "data": {
      "text/html": [
       "<div>\n",
       "<style scoped>\n",
       "    .dataframe tbody tr th:only-of-type {\n",
       "        vertical-align: middle;\n",
       "    }\n",
       "\n",
       "    .dataframe tbody tr th {\n",
       "        vertical-align: top;\n",
       "    }\n",
       "\n",
       "    .dataframe thead th {\n",
       "        text-align: right;\n",
       "    }\n",
       "</style>\n",
       "<table border=\"1\" class=\"dataframe\">\n",
       "  <thead>\n",
       "    <tr style=\"text-align: right;\">\n",
       "      <th></th>\n",
       "      <th>Side</th>\n",
       "      <th>Type</th>\n",
       "      <th>Metric</th>\n",
       "      <th>Value</th>\n",
       "    </tr>\n",
       "  </thead>\n",
       "  <tbody>\n",
       "    <tr>\n",
       "      <th>0</th>\n",
       "      <td>tail</td>\n",
       "      <td>pessimistic</td>\n",
       "      <td>hits_at_1</td>\n",
       "      <td>0.008626</td>\n",
       "    </tr>\n",
       "    <tr>\n",
       "      <th>1</th>\n",
       "      <td>tail</td>\n",
       "      <td>pessimistic</td>\n",
       "      <td>hits_at_3</td>\n",
       "      <td>0.023117</td>\n",
       "    </tr>\n",
       "    <tr>\n",
       "      <th>2</th>\n",
       "      <td>tail</td>\n",
       "      <td>pessimistic</td>\n",
       "      <td>hits_at_5</td>\n",
       "      <td>0.040483</td>\n",
       "    </tr>\n",
       "    <tr>\n",
       "      <th>3</th>\n",
       "      <td>tail</td>\n",
       "      <td>pessimistic</td>\n",
       "      <td>hits_at_10</td>\n",
       "      <td>0.097757</td>\n",
       "    </tr>\n",
       "    <tr>\n",
       "      <th>4</th>\n",
       "      <td>tail</td>\n",
       "      <td>pessimistic</td>\n",
       "      <td>arithmetic_mean_rank</td>\n",
       "      <td>241.127545</td>\n",
       "    </tr>\n",
       "    <tr>\n",
       "      <th>...</th>\n",
       "      <td>...</td>\n",
       "      <td>...</td>\n",
       "      <td>...</td>\n",
       "      <td>...</td>\n",
       "    </tr>\n",
       "    <tr>\n",
       "      <th>136</th>\n",
       "      <td>both</td>\n",
       "      <td>realistic</td>\n",
       "      <td>rank_std</td>\n",
       "      <td>785.478068</td>\n",
       "    </tr>\n",
       "    <tr>\n",
       "      <th>137</th>\n",
       "      <td>both</td>\n",
       "      <td>realistic</td>\n",
       "      <td>rank_var</td>\n",
       "      <td>616975.795499</td>\n",
       "    </tr>\n",
       "    <tr>\n",
       "      <th>138</th>\n",
       "      <td>both</td>\n",
       "      <td>realistic</td>\n",
       "      <td>rank_mad</td>\n",
       "      <td>31.000000</td>\n",
       "    </tr>\n",
       "    <tr>\n",
       "      <th>139</th>\n",
       "      <td>both</td>\n",
       "      <td>realistic</td>\n",
       "      <td>adjusted_arithmetic_mean_rank</td>\n",
       "      <td>0.060261</td>\n",
       "    </tr>\n",
       "    <tr>\n",
       "      <th>140</th>\n",
       "      <td>both</td>\n",
       "      <td>realistic</td>\n",
       "      <td>adjusted_arithmetic_mean_rank_index</td>\n",
       "      <td>0.939953</td>\n",
       "    </tr>\n",
       "  </tbody>\n",
       "</table>\n",
       "<p>141 rows × 4 columns</p>\n",
       "</div>"
      ],
      "text/plain": [
       "     Side         Type                               Metric          Value\n",
       "0    tail  pessimistic                            hits_at_1       0.008626\n",
       "1    tail  pessimistic                            hits_at_3       0.023117\n",
       "2    tail  pessimistic                            hits_at_5       0.040483\n",
       "3    tail  pessimistic                           hits_at_10       0.097757\n",
       "4    tail  pessimistic                 arithmetic_mean_rank     241.127545\n",
       "..    ...          ...                                  ...            ...\n",
       "136  both    realistic                             rank_std     785.478068\n",
       "137  both    realistic                             rank_var  616975.795499\n",
       "138  both    realistic                             rank_mad      31.000000\n",
       "139  both    realistic        adjusted_arithmetic_mean_rank       0.060261\n",
       "140  both    realistic  adjusted_arithmetic_mean_rank_index       0.939953\n",
       "\n",
       "[141 rows x 4 columns]"
      ]
     },
     "execution_count": 17,
     "metadata": {},
     "output_type": "execute_result"
    }
   ],
   "source": [
    "results.metric_results.to_df()"
   ]
  },
  {
   "cell_type": "markdown",
   "id": "0314ad03",
   "metadata": {},
   "source": [
    "## Link Prediction"
   ]
  },
  {
   "cell_type": "markdown",
   "id": "42a41148",
   "metadata": {},
   "source": [
    "The predictions are ordered by their scores.\n",
    "All interaction functions in PyKEEN have been implemented such that the higher the score (or less negative the score), the more likely a triple is to be true."
   ]
  },
  {
   "cell_type": "markdown",
   "id": "502b6372",
   "metadata": {},
   "source": [
    "### Predict links (Head prediction)"
   ]
  },
  {
   "cell_type": "code",
   "execution_count": 18,
   "id": "8ca42474",
   "metadata": {},
   "outputs": [
    {
     "data": {
      "text/html": [
       "<div>\n",
       "<style scoped>\n",
       "    .dataframe tbody tr th:only-of-type {\n",
       "        vertical-align: middle;\n",
       "    }\n",
       "\n",
       "    .dataframe tbody tr th {\n",
       "        vertical-align: top;\n",
       "    }\n",
       "\n",
       "    .dataframe thead th {\n",
       "        text-align: right;\n",
       "    }\n",
       "</style>\n",
       "<table border=\"1\" class=\"dataframe\">\n",
       "  <thead>\n",
       "    <tr style=\"text-align: right;\">\n",
       "      <th></th>\n",
       "      <th>head_id</th>\n",
       "      <th>head_label</th>\n",
       "      <th>score</th>\n",
       "      <th>in_training</th>\n",
       "    </tr>\n",
       "  </thead>\n",
       "  <tbody>\n",
       "    <tr>\n",
       "      <th>5730</th>\n",
       "      <td>5730</td>\n",
       "      <td>&lt;http://www.w3.org/2002/07/owl#AnnotationPrope...</td>\n",
       "      <td>-3.145916</td>\n",
       "      <td>False</td>\n",
       "    </tr>\n",
       "    <tr>\n",
       "      <th>6445</th>\n",
       "      <td>6445</td>\n",
       "      <td>&lt;https://w3id.org/i40/sto#BPMN&gt;</td>\n",
       "      <td>-3.155034</td>\n",
       "      <td>True</td>\n",
       "    </tr>\n",
       "    <tr>\n",
       "      <th>6800</th>\n",
       "      <td>6800</td>\n",
       "      <td>&lt;https://w3id.org/i40/sto#IBM&gt;</td>\n",
       "      <td>-3.162925</td>\n",
       "      <td>False</td>\n",
       "    </tr>\n",
       "    <tr>\n",
       "      <th>3264</th>\n",
       "      <td>3264</td>\n",
       "      <td>\"pdf\"</td>\n",
       "      <td>-3.183716</td>\n",
       "      <td>False</td>\n",
       "    </tr>\n",
       "    <tr>\n",
       "      <th>6988</th>\n",
       "      <td>6988</td>\n",
       "      <td>&lt;https://w3id.org/i40/sto#IEC_61850_P7_S1_E1&gt;</td>\n",
       "      <td>-3.230472</td>\n",
       "      <td>True</td>\n",
       "    </tr>\n",
       "    <tr>\n",
       "      <th>...</th>\n",
       "      <td>...</td>\n",
       "      <td>...</td>\n",
       "      <td>...</td>\n",
       "      <td>...</td>\n",
       "    </tr>\n",
       "    <tr>\n",
       "      <th>3284</th>\n",
       "      <td>3284</td>\n",
       "      <td>\"x-road Section\"@en</td>\n",
       "      <td>-5.574364</td>\n",
       "      <td>False</td>\n",
       "    </tr>\n",
       "    <tr>\n",
       "      <th>1509</th>\n",
       "      <td>1509</td>\n",
       "      <td>\"IEC 61970-452:2015 \"@en</td>\n",
       "      <td>-5.590561</td>\n",
       "      <td>False</td>\n",
       "    </tr>\n",
       "    <tr>\n",
       "      <th>991</th>\n",
       "      <td>991</td>\n",
       "      <td>\"Enterprise Integration deals primarily with s...</td>\n",
       "      <td>-5.610683</td>\n",
       "      <td>False</td>\n",
       "    </tr>\n",
       "    <tr>\n",
       "      <th>3282</th>\n",
       "      <td>3282</td>\n",
       "      <td>\"x-road Deplyoment View\"@en</td>\n",
       "      <td>-5.629702</td>\n",
       "      <td>False</td>\n",
       "    </tr>\n",
       "    <tr>\n",
       "      <th>1760</th>\n",
       "      <td>1760</td>\n",
       "      <td>\"Industrial Internet involves all industrial s...</td>\n",
       "      <td>-5.667460</td>\n",
       "      <td>False</td>\n",
       "    </tr>\n",
       "  </tbody>\n",
       "</table>\n",
       "<p>8947 rows × 4 columns</p>\n",
       "</div>"
      ],
      "text/plain": [
       "      head_id                                         head_label     score  \\\n",
       "5730     5730  <http://www.w3.org/2002/07/owl#AnnotationPrope... -3.145916   \n",
       "6445     6445                    <https://w3id.org/i40/sto#BPMN> -3.155034   \n",
       "6800     6800                     <https://w3id.org/i40/sto#IBM> -3.162925   \n",
       "3264     3264                                              \"pdf\" -3.183716   \n",
       "6988     6988      <https://w3id.org/i40/sto#IEC_61850_P7_S1_E1> -3.230472   \n",
       "...       ...                                                ...       ...   \n",
       "3284     3284                                \"x-road Section\"@en -5.574364   \n",
       "1509     1509                           \"IEC 61970-452:2015 \"@en -5.590561   \n",
       "991       991  \"Enterprise Integration deals primarily with s... -5.610683   \n",
       "3282     3282                        \"x-road Deplyoment View\"@en -5.629702   \n",
       "1760     1760  \"Industrial Internet involves all industrial s... -5.667460   \n",
       "\n",
       "      in_training  \n",
       "5730        False  \n",
       "6445         True  \n",
       "6800        False  \n",
       "3264        False  \n",
       "6988         True  \n",
       "...           ...  \n",
       "3284        False  \n",
       "1509        False  \n",
       "991         False  \n",
       "3282        False  \n",
       "1760        False  \n",
       "\n",
       "[8947 rows x 4 columns]"
      ]
     },
     "execution_count": 18,
     "metadata": {},
     "output_type": "execute_result"
    }
   ],
   "source": [
    "#e1 = '<https://w3id.org/i40/sto#hasClassification>'\n",
    "#e2 = '<https://w3id.org/i40/rami#Safety>'\n",
    "e1 = '<https://w3id.org/i40/sto#relatedTo>'\n",
    "e2 = '<https://w3id.org/i40/sto#IEC_61850_P7_S3_E1>'\n",
    "predicted_heads = predict.get_head_prediction_df(model, e1, e2, triples_factory=tf_data)\n",
    "predicted_heads"
   ]
  },
  {
   "cell_type": "markdown",
   "id": "9ac5fb47",
   "metadata": {},
   "source": [
    "### Filter the prediction by the head 'sto'"
   ]
  },
  {
   "cell_type": "code",
   "execution_count": 19,
   "id": "23bfda38",
   "metadata": {},
   "outputs": [
    {
     "name": "stderr",
     "output_type": "stream",
     "text": [
      "/home/rivas/.local/lib/python3.8/site-packages/pandas/core/frame.py:4906: SettingWithCopyWarning: \n",
      "A value is trying to be set on a copy of a slice from a DataFrame\n",
      "\n",
      "See the caveats in the documentation: https://pandas.pydata.org/pandas-docs/stable/user_guide/indexing.html#returning-a-view-versus-a-copy\n",
      "  return super().drop(\n"
     ]
    },
    {
     "data": {
      "text/html": [
       "<div>\n",
       "<style scoped>\n",
       "    .dataframe tbody tr th:only-of-type {\n",
       "        vertical-align: middle;\n",
       "    }\n",
       "\n",
       "    .dataframe tbody tr th {\n",
       "        vertical-align: top;\n",
       "    }\n",
       "\n",
       "    .dataframe thead th {\n",
       "        text-align: right;\n",
       "    }\n",
       "</style>\n",
       "<table border=\"1\" class=\"dataframe\">\n",
       "  <thead>\n",
       "    <tr style=\"text-align: right;\">\n",
       "      <th></th>\n",
       "      <th>head_id</th>\n",
       "      <th>head_label</th>\n",
       "      <th>score</th>\n",
       "      <th>in_training</th>\n",
       "    </tr>\n",
       "  </thead>\n",
       "  <tbody>\n",
       "    <tr>\n",
       "      <th>0</th>\n",
       "      <td>6445</td>\n",
       "      <td>&lt;https://w3id.org/i40/sto#BPMN&gt;</td>\n",
       "      <td>-3.155034</td>\n",
       "      <td>True</td>\n",
       "    </tr>\n",
       "    <tr>\n",
       "      <th>1</th>\n",
       "      <td>6800</td>\n",
       "      <td>&lt;https://w3id.org/i40/sto#IBM&gt;</td>\n",
       "      <td>-3.162925</td>\n",
       "      <td>False</td>\n",
       "    </tr>\n",
       "    <tr>\n",
       "      <th>2</th>\n",
       "      <td>6988</td>\n",
       "      <td>&lt;https://w3id.org/i40/sto#IEC_61850_P7_S1_E1&gt;</td>\n",
       "      <td>-3.230472</td>\n",
       "      <td>True</td>\n",
       "    </tr>\n",
       "    <tr>\n",
       "      <th>3</th>\n",
       "      <td>7119</td>\n",
       "      <td>&lt;https://w3id.org/i40/sto#ISO_10303&gt;</td>\n",
       "      <td>-3.240358</td>\n",
       "      <td>True</td>\n",
       "    </tr>\n",
       "    <tr>\n",
       "      <th>4</th>\n",
       "      <td>7165</td>\n",
       "      <td>&lt;https://w3id.org/i40/sto#ISO_27036&gt;</td>\n",
       "      <td>-3.240857</td>\n",
       "      <td>True</td>\n",
       "    </tr>\n",
       "    <tr>\n",
       "      <th>...</th>\n",
       "      <td>...</td>\n",
       "      <td>...</td>\n",
       "      <td>...</td>\n",
       "      <td>...</td>\n",
       "    </tr>\n",
       "    <tr>\n",
       "      <th>1294</th>\n",
       "      <td>6612</td>\n",
       "      <td>&lt;https://w3id.org/i40/sto#Energy_management&gt;</td>\n",
       "      <td>-5.208713</td>\n",
       "      <td>False</td>\n",
       "    </tr>\n",
       "    <tr>\n",
       "      <th>1295</th>\n",
       "      <td>7517</td>\n",
       "      <td>&lt;https://w3id.org/i40/sto#ServiceDescriptions&gt;</td>\n",
       "      <td>-5.212553</td>\n",
       "      <td>False</td>\n",
       "    </tr>\n",
       "    <tr>\n",
       "      <th>1296</th>\n",
       "      <td>7418</td>\n",
       "      <td>&lt;https://w3id.org/i40/sto#ProjectManager&gt;</td>\n",
       "      <td>-5.242934</td>\n",
       "      <td>False</td>\n",
       "    </tr>\n",
       "    <tr>\n",
       "      <th>1297</th>\n",
       "      <td>6793</td>\n",
       "      <td>&lt;https://w3id.org/i40/sto#GeospatialQuery&gt;</td>\n",
       "      <td>-5.345814</td>\n",
       "      <td>False</td>\n",
       "    </tr>\n",
       "    <tr>\n",
       "      <th>1298</th>\n",
       "      <td>7585</td>\n",
       "      <td>&lt;https://w3id.org/i40/sto#UserExperience&gt;</td>\n",
       "      <td>-5.383077</td>\n",
       "      <td>False</td>\n",
       "    </tr>\n",
       "  </tbody>\n",
       "</table>\n",
       "<p>1299 rows × 4 columns</p>\n",
       "</div>"
      ],
      "text/plain": [
       "      head_id                                      head_label     score  \\\n",
       "0        6445                 <https://w3id.org/i40/sto#BPMN> -3.155034   \n",
       "1        6800                  <https://w3id.org/i40/sto#IBM> -3.162925   \n",
       "2        6988   <https://w3id.org/i40/sto#IEC_61850_P7_S1_E1> -3.230472   \n",
       "3        7119            <https://w3id.org/i40/sto#ISO_10303> -3.240358   \n",
       "4        7165            <https://w3id.org/i40/sto#ISO_27036> -3.240857   \n",
       "...       ...                                             ...       ...   \n",
       "1294     6612    <https://w3id.org/i40/sto#Energy_management> -5.208713   \n",
       "1295     7517  <https://w3id.org/i40/sto#ServiceDescriptions> -5.212553   \n",
       "1296     7418       <https://w3id.org/i40/sto#ProjectManager> -5.242934   \n",
       "1297     6793      <https://w3id.org/i40/sto#GeospatialQuery> -5.345814   \n",
       "1298     7585       <https://w3id.org/i40/sto#UserExperience> -5.383077   \n",
       "\n",
       "      in_training  \n",
       "0            True  \n",
       "1           False  \n",
       "2            True  \n",
       "3            True  \n",
       "4            True  \n",
       "...           ...  \n",
       "1294        False  \n",
       "1295        False  \n",
       "1296        False  \n",
       "1297        False  \n",
       "1298        False  \n",
       "\n",
       "[1299 rows x 4 columns]"
      ]
     },
     "execution_count": 19,
     "metadata": {},
     "output_type": "execute_result"
    }
   ],
   "source": [
    "predicted_heads = filter_prediction(predicted_heads, '<https://w3id.org/i40/sto#')\n",
    "predicted_heads"
   ]
  },
  {
   "cell_type": "markdown",
   "id": "27af2a59",
   "metadata": {},
   "source": [
    "### Filter by entity type 'Standard'. (it take some minutes)"
   ]
  },
  {
   "cell_type": "code",
   "execution_count": 23,
   "id": "ac0c61bb",
   "metadata": {},
   "outputs": [
    {
     "name": "stderr",
     "output_type": "stream",
     "text": [
      "/tmp/ipykernel_1401/854752121.py:56: FutureWarning: elementwise comparison failed; returning scalar instead, but in the future will perform elementwise comparison\n",
      "  b = [s, '<http://www.w3.org/1999/02/22-rdf-syntax-ns#type>', entity_type] == triple\n"
     ]
    },
    {
     "ename": "KeyboardInterrupt",
     "evalue": "",
     "output_type": "error",
     "traceback": [
      "\u001b[0;31m---------------------------------------------------------------------------\u001b[0m",
      "\u001b[0;31mKeyboardInterrupt\u001b[0m                         Traceback (most recent call last)",
      "\u001b[0;32m/tmp/ipykernel_1401/1177043243.py\u001b[0m in \u001b[0;36m<module>\u001b[0;34m\u001b[0m\n\u001b[0;32m----> 1\u001b[0;31m \u001b[0mpredicted_heads\u001b[0m\u001b[0;34m,\u001b[0m \u001b[0mentity\u001b[0m \u001b[0;34m=\u001b[0m \u001b[0mfilter_by_type\u001b[0m\u001b[0;34m(\u001b[0m\u001b[0mpredicted_heads\u001b[0m\u001b[0;34m,\u001b[0m \u001b[0mtriple_data\u001b[0m\u001b[0;34m,\u001b[0m \u001b[0;34m'<https://w3id.org/i40/sto#Standard>'\u001b[0m\u001b[0;34m)\u001b[0m\u001b[0;34m\u001b[0m\u001b[0;34m\u001b[0m\u001b[0m\n\u001b[0m\u001b[1;32m      2\u001b[0m \u001b[0mpredicted_heads\u001b[0m\u001b[0;34m\u001b[0m\u001b[0;34m\u001b[0m\u001b[0m\n",
      "\u001b[0;32m/tmp/ipykernel_1401/854752121.py\u001b[0m in \u001b[0;36mfilter_by_type\u001b[0;34m(predicted_heads, triple_data, entity_type)\u001b[0m\n\u001b[1;32m     55\u001b[0m         \u001b[0;32mfor\u001b[0m \u001b[0mtriple\u001b[0m \u001b[0;32min\u001b[0m \u001b[0mtriple_data\u001b[0m\u001b[0;34m:\u001b[0m\u001b[0;34m\u001b[0m\u001b[0;34m\u001b[0m\u001b[0m\n\u001b[1;32m     56\u001b[0m             \u001b[0mb\u001b[0m \u001b[0;34m=\u001b[0m \u001b[0;34m[\u001b[0m\u001b[0ms\u001b[0m\u001b[0;34m,\u001b[0m \u001b[0;34m'<http://www.w3.org/1999/02/22-rdf-syntax-ns#type>'\u001b[0m\u001b[0;34m,\u001b[0m \u001b[0mentity_type\u001b[0m\u001b[0;34m]\u001b[0m \u001b[0;34m==\u001b[0m \u001b[0mtriple\u001b[0m\u001b[0;34m\u001b[0m\u001b[0;34m\u001b[0m\u001b[0m\n\u001b[0;32m---> 57\u001b[0;31m             \u001b[0;32mif\u001b[0m \u001b[0mnp\u001b[0m\u001b[0;34m.\u001b[0m\u001b[0mall\u001b[0m\u001b[0;34m(\u001b[0m\u001b[0mb\u001b[0m\u001b[0;34m)\u001b[0m\u001b[0;34m:\u001b[0m\u001b[0;34m\u001b[0m\u001b[0;34m\u001b[0m\u001b[0m\n\u001b[0m\u001b[1;32m     58\u001b[0m                 \u001b[0mentity\u001b[0m\u001b[0;34m.\u001b[0m\u001b[0mappend\u001b[0m\u001b[0;34m(\u001b[0m\u001b[0ms\u001b[0m\u001b[0;34m)\u001b[0m\u001b[0;34m\u001b[0m\u001b[0;34m\u001b[0m\u001b[0m\n\u001b[1;32m     59\u001b[0m                 \u001b[0;32mbreak\u001b[0m\u001b[0;34m\u001b[0m\u001b[0;34m\u001b[0m\u001b[0m\n",
      "\u001b[0;32m<__array_function__ internals>\u001b[0m in \u001b[0;36mall\u001b[0;34m(*args, **kwargs)\u001b[0m\n",
      "\u001b[0;32m~/.local/lib/python3.8/site-packages/numpy/core/fromnumeric.py\u001b[0m in \u001b[0;36mall\u001b[0;34m(a, axis, out, keepdims, where)\u001b[0m\n\u001b[1;32m   2448\u001b[0m \u001b[0;34m\u001b[0m\u001b[0m\n\u001b[1;32m   2449\u001b[0m     \"\"\"\n\u001b[0;32m-> 2450\u001b[0;31m     return _wrapreduction(a, np.logical_and, 'all', axis, None, out,\n\u001b[0m\u001b[1;32m   2451\u001b[0m                           keepdims=keepdims, where=where)\n\u001b[1;32m   2452\u001b[0m \u001b[0;34m\u001b[0m\u001b[0m\n",
      "\u001b[0;32m~/.local/lib/python3.8/site-packages/numpy/core/fromnumeric.py\u001b[0m in \u001b[0;36m_wrapreduction\u001b[0;34m(obj, ufunc, method, axis, dtype, out, **kwargs)\u001b[0m\n\u001b[1;32m     84\u001b[0m                 \u001b[0;32mreturn\u001b[0m \u001b[0mreduction\u001b[0m\u001b[0;34m(\u001b[0m\u001b[0maxis\u001b[0m\u001b[0;34m=\u001b[0m\u001b[0maxis\u001b[0m\u001b[0;34m,\u001b[0m \u001b[0mout\u001b[0m\u001b[0;34m=\u001b[0m\u001b[0mout\u001b[0m\u001b[0;34m,\u001b[0m \u001b[0;34m**\u001b[0m\u001b[0mpasskwargs\u001b[0m\u001b[0;34m)\u001b[0m\u001b[0;34m\u001b[0m\u001b[0;34m\u001b[0m\u001b[0m\n\u001b[1;32m     85\u001b[0m \u001b[0;34m\u001b[0m\u001b[0m\n\u001b[0;32m---> 86\u001b[0;31m     \u001b[0;32mreturn\u001b[0m \u001b[0mufunc\u001b[0m\u001b[0;34m.\u001b[0m\u001b[0mreduce\u001b[0m\u001b[0;34m(\u001b[0m\u001b[0mobj\u001b[0m\u001b[0;34m,\u001b[0m \u001b[0maxis\u001b[0m\u001b[0;34m,\u001b[0m \u001b[0mdtype\u001b[0m\u001b[0;34m,\u001b[0m \u001b[0mout\u001b[0m\u001b[0;34m,\u001b[0m \u001b[0;34m**\u001b[0m\u001b[0mpasskwargs\u001b[0m\u001b[0;34m)\u001b[0m\u001b[0;34m\u001b[0m\u001b[0;34m\u001b[0m\u001b[0m\n\u001b[0m\u001b[1;32m     87\u001b[0m \u001b[0;34m\u001b[0m\u001b[0m\n\u001b[1;32m     88\u001b[0m \u001b[0;34m\u001b[0m\u001b[0m\n",
      "\u001b[0;31mKeyboardInterrupt\u001b[0m: "
     ]
    }
   ],
   "source": [
    "predicted_heads, entity = filter_by_type(predicted_heads, triple_data, '<https://w3id.org/i40/sto#Standard>')\n",
    "predicted_heads"
   ]
  },
  {
   "cell_type": "markdown",
   "id": "d88b7763",
   "metadata": {},
   "source": [
    "### Plot of entities predicted score values"
   ]
  },
  {
   "cell_type": "code",
   "execution_count": 20,
   "id": "cd62e792",
   "metadata": {},
   "outputs": [
    {
     "data": {
      "image/png": "[encoded data removed]",
      "text/plain": [
       "<Figure size 432x288 with 1 Axes>"
      ]
     },
     "metadata": {},
     "output_type": "display_data"
    }
   ],
   "source": [
    "score_values = predicted_heads.score.values\n",
    "plt.plot(score_values)\n",
    "plt.xlabel(\"Entities\")\n",
    "plt.ylabel(\"Score\")\n",
    "plt.title(\"Predicted_heads\")\n",
    "plt.show()"
   ]
  },
  {
   "cell_type": "markdown",
   "id": "4aab68c6",
   "metadata": {},
   "source": [
    "### Strategy 'inflection point'"
   ]
  },
  {
   "cell_type": "code",
   "execution_count": 21,
   "id": "e91854d8",
   "metadata": {},
   "outputs": [
    {
     "data": {
      "text/html": [
       "<div>\n",
       "<style scoped>\n",
       "    .dataframe tbody tr th:only-of-type {\n",
       "        vertical-align: middle;\n",
       "    }\n",
       "\n",
       "    .dataframe tbody tr th {\n",
       "        vertical-align: top;\n",
       "    }\n",
       "\n",
       "    .dataframe thead th {\n",
       "        text-align: right;\n",
       "    }\n",
       "</style>\n",
       "<table border=\"1\" class=\"dataframe\">\n",
       "  <thead>\n",
       "    <tr style=\"text-align: right;\">\n",
       "      <th></th>\n",
       "      <th>precision</th>\n",
       "      <th>recall</th>\n",
       "      <th>f_measure</th>\n",
       "    </tr>\n",
       "  </thead>\n",
       "  <tbody>\n",
       "    <tr>\n",
       "      <th>MuRe</th>\n",
       "      <td>0.226994</td>\n",
       "      <td>1.0</td>\n",
       "      <td>0.37</td>\n",
       "    </tr>\n",
       "  </tbody>\n",
       "</table>\n",
       "</div>"
      ],
      "text/plain": [
       "      precision  recall  f_measure\n",
       "MuRe   0.226994     1.0       0.37"
      ]
     },
     "execution_count": 21,
     "metadata": {},
     "output_type": "execute_result"
    }
   ],
   "source": [
    "inflection_index = get_inflection_point(predicted_heads.score.values)\n",
    "compute_metrics(predicted_heads, inflection_index)"
   ]
  },
  {
   "cell_type": "markdown",
   "id": "e0da6d18",
   "metadata": {},
   "source": [
    "### Strategy 'threshold'"
   ]
  },
  {
   "cell_type": "code",
   "execution_count": 26,
   "id": "ba9dab87",
   "metadata": {},
   "outputs": [
    {
     "name": "stdout",
     "output_type": "stream",
     "text": [
      "-3.481215763092041 130\n"
     ]
    },
    {
     "data": {
      "text/html": [
       "<div>\n",
       "<style scoped>\n",
       "    .dataframe tbody tr th:only-of-type {\n",
       "        vertical-align: middle;\n",
       "    }\n",
       "\n",
       "    .dataframe tbody tr th {\n",
       "        vertical-align: top;\n",
       "    }\n",
       "\n",
       "    .dataframe thead th {\n",
       "        text-align: right;\n",
       "    }\n",
       "</style>\n",
       "<table border=\"1\" class=\"dataframe\">\n",
       "  <thead>\n",
       "    <tr style=\"text-align: right;\">\n",
       "      <th></th>\n",
       "      <th>precision</th>\n",
       "      <th>recall</th>\n",
       "      <th>f_measure</th>\n",
       "    </tr>\n",
       "  </thead>\n",
       "  <tbody>\n",
       "    <tr>\n",
       "      <th>MuRe</th>\n",
       "      <td>0.900763</td>\n",
       "      <td>0.797297</td>\n",
       "      <td>0.845878</td>\n",
       "    </tr>\n",
       "  </tbody>\n",
       "</table>\n",
       "</div>"
      ],
      "text/plain": [
       "      precision    recall  f_measure\n",
       "MuRe   0.900763  0.797297   0.845878"
      ]
     },
     "execution_count": 26,
     "metadata": {},
     "output_type": "execute_result"
    }
   ],
   "source": [
    "threshold, threshold_index = get_threshold(predicted_heads, 90)\n",
    "compute_metrics(predicted_heads, threshold_index)"
   ]
  },
  {
   "cell_type": "code",
   "execution_count": null,
   "id": "8fe58edc",
   "metadata": {},
   "outputs": [],
   "source": []
  },
  {
   "cell_type": "code",
   "execution_count": null,
   "id": "f4d957b0",
   "metadata": {},
   "outputs": [],
   "source": []
  },
  {
   "cell_type": "code",
   "execution_count": 13,
   "id": "5d7c4c64",
   "metadata": {},
   "outputs": [
    {
     "data": {
      "text/html": [
       "<div>\n",
       "<style scoped>\n",
       "    .dataframe tbody tr th:only-of-type {\n",
       "        vertical-align: middle;\n",
       "    }\n",
       "\n",
       "    .dataframe tbody tr th {\n",
       "        vertical-align: top;\n",
       "    }\n",
       "\n",
       "    .dataframe thead th {\n",
       "        text-align: right;\n",
       "    }\n",
       "</style>\n",
       "<table border=\"1\" class=\"dataframe\">\n",
       "  <thead>\n",
       "    <tr style=\"text-align: right;\">\n",
       "      <th></th>\n",
       "      <th>tail_id</th>\n",
       "      <th>tail_label</th>\n",
       "      <th>score</th>\n",
       "      <th>in_training</th>\n",
       "    </tr>\n",
       "  </thead>\n",
       "  <tbody>\n",
       "    <tr>\n",
       "      <th>7442</th>\n",
       "      <td>7442</td>\n",
       "      <td>&lt;https://w3id.org/i40/sto#RAMIFieldDevice&gt;</td>\n",
       "      <td>-0.918467</td>\n",
       "      <td>False</td>\n",
       "    </tr>\n",
       "    <tr>\n",
       "      <th>7438</th>\n",
       "      <td>7438</td>\n",
       "      <td>&lt;https://w3id.org/i40/sto#RAMIControlDevice&gt;</td>\n",
       "      <td>-0.991668</td>\n",
       "      <td>False</td>\n",
       "    </tr>\n",
       "    <tr>\n",
       "      <th>7453</th>\n",
       "      <td>7453</td>\n",
       "      <td>&lt;https://w3id.org/i40/sto#RAMIProduct&gt;</td>\n",
       "      <td>-1.013164</td>\n",
       "      <td>True</td>\n",
       "    </tr>\n",
       "    <tr>\n",
       "      <th>7455</th>\n",
       "      <td>7455</td>\n",
       "      <td>&lt;https://w3id.org/i40/sto#RAMIStation&gt;</td>\n",
       "      <td>-1.085429</td>\n",
       "      <td>False</td>\n",
       "    </tr>\n",
       "    <tr>\n",
       "      <th>7099</th>\n",
       "      <td>7099</td>\n",
       "      <td>&lt;https://w3id.org/i40/sto#IIRASecurity&gt;</td>\n",
       "      <td>-1.116534</td>\n",
       "      <td>False</td>\n",
       "    </tr>\n",
       "    <tr>\n",
       "      <th>...</th>\n",
       "      <td>...</td>\n",
       "      <td>...</td>\n",
       "      <td>...</td>\n",
       "      <td>...</td>\n",
       "    </tr>\n",
       "    <tr>\n",
       "      <th>5734</th>\n",
       "      <td>5734</td>\n",
       "      <td>&lt;http://www.w3.org/2002/07/owl#NamedIndividual&gt;</td>\n",
       "      <td>-5.769360</td>\n",
       "      <td>False</td>\n",
       "    </tr>\n",
       "    <tr>\n",
       "      <th>5699</th>\n",
       "      <td>5699</td>\n",
       "      <td>&lt;http://www.ontology-of-units-of-measure.org/r...</td>\n",
       "      <td>-5.775720</td>\n",
       "      <td>False</td>\n",
       "    </tr>\n",
       "    <tr>\n",
       "      <th>8011</th>\n",
       "      <td>8011</td>\n",
       "      <td>&lt;https://www.w3.org/ns/oaSpecificResource&gt;</td>\n",
       "      <td>-6.327998</td>\n",
       "      <td>False</td>\n",
       "    </tr>\n",
       "    <tr>\n",
       "      <th>8012</th>\n",
       "      <td>8012</td>\n",
       "      <td>&lt;https://www.w3.org/ns/oaXPathSelector&gt;</td>\n",
       "      <td>-6.331574</td>\n",
       "      <td>False</td>\n",
       "    </tr>\n",
       "    <tr>\n",
       "      <th>5731</th>\n",
       "      <td>5731</td>\n",
       "      <td>&lt;http://www.w3.org/2002/07/owl#Class&gt;</td>\n",
       "      <td>-7.482696</td>\n",
       "      <td>False</td>\n",
       "    </tr>\n",
       "  </tbody>\n",
       "</table>\n",
       "<p>8947 rows × 4 columns</p>\n",
       "</div>"
      ],
      "text/plain": [
       "      tail_id                                         tail_label     score  \\\n",
       "7442     7442         <https://w3id.org/i40/sto#RAMIFieldDevice> -0.918467   \n",
       "7438     7438       <https://w3id.org/i40/sto#RAMIControlDevice> -0.991668   \n",
       "7453     7453             <https://w3id.org/i40/sto#RAMIProduct> -1.013164   \n",
       "7455     7455             <https://w3id.org/i40/sto#RAMIStation> -1.085429   \n",
       "7099     7099            <https://w3id.org/i40/sto#IIRASecurity> -1.116534   \n",
       "...       ...                                                ...       ...   \n",
       "5734     5734    <http://www.w3.org/2002/07/owl#NamedIndividual> -5.769360   \n",
       "5699     5699  <http://www.ontology-of-units-of-measure.org/r... -5.775720   \n",
       "8011     8011         <https://www.w3.org/ns/oaSpecificResource> -6.327998   \n",
       "8012     8012            <https://www.w3.org/ns/oaXPathSelector> -6.331574   \n",
       "5731     5731              <http://www.w3.org/2002/07/owl#Class> -7.482696   \n",
       "\n",
       "      in_training  \n",
       "7442        False  \n",
       "7438        False  \n",
       "7453         True  \n",
       "7455        False  \n",
       "7099        False  \n",
       "...           ...  \n",
       "5734        False  \n",
       "5699        False  \n",
       "8011        False  \n",
       "8012        False  \n",
       "5731        False  \n",
       "\n",
       "[8947 rows x 4 columns]"
      ]
     },
     "execution_count": 13,
     "metadata": {},
     "output_type": "execute_result"
    }
   ],
   "source": [
    "#e1 = '<https://w3id.org/i40/sto#ISO_24760>'\n",
    "#e1 = '<https://w3id.org/i40/sto#IEC_62541>'\n",
    "#e1 = '<https://w3id.org/i40/sto#ISO_18629>'\n",
    "#e1 = '<https://w3id.org/i40/sto#IEC_62237>'\n",
    "#e1 = '<https://w3id.org/i40/sto#ISO_15746>'\n",
    "e1 = '<https://w3id.org/i40/sto#ISO_TS_14649-201>'\n",
    "e2 = '<https://w3id.org/i40/sto#hasClassification>'\n",
    "predicted_tails = predict.get_tail_prediction_df(model, e1, e2, triples_factory=tf_data)\n",
    "predicted_tails"
   ]
  },
  {
   "cell_type": "code",
   "execution_count": 24,
   "id": "bddfe716",
   "metadata": {},
   "outputs": [
    {
     "data": {
      "image/png": "[encoded data removed]",
      "text/plain": [
       "<Figure size 432x288 with 1 Axes>"
      ]
     },
     "metadata": {},
     "output_type": "display_data"
    }
   ],
   "source": [
    "score_values = predicted_tails.score.values\n",
    "plot_score_value(score_values, \"Predicted tails\")"
   ]
  },
  {
   "cell_type": "code",
   "execution_count": 28,
   "id": "0ec5208a",
   "metadata": {},
   "outputs": [
    {
     "data": {
      "text/html": [
       "<div>\n",
       "<style scoped>\n",
       "    .dataframe tbody tr th:only-of-type {\n",
       "        vertical-align: middle;\n",
       "    }\n",
       "\n",
       "    .dataframe tbody tr th {\n",
       "        vertical-align: top;\n",
       "    }\n",
       "\n",
       "    .dataframe thead th {\n",
       "        text-align: right;\n",
       "    }\n",
       "</style>\n",
       "<table border=\"1\" class=\"dataframe\">\n",
       "  <thead>\n",
       "    <tr style=\"text-align: right;\">\n",
       "      <th></th>\n",
       "      <th>precision</th>\n",
       "      <th>recall</th>\n",
       "      <th>f_measure</th>\n",
       "    </tr>\n",
       "  </thead>\n",
       "  <tbody>\n",
       "    <tr>\n",
       "      <th>MuRe</th>\n",
       "      <td>0.166667</td>\n",
       "      <td>0.142857</td>\n",
       "      <td>0.153846</td>\n",
       "    </tr>\n",
       "  </tbody>\n",
       "</table>\n",
       "</div>"
      ],
      "text/plain": [
       "      precision    recall  f_measure\n",
       "MuRe   0.166667  0.142857   0.153846"
      ]
     },
     "execution_count": 28,
     "metadata": {},
     "output_type": "execute_result"
    }
   ],
   "source": [
    "predicted_tails = reset_index(predicted_tails)\n",
    "compute_metrics(predicted_tails, 5)"
   ]
  },
  {
   "cell_type": "code",
   "execution_count": null,
   "id": "f7cf5df7",
   "metadata": {},
   "outputs": [],
   "source": []
  }
 ],
 "metadata": {
  "kernelspec": {
   "display_name": "Python 3 (ipykernel)",
   "language": "python",
   "name": "python3"
  },
  "language_info": {
   "codemirror_mode": {
    "name": "ipython",
    "version": 3
   },
   "file_extension": ".py",
   "mimetype": "text/x-python",
   "name": "python",
   "nbconvert_exporter": "python",
   "pygments_lexer": "ipython3",
   "version": "3.8.12"
  }
 },
 "nbformat": 4,
 "nbformat_minor": 5
}

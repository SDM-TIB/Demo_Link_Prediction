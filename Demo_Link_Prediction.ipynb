{
 "cells": [
  {
   "cell_type": "code",
   "execution_count": 1,
   "id": "a79e104c",
   "metadata": {},
   "outputs": [],
   "source": [
    "import matplotlib.pyplot as plt\n",
    "\n",
    "\n",
    "from pykeen.triples import TriplesFactory\n",
    "from pykeen.pipeline import pipeline\n",
    "from pykeen.models import predict\n",
    "import pandas as pd\n",
    "import numpy as np\n",
    "\n",
    "import statistics\n",
    "from scipy.ndimage import gaussian_filter1d\n",
    "import math"
   ]
  },
  {
   "cell_type": "code",
   "execution_count": 2,
   "id": "5edfed04",
   "metadata": {},
   "outputs": [],
   "source": [
    "def load_dataset(name):\n",
    "    triple_data = open(name).read().strip()\n",
    "    data = np.array([triple.split(' ')[:-1] for triple in triple_data.split('\\n')])  # removing ' .'\n",
    "    triple = []\n",
    "    for t in data:\n",
    "        t[2] = ' '.join(t[2:])\n",
    "        t = t[:3]\n",
    "        triple.append(t)\n",
    "    triple = np.array(triple)\n",
    "    tf_data = TriplesFactory.from_labeled_triples(triples=triple)\n",
    "    return tf_data, triple\n",
    "\n",
    "\n",
    "def create_model(tf_training, tf_testing, embedding, n_epoch, training_loops, path):\n",
    "    results = pipeline(\n",
    "        training=tf_training,\n",
    "        testing=tf_testing,\n",
    "        model=embedding,  # 'TransE',  #'RotatE'\n",
    "        # Training configuration\n",
    "        training_kwargs=dict(\n",
    "            num_epochs=n_epoch,\n",
    "            use_tqdm_batch=False,\n",
    "        ),\n",
    "        # Runtime configuration\n",
    "        random_seed=1235,\n",
    "        device='cpu',\n",
    "        \n",
    "        training_loop=training_loops,\n",
    "        #negative_sampler='basic', #'bernoulli', 'basic',\n",
    "        \n",
    "        #negative_sampler_kwargs=dict(\n",
    "        #filtered=True,\n",
    "        #filterer='bloom',\n",
    "        #filterer_kwargs=dict(\n",
    "        #    error_rate=0.0001,\n",
    "        #)),\n",
    "    )\n",
    "    model = results.model\n",
    "    results.save_to_directory(path + embedding)\n",
    "    return model, results\n",
    "\n",
    "\n",
    "\n",
    "def filter_prediction(predicted_heads_df, constraint):\n",
    "    predicted_heads_df = predicted_heads_df[predicted_heads_df.head_label.str.contains(constraint)]\n",
    "    predicted_heads_df = reset_index(predicted_heads_df)\n",
    "    return predicted_heads_df\n",
    "\n",
    "\n",
    "def filter_by_type(predicted_heads, triple_data, entity_type):\n",
    "    list_entity = predicted_heads.head_label\n",
    "    entity = []\n",
    "    for s in list_entity:\n",
    "        for triple in triple_data:\n",
    "            b = [s, '<http://www.w3.org/1999/02/22-rdf-syntax-ns#type>', entity_type] == triple\n",
    "            if np.all(b):\n",
    "                entity.append(s)\n",
    "                break\n",
    "    predicted_heads = predicted_heads.loc[predicted_heads.head_label.isin(entity)]\n",
    "    predicted_heads = reset_index(predicted_heads)\n",
    "    return predicted_heads, entity\n",
    "\n",
    "\n",
    "def get_threshold(predicted_heads, percentile):\n",
    "    score_values = predicted_heads.score.values\n",
    "    threshold = np.percentile(score_values, percentile)\n",
    "    threshold_index = predicted_heads.loc[predicted_heads.score > threshold].shape[0]\n",
    "    print(threshold, threshold_index)\n",
    "    return threshold, threshold_index\n",
    "\n",
    "\n",
    "def get_inflection_point(score_values):\n",
    "    # standard deviation\n",
    "    stdev = statistics.stdev(score_values)\n",
    "    # smooth\n",
    "    smooth = gaussian_filter1d(score_values, stdev)\n",
    "    # compute second derivative\n",
    "    smooth_d2 = np.gradient(np.gradient(smooth))\n",
    "    # find switching points\n",
    "    infls = np.where(np.diff(np.sign(smooth_d2)))[0]\n",
    "    if len(infls) == 1:\n",
    "        return infls[0]\n",
    "    if len(infls) == 0:\n",
    "        return len(score_values)\n",
    "    # middle inflection point\n",
    "    m_infls = infls[math.ceil(len(infls) / 2)]\n",
    "    return m_infls\n",
    "\n",
    "\n",
    "def get_precision(predicted_heads, inflection_index):\n",
    "    tp_fp = predicted_heads.iloc[0:inflection_index + 1]\n",
    "    tp = tp_fp.loc[tp_fp.in_training == True].shape[0]\n",
    "    prec = tp / tp_fp.shape[0]\n",
    "    return prec, tp\n",
    "\n",
    "\n",
    "def get_recall(predicted_heads, tp):\n",
    "    tp_fn = predicted_heads.loc[predicted_heads.in_training == True].shape[0]\n",
    "    rec = tp / tp_fn\n",
    "    return rec\n",
    "\n",
    "\n",
    "def get_f_measure(precision, recall):\n",
    "    f_measure = 2 * (precision * recall) / (precision + recall)\n",
    "    return f_measure\n",
    "\n",
    "\n",
    "def reset_index(predicted_heads):\n",
    "    predicted_heads.reset_index(inplace=True)\n",
    "    predicted_heads.drop(columns=['index'], inplace=True)\n",
    "    return predicted_heads\n",
    "\n",
    "\n",
    "def compute_metrics(predicted_heads, cut_index):\n",
    "    precision, tp = get_precision(predicted_heads, cut_index)\n",
    "    recall = get_recall(predicted_heads, tp)\n",
    "    f_measure = get_f_measure(precision, recall)\n",
    "    return pd.DataFrame(columns=['precision', 'recall', 'f_measure'],\n",
    "                        data=[[precision,recall,f_measure]], index=['MuRe'])\n",
    "\n",
    "\n",
    "def plot_score_value(score_values, title):\n",
    "    plt.plot(score_values)\n",
    "    plt.xlabel(\"Entities\")\n",
    "    plt.ylabel(\"Score\")\n",
    "    plt.title(title)\n",
    "    plt.show()"
   ]
  },
  {
   "cell_type": "markdown",
   "id": "6d0d5b66",
   "metadata": {},
   "source": [
    "#### Load dataset I4.0 KG"
   ]
  },
  {
   "cell_type": "code",
   "execution_count": 3,
   "id": "8e6b5283",
   "metadata": {},
   "outputs": [
    {
     "name": "stderr",
     "output_type": "stream",
     "text": [
      "/tmp/ipykernel_10238/2177693796.py:3: VisibleDeprecationWarning: Creating an ndarray from ragged nested sequences (which is a list-or-tuple of lists-or-tuples-or ndarrays with different lengths or shapes) is deprecated. If you meant to do this, you must specify 'dtype=object' when creating the ndarray.\n",
      "  data = np.array([triple.split(' ')[:-1] for triple in triple_data.split('\\n')])  # removing ' .'\n"
     ]
    },
    {
     "name": "stdout",
     "output_type": "stream",
     "text": [
      "The first two triples:\n",
      " [['<http://www.w3.org/1999/02/22-rdf-syntax-ns#value>'\n",
      "  '<http://www.w3.org/1999/02/22-rdf-syntax-ns#type>'\n",
      "  '<http://www.w3.org/2002/07/owl#AnnotationProperty>']\n",
      " ['<http://www.w3.org/2001/XMLSchema#gYear>'\n",
      "  '<http://www.w3.org/1999/02/22-rdf-syntax-ns#type>'\n",
      "  '<http://www.w3.org/2000/01/rdf-schema#Datatype>']]\n"
     ]
    },
    {
     "data": {
      "text/plain": [
       "TriplesFactory(num_entities=8947, num_relations=107, num_triples=43475, inverse_triples=False)"
      ]
     },
     "execution_count": 3,
     "metadata": {},
     "output_type": "execute_result"
    }
   ],
   "source": [
    "tf_data, triple_data = load_dataset('sto-enriched-relatedTo.nt')\n",
    "print('The first two triples:\\n', triple_data[:2])\n",
    "tf_data"
   ]
  },
  {
   "cell_type": "markdown",
   "id": "9c497df5",
   "metadata": {},
   "source": [
    "### Create training and testing set"
   ]
  },
  {
   "cell_type": "code",
   "execution_count": 4,
   "id": "2740e83e",
   "metadata": {},
   "outputs": [],
   "source": [
    "training, testing = tf_data.split(random_state=1234)"
   ]
  },
  {
   "cell_type": "markdown",
   "id": "227e443a",
   "metadata": {},
   "source": [
    "### Buildind the model"
   ]
  },
  {
   "cell_type": "code",
   "execution_count": 8,
   "id": "14fd2534",
   "metadata": {},
   "outputs": [
    {
     "data": {
      "application/vnd.jupyter.widget-view+json": {
       "model_id": "e9314e9f199848628293c98fa9a96b94",
       "version_major": 2,
       "version_minor": 0
      },
      "text/plain": [
       "Training epochs on cpu:   0%|          | 0/10 [00:00<?, ?epoch/s]"
      ]
     },
     "metadata": {},
     "output_type": "display_data"
    },
    {
     "name": "stderr",
     "output_type": "stream",
     "text": [
      "INFO:pykeen.evaluation.evaluator:Currently automatic memory optimization only supports GPUs, but you're using a CPU. Therefore, the batch_size will be set to the default value.\n",
      "INFO:pykeen.evaluation.evaluator:No evaluation batch_size provided. Setting batch_size to '32'.\n"
     ]
    },
    {
     "data": {
      "application/vnd.jupyter.widget-view+json": {
       "model_id": "5de1e01c44234dd5ae9333fd7e348fe2",
       "version_major": 2,
       "version_minor": 0
      },
      "text/plain": [
       "Evaluating on cpu:   0%|          | 0.00/8.70k [00:00<?, ?triple/s]"
      ]
     },
     "metadata": {},
     "output_type": "display_data"
    },
    {
     "name": "stderr",
     "output_type": "stream",
     "text": [
      "INFO:pykeen.evaluation.evaluator:Evaluation took 51.80s seconds\n"
     ]
    }
   ],
   "source": [
    "model, results = create_model(training, testing, 'TransR', 10, 'LCWA', 'results_I4.0/')"
   ]
  },
  {
   "cell_type": "code",
   "execution_count": null,
   "id": "122dd562",
   "metadata": {},
   "outputs": [],
   "source": [
    "results.save_to_directory('results_I4.0/TransR', )"
   ]
  },
  {
   "cell_type": "code",
   "execution_count": 10,
   "id": "2ba478a0",
   "metadata": {},
   "outputs": [],
   "source": [
    "results.metric_results.to_df().to_csv('results_I4.0/LCWA/TransR/metric_results.csv', index=None)"
   ]
  },
  {
   "cell_type": "markdown",
   "id": "907b7a65",
   "metadata": {},
   "source": [
    "### Evaluating the Results"
   ]
  },
  {
   "cell_type": "code",
   "execution_count": 9,
   "id": "3dfcdaa4",
   "metadata": {},
   "outputs": [
    {
     "data": {
      "text/plain": [
       "<AxesSubplot:title={'center':'Losses Plot'}, xlabel='Epoch', ylabel='marginranking Loss'>"
      ]
     },
     "execution_count": 9,
     "metadata": {},
     "output_type": "execute_result"
    },
    {
     "data": {
      "image/png": "[encoded data removed]",
      "text/plain": [
       "<Figure size 432x288 with 1 Axes>"
      ]
     },
     "metadata": {},
     "output_type": "display_data"
    }
   ],
   "source": [
    "results.plot_losses()"
   ]
  },
  {
   "cell_type": "markdown",
   "id": "a9bbd9b1",
   "metadata": {},
   "source": [
    "- adjusted mean rank is between [0, 2]. Lower is better.\n",
    "- mean rank is a positive integer, with a bound based on the number of entities. Lower is better!\n",
    "- hits@k is reported between [0, 1] and interpreted as a percentage. Higher is better!"
   ]
  },
  {
   "cell_type": "code",
   "execution_count": 11,
   "id": "5d2c4609",
   "metadata": {},
   "outputs": [
    {
     "name": "stdout",
     "output_type": "stream",
     "text": [
      "Side: ['head' 'both' 'tail'] \n",
      "Type: ['realistic' 'pessimistic' 'optimistic']\n"
     ]
    },
    {
     "data": {
      "text/html": [
       "<div>\n",
       "<style scoped>\n",
       "    .dataframe tbody tr th:only-of-type {\n",
       "        vertical-align: middle;\n",
       "    }\n",
       "\n",
       "    .dataframe tbody tr th {\n",
       "        vertical-align: top;\n",
       "    }\n",
       "\n",
       "    .dataframe thead th {\n",
       "        text-align: right;\n",
       "    }\n",
       "</style>\n",
       "<table border=\"1\" class=\"dataframe\">\n",
       "  <thead>\n",
       "    <tr style=\"text-align: right;\">\n",
       "      <th></th>\n",
       "      <th>Side</th>\n",
       "      <th>Type</th>\n",
       "      <th>Metric</th>\n",
       "      <th>Value</th>\n",
       "    </tr>\n",
       "  </thead>\n",
       "  <tbody>\n",
       "    <tr>\n",
       "      <th>47</th>\n",
       "      <td>both</td>\n",
       "      <td>realistic</td>\n",
       "      <td>hits_at_1</td>\n",
       "      <td>3.392754e-01</td>\n",
       "    </tr>\n",
       "    <tr>\n",
       "      <th>48</th>\n",
       "      <td>both</td>\n",
       "      <td>realistic</td>\n",
       "      <td>hits_at_3</td>\n",
       "      <td>3.625647e-01</td>\n",
       "    </tr>\n",
       "    <tr>\n",
       "      <th>49</th>\n",
       "      <td>both</td>\n",
       "      <td>realistic</td>\n",
       "      <td>hits_at_5</td>\n",
       "      <td>3.763657e-01</td>\n",
       "    </tr>\n",
       "    <tr>\n",
       "      <th>50</th>\n",
       "      <td>both</td>\n",
       "      <td>realistic</td>\n",
       "      <td>hits_at_10</td>\n",
       "      <td>3.992524e-01</td>\n",
       "    </tr>\n",
       "    <tr>\n",
       "      <th>51</th>\n",
       "      <td>both</td>\n",
       "      <td>realistic</td>\n",
       "      <td>arithmetic_mean_rank</td>\n",
       "      <td>3.485892e+03</td>\n",
       "    </tr>\n",
       "    <tr>\n",
       "      <th>52</th>\n",
       "      <td>both</td>\n",
       "      <td>realistic</td>\n",
       "      <td>geometric_mean_rank</td>\n",
       "      <td>1.210965e+02</td>\n",
       "    </tr>\n",
       "    <tr>\n",
       "      <th>53</th>\n",
       "      <td>both</td>\n",
       "      <td>realistic</td>\n",
       "      <td>median_rank</td>\n",
       "      <td>2.320000e+02</td>\n",
       "    </tr>\n",
       "    <tr>\n",
       "      <th>54</th>\n",
       "      <td>both</td>\n",
       "      <td>realistic</td>\n",
       "      <td>harmonic_mean_rank</td>\n",
       "      <td>2.783531e+00</td>\n",
       "    </tr>\n",
       "    <tr>\n",
       "      <th>55</th>\n",
       "      <td>both</td>\n",
       "      <td>realistic</td>\n",
       "      <td>inverse_arithmetic_mean_rank</td>\n",
       "      <td>2.868706e-04</td>\n",
       "    </tr>\n",
       "    <tr>\n",
       "      <th>56</th>\n",
       "      <td>both</td>\n",
       "      <td>realistic</td>\n",
       "      <td>inverse_geometric_mean_rank</td>\n",
       "      <td>8.257874e-03</td>\n",
       "    </tr>\n",
       "    <tr>\n",
       "      <th>57</th>\n",
       "      <td>both</td>\n",
       "      <td>realistic</td>\n",
       "      <td>inverse_harmonic_mean_rank</td>\n",
       "      <td>3.592559e-01</td>\n",
       "    </tr>\n",
       "    <tr>\n",
       "      <th>58</th>\n",
       "      <td>both</td>\n",
       "      <td>realistic</td>\n",
       "      <td>inverse_median_rank</td>\n",
       "      <td>4.310345e-03</td>\n",
       "    </tr>\n",
       "    <tr>\n",
       "      <th>59</th>\n",
       "      <td>both</td>\n",
       "      <td>realistic</td>\n",
       "      <td>rank_std</td>\n",
       "      <td>4.010362e+03</td>\n",
       "    </tr>\n",
       "    <tr>\n",
       "      <th>60</th>\n",
       "      <td>both</td>\n",
       "      <td>realistic</td>\n",
       "      <td>rank_var</td>\n",
       "      <td>1.608300e+07</td>\n",
       "    </tr>\n",
       "    <tr>\n",
       "      <th>61</th>\n",
       "      <td>both</td>\n",
       "      <td>realistic</td>\n",
       "      <td>rank_mad</td>\n",
       "      <td>2.310000e+02</td>\n",
       "    </tr>\n",
       "    <tr>\n",
       "      <th>62</th>\n",
       "      <td>both</td>\n",
       "      <td>realistic</td>\n",
       "      <td>adjusted_arithmetic_mean_rank</td>\n",
       "      <td>7.906743e-01</td>\n",
       "    </tr>\n",
       "    <tr>\n",
       "      <th>63</th>\n",
       "      <td>both</td>\n",
       "      <td>realistic</td>\n",
       "      <td>adjusted_arithmetic_mean_rank_index</td>\n",
       "      <td>2.093732e-01</td>\n",
       "    </tr>\n",
       "  </tbody>\n",
       "</table>\n",
       "</div>"
      ],
      "text/plain": [
       "    Side       Type                               Metric         Value\n",
       "47  both  realistic                            hits_at_1  3.392754e-01\n",
       "48  both  realistic                            hits_at_3  3.625647e-01\n",
       "49  both  realistic                            hits_at_5  3.763657e-01\n",
       "50  both  realistic                           hits_at_10  3.992524e-01\n",
       "51  both  realistic                 arithmetic_mean_rank  3.485892e+03\n",
       "52  both  realistic                  geometric_mean_rank  1.210965e+02\n",
       "53  both  realistic                          median_rank  2.320000e+02\n",
       "54  both  realistic                   harmonic_mean_rank  2.783531e+00\n",
       "55  both  realistic         inverse_arithmetic_mean_rank  2.868706e-04\n",
       "56  both  realistic          inverse_geometric_mean_rank  8.257874e-03\n",
       "57  both  realistic           inverse_harmonic_mean_rank  3.592559e-01\n",
       "58  both  realistic                  inverse_median_rank  4.310345e-03\n",
       "59  both  realistic                             rank_std  4.010362e+03\n",
       "60  both  realistic                             rank_var  1.608300e+07\n",
       "61  both  realistic                             rank_mad  2.310000e+02\n",
       "62  both  realistic        adjusted_arithmetic_mean_rank  7.906743e-01\n",
       "63  both  realistic  adjusted_arithmetic_mean_rank_index  2.093732e-01"
      ]
     },
     "execution_count": 11,
     "metadata": {},
     "output_type": "execute_result"
    }
   ],
   "source": [
    "metrics = results.metric_results.to_df()\n",
    "print('Side:', metrics.Side.unique(), '\\nType:', metrics.Type.unique())\n",
    "metrics.loc[(metrics.Side=='both') & (metrics.Type=='realistic')]"
   ]
  },
  {
   "cell_type": "markdown",
   "id": "0314ad03",
   "metadata": {},
   "source": [
    "## Link Prediction"
   ]
  },
  {
   "cell_type": "markdown",
   "id": "42a41148",
   "metadata": {},
   "source": [
    "The predictions are ordered by their scores.\n",
    "All interaction functions in PyKEEN have been implemented such that the higher the score (or less negative the score), the more likely a triple is to be true."
   ]
  },
  {
   "cell_type": "markdown",
   "id": "502b6372",
   "metadata": {},
   "source": [
    "### Predict links (Head prediction)"
   ]
  },
  {
   "cell_type": "code",
   "execution_count": 72,
   "id": "8ca42474",
   "metadata": {},
   "outputs": [
    {
     "data": {
      "text/html": [
       "<div>\n",
       "<style scoped>\n",
       "    .dataframe tbody tr th:only-of-type {\n",
       "        vertical-align: middle;\n",
       "    }\n",
       "\n",
       "    .dataframe tbody tr th {\n",
       "        vertical-align: top;\n",
       "    }\n",
       "\n",
       "    .dataframe thead th {\n",
       "        text-align: right;\n",
       "    }\n",
       "</style>\n",
       "<table border=\"1\" class=\"dataframe\">\n",
       "  <thead>\n",
       "    <tr style=\"text-align: right;\">\n",
       "      <th></th>\n",
       "      <th>head_id</th>\n",
       "      <th>head_label</th>\n",
       "      <th>score</th>\n",
       "      <th>in_training</th>\n",
       "    </tr>\n",
       "  </thead>\n",
       "  <tbody>\n",
       "    <tr>\n",
       "      <th>5027</th>\n",
       "      <td>5027</td>\n",
       "      <td>&lt;http://lexvo.org/id/iso639-3/rus&gt;</td>\n",
       "      <td>-0.078897</td>\n",
       "      <td>False</td>\n",
       "    </tr>\n",
       "    <tr>\n",
       "      <th>7243</th>\n",
       "      <td>7243</td>\n",
       "      <td>&lt;https://w3id.org/i40/sto#IviManagementView&gt;</td>\n",
       "      <td>-0.079664</td>\n",
       "      <td>False</td>\n",
       "    </tr>\n",
       "    <tr>\n",
       "      <th>7513</th>\n",
       "      <td>7513</td>\n",
       "      <td>&lt;https://w3id.org/i40/sto#ServiceChoreography&gt;</td>\n",
       "      <td>-0.080802</td>\n",
       "      <td>False</td>\n",
       "    </tr>\n",
       "    <tr>\n",
       "      <th>7388</th>\n",
       "      <td>7388</td>\n",
       "      <td>&lt;https://w3id.org/i40/sto#OpenFogConsortium&gt;</td>\n",
       "      <td>-0.081340</td>\n",
       "      <td>False</td>\n",
       "    </tr>\n",
       "    <tr>\n",
       "      <th>7272</th>\n",
       "      <td>7272</td>\n",
       "      <td>&lt;https://w3id.org/i40/sto#MachineLearning&gt;</td>\n",
       "      <td>-0.083338</td>\n",
       "      <td>False</td>\n",
       "    </tr>\n",
       "    <tr>\n",
       "      <th>...</th>\n",
       "      <td>...</td>\n",
       "      <td>...</td>\n",
       "      <td>...</td>\n",
       "      <td>...</td>\n",
       "    </tr>\n",
       "    <tr>\n",
       "      <th>7142</th>\n",
       "      <td>7142</td>\n",
       "      <td>&lt;https://w3id.org/i40/sto#ISO_16792&gt;</td>\n",
       "      <td>-1.415257</td>\n",
       "      <td>True</td>\n",
       "    </tr>\n",
       "    <tr>\n",
       "      <th>6983</th>\n",
       "      <td>6983</td>\n",
       "      <td>&lt;https://w3id.org/i40/sto#IEC_61850&gt;</td>\n",
       "      <td>-1.417879</td>\n",
       "      <td>True</td>\n",
       "    </tr>\n",
       "    <tr>\n",
       "      <th>7019</th>\n",
       "      <td>7019</td>\n",
       "      <td>&lt;https://w3id.org/i40/sto#IEC_62264&gt;</td>\n",
       "      <td>-1.423618</td>\n",
       "      <td>True</td>\n",
       "    </tr>\n",
       "    <tr>\n",
       "      <th>7160</th>\n",
       "      <td>7160</td>\n",
       "      <td>&lt;https://w3id.org/i40/sto#ISO_27001&gt;</td>\n",
       "      <td>-1.431259</td>\n",
       "      <td>True</td>\n",
       "    </tr>\n",
       "    <tr>\n",
       "      <th>6989</th>\n",
       "      <td>6989</td>\n",
       "      <td>&lt;https://w3id.org/i40/sto#IEC_61850_P7_S1_E2&gt;</td>\n",
       "      <td>-1.439603</td>\n",
       "      <td>True</td>\n",
       "    </tr>\n",
       "  </tbody>\n",
       "</table>\n",
       "<p>8947 rows × 4 columns</p>\n",
       "</div>"
      ],
      "text/plain": [
       "      head_id                                      head_label     score  \\\n",
       "5027     5027              <http://lexvo.org/id/iso639-3/rus> -0.078897   \n",
       "7243     7243    <https://w3id.org/i40/sto#IviManagementView> -0.079664   \n",
       "7513     7513  <https://w3id.org/i40/sto#ServiceChoreography> -0.080802   \n",
       "7388     7388    <https://w3id.org/i40/sto#OpenFogConsortium> -0.081340   \n",
       "7272     7272      <https://w3id.org/i40/sto#MachineLearning> -0.083338   \n",
       "...       ...                                             ...       ...   \n",
       "7142     7142            <https://w3id.org/i40/sto#ISO_16792> -1.415257   \n",
       "6983     6983            <https://w3id.org/i40/sto#IEC_61850> -1.417879   \n",
       "7019     7019            <https://w3id.org/i40/sto#IEC_62264> -1.423618   \n",
       "7160     7160            <https://w3id.org/i40/sto#ISO_27001> -1.431259   \n",
       "6989     6989   <https://w3id.org/i40/sto#IEC_61850_P7_S1_E2> -1.439603   \n",
       "\n",
       "      in_training  \n",
       "5027        False  \n",
       "7243        False  \n",
       "7513        False  \n",
       "7388        False  \n",
       "7272        False  \n",
       "...           ...  \n",
       "7142         True  \n",
       "6983         True  \n",
       "7019         True  \n",
       "7160         True  \n",
       "6989         True  \n",
       "\n",
       "[8947 rows x 4 columns]"
      ]
     },
     "execution_count": 72,
     "metadata": {},
     "output_type": "execute_result"
    }
   ],
   "source": [
    "#e1 = '<https://w3id.org/i40/sto#hasClassification>'\n",
    "#e2 = '<https://w3id.org/i40/rami#Safety>'\n",
    "e1 = '<https://w3id.org/i40/sto#relatedTo>'\n",
    "e2 = '<https://w3id.org/i40/sto#IEC_61850_P7_S3_E1>'\n",
    "predicted_heads = predict.get_head_prediction_df(model, e1, e2, triples_factory=tf_data)\n",
    "predicted_heads"
   ]
  },
  {
   "cell_type": "markdown",
   "id": "9ac5fb47",
   "metadata": {},
   "source": [
    "### Filter the prediction by the head 'sto'"
   ]
  },
  {
   "cell_type": "code",
   "execution_count": 73,
   "id": "23bfda38",
   "metadata": {},
   "outputs": [
    {
     "name": "stderr",
     "output_type": "stream",
     "text": [
      "/home/rivas/.local/lib/python3.8/site-packages/pandas/core/frame.py:4906: SettingWithCopyWarning: \n",
      "A value is trying to be set on a copy of a slice from a DataFrame\n",
      "\n",
      "See the caveats in the documentation: https://pandas.pydata.org/pandas-docs/stable/user_guide/indexing.html#returning-a-view-versus-a-copy\n",
      "  return super().drop(\n"
     ]
    },
    {
     "data": {
      "text/html": [
       "<div>\n",
       "<style scoped>\n",
       "    .dataframe tbody tr th:only-of-type {\n",
       "        vertical-align: middle;\n",
       "    }\n",
       "\n",
       "    .dataframe tbody tr th {\n",
       "        vertical-align: top;\n",
       "    }\n",
       "\n",
       "    .dataframe thead th {\n",
       "        text-align: right;\n",
       "    }\n",
       "</style>\n",
       "<table border=\"1\" class=\"dataframe\">\n",
       "  <thead>\n",
       "    <tr style=\"text-align: right;\">\n",
       "      <th></th>\n",
       "      <th>head_id</th>\n",
       "      <th>head_label</th>\n",
       "      <th>score</th>\n",
       "      <th>in_training</th>\n",
       "    </tr>\n",
       "  </thead>\n",
       "  <tbody>\n",
       "    <tr>\n",
       "      <th>0</th>\n",
       "      <td>7243</td>\n",
       "      <td>&lt;https://w3id.org/i40/sto#IviManagementView&gt;</td>\n",
       "      <td>-0.079664</td>\n",
       "      <td>False</td>\n",
       "    </tr>\n",
       "    <tr>\n",
       "      <th>1</th>\n",
       "      <td>7513</td>\n",
       "      <td>&lt;https://w3id.org/i40/sto#ServiceChoreography&gt;</td>\n",
       "      <td>-0.080802</td>\n",
       "      <td>False</td>\n",
       "    </tr>\n",
       "    <tr>\n",
       "      <th>2</th>\n",
       "      <td>7388</td>\n",
       "      <td>&lt;https://w3id.org/i40/sto#OpenFogConsortium&gt;</td>\n",
       "      <td>-0.081340</td>\n",
       "      <td>False</td>\n",
       "    </tr>\n",
       "    <tr>\n",
       "      <th>3</th>\n",
       "      <td>7272</td>\n",
       "      <td>&lt;https://w3id.org/i40/sto#MachineLearning&gt;</td>\n",
       "      <td>-0.083338</td>\n",
       "      <td>False</td>\n",
       "    </tr>\n",
       "    <tr>\n",
       "      <th>4</th>\n",
       "      <td>7461</td>\n",
       "      <td>&lt;https://w3id.org/i40/sto#REST&gt;</td>\n",
       "      <td>-0.085022</td>\n",
       "      <td>False</td>\n",
       "    </tr>\n",
       "    <tr>\n",
       "      <th>...</th>\n",
       "      <td>...</td>\n",
       "      <td>...</td>\n",
       "      <td>...</td>\n",
       "      <td>...</td>\n",
       "    </tr>\n",
       "    <tr>\n",
       "      <th>1294</th>\n",
       "      <td>7142</td>\n",
       "      <td>&lt;https://w3id.org/i40/sto#ISO_16792&gt;</td>\n",
       "      <td>-1.415257</td>\n",
       "      <td>True</td>\n",
       "    </tr>\n",
       "    <tr>\n",
       "      <th>1295</th>\n",
       "      <td>6983</td>\n",
       "      <td>&lt;https://w3id.org/i40/sto#IEC_61850&gt;</td>\n",
       "      <td>-1.417879</td>\n",
       "      <td>True</td>\n",
       "    </tr>\n",
       "    <tr>\n",
       "      <th>1296</th>\n",
       "      <td>7019</td>\n",
       "      <td>&lt;https://w3id.org/i40/sto#IEC_62264&gt;</td>\n",
       "      <td>-1.423618</td>\n",
       "      <td>True</td>\n",
       "    </tr>\n",
       "    <tr>\n",
       "      <th>1297</th>\n",
       "      <td>7160</td>\n",
       "      <td>&lt;https://w3id.org/i40/sto#ISO_27001&gt;</td>\n",
       "      <td>-1.431259</td>\n",
       "      <td>True</td>\n",
       "    </tr>\n",
       "    <tr>\n",
       "      <th>1298</th>\n",
       "      <td>6989</td>\n",
       "      <td>&lt;https://w3id.org/i40/sto#IEC_61850_P7_S1_E2&gt;</td>\n",
       "      <td>-1.439603</td>\n",
       "      <td>True</td>\n",
       "    </tr>\n",
       "  </tbody>\n",
       "</table>\n",
       "<p>1299 rows × 4 columns</p>\n",
       "</div>"
      ],
      "text/plain": [
       "      head_id                                      head_label     score  \\\n",
       "0        7243    <https://w3id.org/i40/sto#IviManagementView> -0.079664   \n",
       "1        7513  <https://w3id.org/i40/sto#ServiceChoreography> -0.080802   \n",
       "2        7388    <https://w3id.org/i40/sto#OpenFogConsortium> -0.081340   \n",
       "3        7272      <https://w3id.org/i40/sto#MachineLearning> -0.083338   \n",
       "4        7461                 <https://w3id.org/i40/sto#REST> -0.085022   \n",
       "...       ...                                             ...       ...   \n",
       "1294     7142            <https://w3id.org/i40/sto#ISO_16792> -1.415257   \n",
       "1295     6983            <https://w3id.org/i40/sto#IEC_61850> -1.417879   \n",
       "1296     7019            <https://w3id.org/i40/sto#IEC_62264> -1.423618   \n",
       "1297     7160            <https://w3id.org/i40/sto#ISO_27001> -1.431259   \n",
       "1298     6989   <https://w3id.org/i40/sto#IEC_61850_P7_S1_E2> -1.439603   \n",
       "\n",
       "      in_training  \n",
       "0           False  \n",
       "1           False  \n",
       "2           False  \n",
       "3           False  \n",
       "4           False  \n",
       "...           ...  \n",
       "1294         True  \n",
       "1295         True  \n",
       "1296         True  \n",
       "1297         True  \n",
       "1298         True  \n",
       "\n",
       "[1299 rows x 4 columns]"
      ]
     },
     "execution_count": 73,
     "metadata": {},
     "output_type": "execute_result"
    }
   ],
   "source": [
    "predicted_heads = filter_prediction(predicted_heads, '<https://w3id.org/i40/sto#')\n",
    "predicted_heads"
   ]
  },
  {
   "cell_type": "markdown",
   "id": "27af2a59",
   "metadata": {},
   "source": [
    "### Filter by entity type 'Standard'. (it take some minutes)"
   ]
  },
  {
   "cell_type": "code",
   "execution_count": null,
   "id": "ac0c61bb",
   "metadata": {},
   "outputs": [],
   "source": [
    "predicted_heads, entity = filter_by_type(predicted_heads, triple_data, '<https://w3id.org/i40/sto#Standard>')\n",
    "predicted_heads"
   ]
  },
  {
   "cell_type": "markdown",
   "id": "d88b7763",
   "metadata": {},
   "source": [
    "### Plot of entities predicted score values"
   ]
  },
  {
   "cell_type": "code",
   "execution_count": 74,
   "id": "cd62e792",
   "metadata": {},
   "outputs": [
    {
     "data": {
      "image/png": "[encoded data removed]",
      "text/plain": [
       "<Figure size 432x288 with 1 Axes>"
      ]
     },
     "metadata": {},
     "output_type": "display_data"
    }
   ],
   "source": [
    "score_values = predicted_heads.score.values\n",
    "plt.plot(score_values)\n",
    "plt.xlabel(\"Entities\")\n",
    "plt.ylabel(\"Score\")\n",
    "plt.title(\"Predicted_heads\")\n",
    "plt.show()"
   ]
  },
  {
   "cell_type": "markdown",
   "id": "4aab68c6",
   "metadata": {},
   "source": [
    "### Strategy 'inflection point'"
   ]
  },
  {
   "cell_type": "code",
   "execution_count": 75,
   "id": "e91854d8",
   "metadata": {},
   "outputs": [
    {
     "ename": "ZeroDivisionError",
     "evalue": "float division by zero",
     "output_type": "error",
     "traceback": [
      "\u001b[0;31m---------------------------------------------------------------------------\u001b[0m",
      "\u001b[0;31mZeroDivisionError\u001b[0m                         Traceback (most recent call last)",
      "\u001b[0;32m/tmp/ipykernel_5767/2205073086.py\u001b[0m in \u001b[0;36m<module>\u001b[0;34m\u001b[0m\n\u001b[1;32m      1\u001b[0m \u001b[0minflection_index\u001b[0m \u001b[0;34m=\u001b[0m \u001b[0mget_inflection_point\u001b[0m\u001b[0;34m(\u001b[0m\u001b[0mpredicted_heads\u001b[0m\u001b[0;34m.\u001b[0m\u001b[0mscore\u001b[0m\u001b[0;34m.\u001b[0m\u001b[0mvalues\u001b[0m\u001b[0;34m)\u001b[0m\u001b[0;34m\u001b[0m\u001b[0;34m\u001b[0m\u001b[0m\n\u001b[0;32m----> 2\u001b[0;31m \u001b[0mcompute_metrics\u001b[0m\u001b[0;34m(\u001b[0m\u001b[0mpredicted_heads\u001b[0m\u001b[0;34m,\u001b[0m \u001b[0minflection_index\u001b[0m\u001b[0;34m)\u001b[0m\u001b[0;34m\u001b[0m\u001b[0;34m\u001b[0m\u001b[0m\n\u001b[0m",
      "\u001b[0;32m/tmp/ipykernel_5767/2177693796.py\u001b[0m in \u001b[0;36mcompute_metrics\u001b[0;34m(predicted_heads, cut_index)\u001b[0m\n\u001b[1;32m    115\u001b[0m     \u001b[0mprecision\u001b[0m\u001b[0;34m,\u001b[0m \u001b[0mtp\u001b[0m \u001b[0;34m=\u001b[0m \u001b[0mget_precision\u001b[0m\u001b[0;34m(\u001b[0m\u001b[0mpredicted_heads\u001b[0m\u001b[0;34m,\u001b[0m \u001b[0mcut_index\u001b[0m\u001b[0;34m)\u001b[0m\u001b[0;34m\u001b[0m\u001b[0;34m\u001b[0m\u001b[0m\n\u001b[1;32m    116\u001b[0m     \u001b[0mrecall\u001b[0m \u001b[0;34m=\u001b[0m \u001b[0mget_recall\u001b[0m\u001b[0;34m(\u001b[0m\u001b[0mpredicted_heads\u001b[0m\u001b[0;34m,\u001b[0m \u001b[0mtp\u001b[0m\u001b[0;34m)\u001b[0m\u001b[0;34m\u001b[0m\u001b[0;34m\u001b[0m\u001b[0m\n\u001b[0;32m--> 117\u001b[0;31m     \u001b[0mf_measure\u001b[0m \u001b[0;34m=\u001b[0m \u001b[0mget_f_measure\u001b[0m\u001b[0;34m(\u001b[0m\u001b[0mprecision\u001b[0m\u001b[0;34m,\u001b[0m \u001b[0mrecall\u001b[0m\u001b[0;34m)\u001b[0m\u001b[0;34m\u001b[0m\u001b[0;34m\u001b[0m\u001b[0m\n\u001b[0m\u001b[1;32m    118\u001b[0m     return pd.DataFrame(columns=['precision', 'recall', 'f_measure'],\n\u001b[1;32m    119\u001b[0m                         data=[[precision,recall,f_measure]], index=['MuRe'])\n",
      "\u001b[0;32m/tmp/ipykernel_5767/2177693796.py\u001b[0m in \u001b[0;36mget_f_measure\u001b[0;34m(precision, recall)\u001b[0m\n\u001b[1;32m    102\u001b[0m \u001b[0;34m\u001b[0m\u001b[0m\n\u001b[1;32m    103\u001b[0m \u001b[0;32mdef\u001b[0m \u001b[0mget_f_measure\u001b[0m\u001b[0;34m(\u001b[0m\u001b[0mprecision\u001b[0m\u001b[0;34m,\u001b[0m \u001b[0mrecall\u001b[0m\u001b[0;34m)\u001b[0m\u001b[0;34m:\u001b[0m\u001b[0;34m\u001b[0m\u001b[0;34m\u001b[0m\u001b[0m\n\u001b[0;32m--> 104\u001b[0;31m     \u001b[0mf_measure\u001b[0m \u001b[0;34m=\u001b[0m \u001b[0;36m2\u001b[0m \u001b[0;34m*\u001b[0m \u001b[0;34m(\u001b[0m\u001b[0mprecision\u001b[0m \u001b[0;34m*\u001b[0m \u001b[0mrecall\u001b[0m\u001b[0;34m)\u001b[0m \u001b[0;34m/\u001b[0m \u001b[0;34m(\u001b[0m\u001b[0mprecision\u001b[0m \u001b[0;34m+\u001b[0m \u001b[0mrecall\u001b[0m\u001b[0;34m)\u001b[0m\u001b[0;34m\u001b[0m\u001b[0;34m\u001b[0m\u001b[0m\n\u001b[0m\u001b[1;32m    105\u001b[0m     \u001b[0;32mreturn\u001b[0m \u001b[0mf_measure\u001b[0m\u001b[0;34m\u001b[0m\u001b[0;34m\u001b[0m\u001b[0m\n\u001b[1;32m    106\u001b[0m \u001b[0;34m\u001b[0m\u001b[0m\n",
      "\u001b[0;31mZeroDivisionError\u001b[0m: float division by zero"
     ]
    }
   ],
   "source": [
    "inflection_index = get_inflection_point(predicted_heads.score.values)\n",
    "compute_metrics(predicted_heads, inflection_index)"
   ]
  },
  {
   "cell_type": "markdown",
   "id": "e0da6d18",
   "metadata": {},
   "source": [
    "### Strategy 'threshold'"
   ]
  },
  {
   "cell_type": "code",
   "execution_count": 65,
   "id": "ba9dab87",
   "metadata": {},
   "outputs": [
    {
     "name": "stdout",
     "output_type": "stream",
     "text": [
      "-0.16518535614013666 130\n"
     ]
    },
    {
     "ename": "ZeroDivisionError",
     "evalue": "float division by zero",
     "output_type": "error",
     "traceback": [
      "\u001b[0;31m---------------------------------------------------------------------------\u001b[0m",
      "\u001b[0;31mZeroDivisionError\u001b[0m                         Traceback (most recent call last)",
      "\u001b[0;32m/tmp/ipykernel_5767/2765743588.py\u001b[0m in \u001b[0;36m<module>\u001b[0;34m\u001b[0m\n\u001b[1;32m      1\u001b[0m \u001b[0mthreshold\u001b[0m\u001b[0;34m,\u001b[0m \u001b[0mthreshold_index\u001b[0m \u001b[0;34m=\u001b[0m \u001b[0mget_threshold\u001b[0m\u001b[0;34m(\u001b[0m\u001b[0mpredicted_heads\u001b[0m\u001b[0;34m,\u001b[0m \u001b[0;36m90\u001b[0m\u001b[0;34m)\u001b[0m\u001b[0;34m\u001b[0m\u001b[0;34m\u001b[0m\u001b[0m\n\u001b[0;32m----> 2\u001b[0;31m \u001b[0mcompute_metrics\u001b[0m\u001b[0;34m(\u001b[0m\u001b[0mpredicted_heads\u001b[0m\u001b[0;34m,\u001b[0m \u001b[0mthreshold_index\u001b[0m\u001b[0;34m)\u001b[0m\u001b[0;34m\u001b[0m\u001b[0;34m\u001b[0m\u001b[0m\n\u001b[0m",
      "\u001b[0;32m/tmp/ipykernel_5767/2306117380.py\u001b[0m in \u001b[0;36mcompute_metrics\u001b[0;34m(predicted_heads, cut_index)\u001b[0m\n\u001b[1;32m    115\u001b[0m     \u001b[0mprecision\u001b[0m\u001b[0;34m,\u001b[0m \u001b[0mtp\u001b[0m \u001b[0;34m=\u001b[0m \u001b[0mget_precision\u001b[0m\u001b[0;34m(\u001b[0m\u001b[0mpredicted_heads\u001b[0m\u001b[0;34m,\u001b[0m \u001b[0mcut_index\u001b[0m\u001b[0;34m)\u001b[0m\u001b[0;34m\u001b[0m\u001b[0;34m\u001b[0m\u001b[0m\n\u001b[1;32m    116\u001b[0m     \u001b[0mrecall\u001b[0m \u001b[0;34m=\u001b[0m \u001b[0mget_recall\u001b[0m\u001b[0;34m(\u001b[0m\u001b[0mpredicted_heads\u001b[0m\u001b[0;34m,\u001b[0m \u001b[0mtp\u001b[0m\u001b[0;34m)\u001b[0m\u001b[0;34m\u001b[0m\u001b[0;34m\u001b[0m\u001b[0m\n\u001b[0;32m--> 117\u001b[0;31m     \u001b[0mf_measure\u001b[0m \u001b[0;34m=\u001b[0m \u001b[0mget_f_measure\u001b[0m\u001b[0;34m(\u001b[0m\u001b[0mprecision\u001b[0m\u001b[0;34m,\u001b[0m \u001b[0mrecall\u001b[0m\u001b[0;34m)\u001b[0m\u001b[0;34m\u001b[0m\u001b[0;34m\u001b[0m\u001b[0m\n\u001b[0m\u001b[1;32m    118\u001b[0m     return pd.DataFrame(columns=['precision', 'recall', 'f_measure'],\n\u001b[1;32m    119\u001b[0m                         data=[[precision,recall,f_measure]], index=['MuRe'])\n",
      "\u001b[0;32m/tmp/ipykernel_5767/2306117380.py\u001b[0m in \u001b[0;36mget_f_measure\u001b[0;34m(precision, recall)\u001b[0m\n\u001b[1;32m    102\u001b[0m \u001b[0;34m\u001b[0m\u001b[0m\n\u001b[1;32m    103\u001b[0m \u001b[0;32mdef\u001b[0m \u001b[0mget_f_measure\u001b[0m\u001b[0;34m(\u001b[0m\u001b[0mprecision\u001b[0m\u001b[0;34m,\u001b[0m \u001b[0mrecall\u001b[0m\u001b[0;34m)\u001b[0m\u001b[0;34m:\u001b[0m\u001b[0;34m\u001b[0m\u001b[0;34m\u001b[0m\u001b[0m\n\u001b[0;32m--> 104\u001b[0;31m     \u001b[0mf_measure\u001b[0m \u001b[0;34m=\u001b[0m \u001b[0;36m2\u001b[0m \u001b[0;34m*\u001b[0m \u001b[0;34m(\u001b[0m\u001b[0mprecision\u001b[0m \u001b[0;34m*\u001b[0m \u001b[0mrecall\u001b[0m\u001b[0;34m)\u001b[0m \u001b[0;34m/\u001b[0m \u001b[0;34m(\u001b[0m\u001b[0mprecision\u001b[0m \u001b[0;34m+\u001b[0m \u001b[0mrecall\u001b[0m\u001b[0;34m)\u001b[0m\u001b[0;34m\u001b[0m\u001b[0;34m\u001b[0m\u001b[0m\n\u001b[0m\u001b[1;32m    105\u001b[0m     \u001b[0;32mreturn\u001b[0m \u001b[0mf_measure\u001b[0m\u001b[0;34m\u001b[0m\u001b[0;34m\u001b[0m\u001b[0m\n\u001b[1;32m    106\u001b[0m \u001b[0;34m\u001b[0m\u001b[0m\n",
      "\u001b[0;31mZeroDivisionError\u001b[0m: float division by zero"
     ]
    }
   ],
   "source": [
    "threshold, threshold_index = get_threshold(predicted_heads, 90)\n",
    "compute_metrics(predicted_heads, threshold_index)"
   ]
  },
  {
   "cell_type": "code",
   "execution_count": null,
   "id": "8fe58edc",
   "metadata": {},
   "outputs": [],
   "source": []
  },
  {
   "cell_type": "code",
   "execution_count": null,
   "id": "f4d957b0",
   "metadata": {},
   "outputs": [],
   "source": []
  },
  {
   "cell_type": "code",
   "execution_count": 47,
   "id": "5d7c4c64",
   "metadata": {},
   "outputs": [
    {
     "data": {
      "text/html": [
       "<div>\n",
       "<style scoped>\n",
       "    .dataframe tbody tr th:only-of-type {\n",
       "        vertical-align: middle;\n",
       "    }\n",
       "\n",
       "    .dataframe tbody tr th {\n",
       "        vertical-align: top;\n",
       "    }\n",
       "\n",
       "    .dataframe thead th {\n",
       "        text-align: right;\n",
       "    }\n",
       "</style>\n",
       "<table border=\"1\" class=\"dataframe\">\n",
       "  <thead>\n",
       "    <tr style=\"text-align: right;\">\n",
       "      <th></th>\n",
       "      <th>tail_id</th>\n",
       "      <th>tail_label</th>\n",
       "      <th>score</th>\n",
       "      <th>in_training</th>\n",
       "    </tr>\n",
       "  </thead>\n",
       "  <tbody>\n",
       "    <tr>\n",
       "      <th>7183</th>\n",
       "      <td>7183</td>\n",
       "      <td>&lt;https://w3id.org/i40/sto#ISO_TS_14649-201&gt;</td>\n",
       "      <td>-7.499722</td>\n",
       "      <td>False</td>\n",
       "    </tr>\n",
       "    <tr>\n",
       "      <th>7440</th>\n",
       "      <td>7440</td>\n",
       "      <td>&lt;https://w3id.org/i40/sto#RAMIEnterprise&gt;</td>\n",
       "      <td>-8.485903</td>\n",
       "      <td>False</td>\n",
       "    </tr>\n",
       "    <tr>\n",
       "      <th>1220</th>\n",
       "      <td>1220</td>\n",
       "      <td>\"ICS 01.040.35\"@en</td>\n",
       "      <td>-8.673809</td>\n",
       "      <td>False</td>\n",
       "    </tr>\n",
       "    <tr>\n",
       "      <th>7438</th>\n",
       "      <td>7438</td>\n",
       "      <td>&lt;https://w3id.org/i40/sto#RAMIControlDevice&gt;</td>\n",
       "      <td>-8.768282</td>\n",
       "      <td>False</td>\n",
       "    </tr>\n",
       "    <tr>\n",
       "      <th>7453</th>\n",
       "      <td>7453</td>\n",
       "      <td>&lt;https://w3id.org/i40/sto#RAMIProduct&gt;</td>\n",
       "      <td>-8.774226</td>\n",
       "      <td>True</td>\n",
       "    </tr>\n",
       "    <tr>\n",
       "      <th>...</th>\n",
       "      <td>...</td>\n",
       "      <td>...</td>\n",
       "      <td>...</td>\n",
       "      <td>...</td>\n",
       "    </tr>\n",
       "    <tr>\n",
       "      <th>3319</th>\n",
       "      <td>3319</td>\n",
       "      <td>&lt;http://cs.dbpedia.org/resource/IBM&gt;</td>\n",
       "      <td>-14.668514</td>\n",
       "      <td>False</td>\n",
       "    </tr>\n",
       "    <tr>\n",
       "      <th>3243</th>\n",
       "      <td>3243</td>\n",
       "      <td>\"iShare\"@en</td>\n",
       "      <td>-14.682503</td>\n",
       "      <td>False</td>\n",
       "    </tr>\n",
       "    <tr>\n",
       "      <th>412</th>\n",
       "      <td>412</td>\n",
       "      <td>\"71\"^^&lt;http://www.w3.org/2001/XMLSchema#int&gt;</td>\n",
       "      <td>-14.758469</td>\n",
       "      <td>False</td>\n",
       "    </tr>\n",
       "    <tr>\n",
       "      <th>392</th>\n",
       "      <td>392</td>\n",
       "      <td>\"6.9E1\"^^&lt;http://www.w3.org/2001/XMLSchema#float&gt;</td>\n",
       "      <td>-14.765898</td>\n",
       "      <td>False</td>\n",
       "    </tr>\n",
       "    <tr>\n",
       "      <th>4774</th>\n",
       "      <td>4774</td>\n",
       "      <td>&lt;http://id.dbpedia.org/resource/Anonimitas&gt;</td>\n",
       "      <td>-14.788680</td>\n",
       "      <td>False</td>\n",
       "    </tr>\n",
       "  </tbody>\n",
       "</table>\n",
       "<p>8947 rows × 4 columns</p>\n",
       "</div>"
      ],
      "text/plain": [
       "      tail_id                                         tail_label      score  \\\n",
       "7183     7183        <https://w3id.org/i40/sto#ISO_TS_14649-201>  -7.499722   \n",
       "7440     7440          <https://w3id.org/i40/sto#RAMIEnterprise>  -8.485903   \n",
       "1220     1220                                 \"ICS 01.040.35\"@en  -8.673809   \n",
       "7438     7438       <https://w3id.org/i40/sto#RAMIControlDevice>  -8.768282   \n",
       "7453     7453             <https://w3id.org/i40/sto#RAMIProduct>  -8.774226   \n",
       "...       ...                                                ...        ...   \n",
       "3319     3319               <http://cs.dbpedia.org/resource/IBM> -14.668514   \n",
       "3243     3243                                        \"iShare\"@en -14.682503   \n",
       "412       412       \"71\"^^<http://www.w3.org/2001/XMLSchema#int> -14.758469   \n",
       "392       392  \"6.9E1\"^^<http://www.w3.org/2001/XMLSchema#float> -14.765898   \n",
       "4774     4774        <http://id.dbpedia.org/resource/Anonimitas> -14.788680   \n",
       "\n",
       "      in_training  \n",
       "7183        False  \n",
       "7440        False  \n",
       "1220        False  \n",
       "7438        False  \n",
       "7453         True  \n",
       "...           ...  \n",
       "3319        False  \n",
       "3243        False  \n",
       "412         False  \n",
       "392         False  \n",
       "4774        False  \n",
       "\n",
       "[8947 rows x 4 columns]"
      ]
     },
     "execution_count": 47,
     "metadata": {},
     "output_type": "execute_result"
    }
   ],
   "source": [
    "#e1 = '<https://w3id.org/i40/sto#ISO_24760>'\n",
    "#e1 = '<https://w3id.org/i40/sto#IEC_62541>'\n",
    "#e1 = '<https://w3id.org/i40/sto#ISO_18629>'\n",
    "#e1 = '<https://w3id.org/i40/sto#IEC_62237>'\n",
    "#e1 = '<https://w3id.org/i40/sto#ISO_15746>'\n",
    "e1 = '<https://w3id.org/i40/sto#ISO_TS_14649-201>'\n",
    "e2 = '<https://w3id.org/i40/sto#hasClassification>'\n",
    "predicted_tails = predict.get_tail_prediction_df(model, e1, e2, triples_factory=tf_data)\n",
    "predicted_tails"
   ]
  },
  {
   "cell_type": "code",
   "execution_count": 48,
   "id": "1fca09fc",
   "metadata": {},
   "outputs": [
    {
     "data": {
      "image/png": "[encoded data removed]",
      "text/plain": [
       "<Figure size 432x288 with 1 Axes>"
      ]
     },
     "metadata": {},
     "output_type": "display_data"
    }
   ],
   "source": [
    "score_values = predicted_tails.score.values\n",
    "plot_score_value(score_values, \"Predicted tails\")"
   ]
  },
  {
   "cell_type": "code",
   "execution_count": 51,
   "id": "b75f8259",
   "metadata": {},
   "outputs": [
    {
     "data": {
      "text/html": [
       "<div>\n",
       "<style scoped>\n",
       "    .dataframe tbody tr th:only-of-type {\n",
       "        vertical-align: middle;\n",
       "    }\n",
       "\n",
       "    .dataframe tbody tr th {\n",
       "        vertical-align: top;\n",
       "    }\n",
       "\n",
       "    .dataframe thead th {\n",
       "        text-align: right;\n",
       "    }\n",
       "</style>\n",
       "<table border=\"1\" class=\"dataframe\">\n",
       "  <thead>\n",
       "    <tr style=\"text-align: right;\">\n",
       "      <th></th>\n",
       "      <th>precision</th>\n",
       "      <th>recall</th>\n",
       "      <th>f_measure</th>\n",
       "    </tr>\n",
       "  </thead>\n",
       "  <tbody>\n",
       "    <tr>\n",
       "      <th>MuRe</th>\n",
       "      <td>0.166667</td>\n",
       "      <td>0.142857</td>\n",
       "      <td>0.153846</td>\n",
       "    </tr>\n",
       "  </tbody>\n",
       "</table>\n",
       "</div>"
      ],
      "text/plain": [
       "      precision    recall  f_measure\n",
       "MuRe   0.166667  0.142857   0.153846"
      ]
     },
     "execution_count": 51,
     "metadata": {},
     "output_type": "execute_result"
    }
   ],
   "source": [
    "predicted_tails = reset_index(predicted_tails)\n",
    "compute_metrics(predicted_tails, 5)"
   ]
  },
  {
   "cell_type": "code",
   "execution_count": null,
   "id": "7019e68d",
   "metadata": {},
   "outputs": [],
   "source": []
  }
 ],
 "metadata": {
  "kernelspec": {
   "display_name": "Python 3 (ipykernel)",
   "language": "python",
   "name": "python3"
  },
  "language_info": {
   "codemirror_mode": {
    "name": "ipython",
    "version": 3
   },
   "file_extension": ".py",
   "mimetype": "text/x-python",
   "name": "python",
   "nbconvert_exporter": "python",
   "pygments_lexer": "ipython3",
   "version": "3.8.12"
  }
 },
 "nbformat": 4,
 "nbformat_minor": 5
}
